{
 "cells": [
  {
   "cell_type": "code",
   "execution_count": 16,
   "id": "b2068fe8",
   "metadata": {},
   "outputs": [],
   "source": [
    "import string\n",
    "import random"
   ]
  },
  {
   "cell_type": "code",
   "execution_count": 6,
   "id": "e9f616f0",
   "metadata": {},
   "outputs": [],
   "source": [
    "rules = {\n",
    "        \"?*x hello ?*y\": [\n",
    "        \"How do you do. Please state your problem.\"\n",
    "        ],\n",
    "        \"?*x computer ?*y\": [\n",
    "        \"Do computers worry you?\",\n",
    "        \"What do you think about machines?\",\n",
    "        \"Why do you mention computers?\",\n",
    "        \"What do you think machines have to do with your problem?\",\n",
    "        ],\n",
    "}"
   ]
  },
  {
   "cell_type": "code",
   "execution_count": 23,
   "id": "c574758e",
   "metadata": {},
   "outputs": [],
   "source": [
    "def is_variable(pattern):\n",
    "\n",
    "    return (type(pattern) is str\n",
    "            and pattern[0] == '?'\n",
    "            and len(pattern) > 1\n",
    "            and pattern[1] != '*'\n",
    "            and pattern[1] in string.ascii_letters\n",
    "            and ' ' not in pattern)\n",
    "\n",
    "def is_segment(pattern):\n",
    "\n",
    "    return (type(pattern) is list\n",
    "            and pattern\n",
    "            and len(pattern[0]) > 2\n",
    "            and pattern[0][0] == '?'\n",
    "            and pattern[0][1] == '*'\n",
    "            and pattern[0][2] in string.ascii_letters\n",
    "            and ' ' not in pattern[0])"
   ]
  },
  {
   "cell_type": "code",
   "execution_count": 8,
   "id": "625441aa",
   "metadata": {},
   "outputs": [],
   "source": [
    "def match_pattern(pattern, user_input, bindings=None):\n",
    "\n",
    "    if bindings is False:\n",
    "        return False\n",
    "\n",
    "    if pattern == user_input:\n",
    "        return bindings\n",
    "\n",
    "    bindings = bindings or {}\n",
    "\n",
    "    if is_segment(pattern):\n",
    "        token = pattern[0] # segment variable is the first token\n",
    "        var = token[2:] # segment variable is of the form ?*x\n",
    "        return match_segment(var, pattern[1:], user_input, bindings)\n",
    "    elif is_variable(pattern):\n",
    "        var = pattern[1:] # single variables are of the form ?foo\n",
    "        return match_variable(var, [user_input], bindings)\n",
    "    elif contains_tokens(pattern) and contains_tokens(user_input):\n",
    "\n",
    "        return match_pattern(pattern[1:],\n",
    "                             user_input[1:],\n",
    "                             match_pattern(pattern[0], user_input[0], bindings))\n",
    "    else:\n",
    "        return False"
   ]
  },
  {
   "cell_type": "code",
   "execution_count": 18,
   "id": "4c2a0543",
   "metadata": {},
   "outputs": [],
   "source": [
    "def match_segment(var, pattern, user_input, bindings, start=0):\n",
    "\n",
    "    if not pattern:\n",
    "        return match_variable(var, user_input, bindings)\n",
    "\n",
    "    word = pattern[0]\n",
    "    try:\n",
    "        pos = start + user_input[start:].index(word)\n",
    "    except ValueError:\n",
    "\n",
    "        return False\n",
    "\n",
    "    var_match = match_variable(var, user_input[:pos], dict(bindings))\n",
    "    match = match_pattern(pattern, user_input[pos:], var_match)\n",
    "\n",
    "    if not match:\n",
    "        return match_segment(var, pattern, user_input, bindings, start + 1)\n",
    "    \n",
    "    return match"
   ]
  },
  {
   "cell_type": "code",
   "execution_count": 21,
   "id": "3ff1122a",
   "metadata": {},
   "outputs": [
    {
     "name": "stdout",
     "output_type": "stream",
     "text": [
      "False\n",
      "False\n",
      "[]\n"
     ]
    }
   ],
   "source": [
    "user_input = \"I am happy.\"\n",
    "\n",
    "matching_rules = []\n",
    "\n",
    "for pattern, transforms in rules.items():\n",
    "    pattern = pattern.split()\n",
    "    replacements = match_pattern(pattern, user_input)\n",
    "    print(replacements)\n",
    "    if replacements:\n",
    "        matching_rules.append((transforms, replacements))\n",
    "        \n",
    "print(matching_rules)"
   ]
  },
  {
   "cell_type": "code",
   "execution_count": 25,
   "id": "1eda075c",
   "metadata": {},
   "outputs": [
    {
     "data": {
      "text/plain": [
       "False"
      ]
     },
     "execution_count": 25,
     "metadata": {},
     "output_type": "execute_result"
    }
   ],
   "source": [
    "is_variable(\"?*x hello ?*y\")"
   ]
  },
  {
   "cell_type": "code",
   "execution_count": null,
   "id": "9e382325",
   "metadata": {},
   "outputs": [],
   "source": []
  }
 ],
 "metadata": {
  "kernelspec": {
   "display_name": "Python 3 (ipykernel)",
   "language": "python",
   "name": "python3"
  },
  "language_info": {
   "codemirror_mode": {
    "name": "ipython",
    "version": 3
   },
   "file_extension": ".py",
   "mimetype": "text/x-python",
   "name": "python",
   "nbconvert_exporter": "python",
   "pygments_lexer": "ipython3",
   "version": "3.10.4"
  }
 },
 "nbformat": 4,
 "nbformat_minor": 5
}

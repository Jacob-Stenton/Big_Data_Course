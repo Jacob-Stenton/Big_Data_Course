{
 "cells": [
  {
   "cell_type": "code",
   "execution_count": 1,
   "metadata": {},
   "outputs": [],
   "source": [
    "import requests\n",
    "\n",
    "\n",
    "from open_weather_key import API_KEY # create an \"open_weather_key.py\" file and put your api key in there"
   ]
  },
  {
   "cell_type": "code",
   "execution_count": 2,
   "metadata": {},
   "outputs": [],
   "source": [
    "# Coordinates for Bydgoszcz, PL - Marysia's hometown\n",
    "longitude = 18.00 # East - positive, West - negative\n",
    "latitude = 53.07 # North - positive, South - negative"
   ]
  },
  {
   "cell_type": "code",
   "execution_count": 3,
   "metadata": {},
   "outputs": [],
   "source": [
    "def get_weather_api_url(latitude, longitude):\n",
    "    return f\"https://api.openweathermap.org/data/2.5/weather?lat={latitude}&lon={longitude}&appid={API_KEY}\""
   ]
  },
  {
   "cell_type": "code",
   "execution_count": 11,
   "metadata": {},
   "outputs": [
    {
     "data": {
      "text/plain": [
       "200"
      ]
     },
     "execution_count": 11,
     "metadata": {},
     "output_type": "execute_result"
    }
   ],
   "source": [
    "response = requests.get(get_weather_api_url(latitude, longitude))\n",
    "response.status_code # after a successful request this should be 200"
   ]
  },
  {
   "cell_type": "code",
   "execution_count": 14,
   "metadata": {},
   "outputs": [],
   "source": [
    "weather_data = response.json()"
   ]
  },
  {
   "cell_type": "code",
   "execution_count": 10,
   "metadata": {},
   "outputs": [
    {
     "data": {
      "text/plain": [
       "{'coord': {'lon': 18, 'lat': 53.07},\n",
       " 'weather': [{'id': 800,\n",
       "   'main': 'Clear',\n",
       "   'description': 'clear sky',\n",
       "   'icon': '01d'}],\n",
       " 'base': 'stations',\n",
       " 'main': {'temp': 276.51,\n",
       "  'feels_like': 273.25,\n",
       "  'temp_min': 275.88,\n",
       "  'temp_max': 277.82,\n",
       "  'pressure': 1028,\n",
       "  'humidity': 67},\n",
       " 'visibility': 10000,\n",
       " 'wind': {'speed': 3.6, 'deg': 60},\n",
       " 'clouds': {'all': 0},\n",
       " 'dt': 1709801372,\n",
       " 'sys': {'type': 1,\n",
       "  'id': 1688,\n",
       "  'country': 'PL',\n",
       "  'sunrise': 1709788856,\n",
       "  'sunset': 1709829436},\n",
       " 'timezone': 3600,\n",
       " 'id': 3083592,\n",
       " 'name': 'Szwederowo',\n",
       " 'cod': 200}"
      ]
     },
     "execution_count": 10,
     "metadata": {},
     "output_type": "execute_result"
    }
   ],
   "source": []
  },
  {
   "cell_type": "code",
   "execution_count": null,
   "metadata": {},
   "outputs": [],
   "source": []
  }
 ],
 "metadata": {
  "kernelspec": {
   "display_name": "Python 3 (ipykernel)",
   "language": "python",
   "name": "python3"
  },
  "language_info": {
   "codemirror_mode": {
    "name": "ipython",
    "version": 3
   },
   "file_extension": ".py",
   "mimetype": "text/x-python",
   "name": "python",
   "nbconvert_exporter": "python",
   "pygments_lexer": "ipython3",
   "version": "3.11.7"
  }
 },
 "nbformat": 4,
 "nbformat_minor": 4
}

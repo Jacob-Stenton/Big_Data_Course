{
 "cells": [
  {
   "cell_type": "code",
   "execution_count": 10,
   "id": "57ec581e-6d1b-4f8a-b06d-f8d932effd05",
   "metadata": {},
   "outputs": [],
   "source": [
    "# this installs the pandas library - uncomment the line below if you don't have pandas installed, run it once, and comment it again\n",
    "# ! pip install pandas"
   ]
  },
  {
   "cell_type": "code",
   "execution_count": 14,
   "id": "3d113d02-4514-46be-8ce3-4c1bdaccb825",
   "metadata": {},
   "outputs": [],
   "source": [
    "import pandas as pd\n",
    "import requests\n",
    "\n",
    "\n",
    "# you should make a separate \"open_weather_key.py\" file and place your OpenWeatherAPI key in there\n",
    "# link to making an account: https://home.openweathermap.org/users/sign_up\n",
    "# from open_weather_key import API_KEY\n",
    "API_KEY = \"0878eb0b832579480c9b6691e9c26e11\""
   ]
  },
  {
   "cell_type": "code",
   "execution_count": 15,
   "id": "2fa35118-3eb3-4a65-85d8-e8af3bc5e19d",
   "metadata": {},
   "outputs": [],
   "source": [
    "# read the data, downloaded from here & unzipped: https://www.kaggle.com/datasets/juanmah/world-cities\n",
    "DATA_PATH = '../data/worldcities.csv'"
   ]
  },
  {
   "cell_type": "code",
   "execution_count": 16,
   "id": "eb43eb3d-d2b5-43a0-8273-1117d17a2c71",
   "metadata": {},
   "outputs": [
    {
     "ename": "FileNotFoundError",
     "evalue": "[Errno 2] No such file or directory: '../data/worldcities.csv'",
     "output_type": "error",
     "traceback": [
      "\u001b[1;31m---------------------------------------------------------------------------\u001b[0m",
      "\u001b[1;31mFileNotFoundError\u001b[0m                         Traceback (most recent call last)",
      "Cell \u001b[1;32mIn[16], line 2\u001b[0m\n\u001b[0;32m      1\u001b[0m \u001b[38;5;66;03m# read the csv data using pandas. It will be a pd.DataFrame object\u001b[39;00m\n\u001b[1;32m----> 2\u001b[0m cities_df \u001b[38;5;241m=\u001b[39m \u001b[43mpd\u001b[49m\u001b[38;5;241;43m.\u001b[39;49m\u001b[43mread_csv\u001b[49m\u001b[43m(\u001b[49m\u001b[43mDATA_PATH\u001b[49m\u001b[43m)\u001b[49m\n\u001b[0;32m      4\u001b[0m \u001b[38;5;66;03m# the pd.DataFrame.head() method displays the first 5 rows\u001b[39;00m\n\u001b[0;32m      5\u001b[0m cities_df\u001b[38;5;241m.\u001b[39mhead()\n",
      "File \u001b[1;32mc:\\Users\\Jacob\\miniconda3\\envs\\big-data-venv\\Lib\\site-packages\\pandas\\io\\parsers\\readers.py:1026\u001b[0m, in \u001b[0;36mread_csv\u001b[1;34m(filepath_or_buffer, sep, delimiter, header, names, index_col, usecols, dtype, engine, converters, true_values, false_values, skipinitialspace, skiprows, skipfooter, nrows, na_values, keep_default_na, na_filter, verbose, skip_blank_lines, parse_dates, infer_datetime_format, keep_date_col, date_parser, date_format, dayfirst, cache_dates, iterator, chunksize, compression, thousands, decimal, lineterminator, quotechar, quoting, doublequote, escapechar, comment, encoding, encoding_errors, dialect, on_bad_lines, delim_whitespace, low_memory, memory_map, float_precision, storage_options, dtype_backend)\u001b[0m\n\u001b[0;32m   1013\u001b[0m kwds_defaults \u001b[38;5;241m=\u001b[39m _refine_defaults_read(\n\u001b[0;32m   1014\u001b[0m     dialect,\n\u001b[0;32m   1015\u001b[0m     delimiter,\n\u001b[1;32m   (...)\u001b[0m\n\u001b[0;32m   1022\u001b[0m     dtype_backend\u001b[38;5;241m=\u001b[39mdtype_backend,\n\u001b[0;32m   1023\u001b[0m )\n\u001b[0;32m   1024\u001b[0m kwds\u001b[38;5;241m.\u001b[39mupdate(kwds_defaults)\n\u001b[1;32m-> 1026\u001b[0m \u001b[38;5;28;01mreturn\u001b[39;00m \u001b[43m_read\u001b[49m\u001b[43m(\u001b[49m\u001b[43mfilepath_or_buffer\u001b[49m\u001b[43m,\u001b[49m\u001b[43m \u001b[49m\u001b[43mkwds\u001b[49m\u001b[43m)\u001b[49m\n",
      "File \u001b[1;32mc:\\Users\\Jacob\\miniconda3\\envs\\big-data-venv\\Lib\\site-packages\\pandas\\io\\parsers\\readers.py:620\u001b[0m, in \u001b[0;36m_read\u001b[1;34m(filepath_or_buffer, kwds)\u001b[0m\n\u001b[0;32m    617\u001b[0m _validate_names(kwds\u001b[38;5;241m.\u001b[39mget(\u001b[38;5;124m\"\u001b[39m\u001b[38;5;124mnames\u001b[39m\u001b[38;5;124m\"\u001b[39m, \u001b[38;5;28;01mNone\u001b[39;00m))\n\u001b[0;32m    619\u001b[0m \u001b[38;5;66;03m# Create the parser.\u001b[39;00m\n\u001b[1;32m--> 620\u001b[0m parser \u001b[38;5;241m=\u001b[39m \u001b[43mTextFileReader\u001b[49m\u001b[43m(\u001b[49m\u001b[43mfilepath_or_buffer\u001b[49m\u001b[43m,\u001b[49m\u001b[43m \u001b[49m\u001b[38;5;241;43m*\u001b[39;49m\u001b[38;5;241;43m*\u001b[39;49m\u001b[43mkwds\u001b[49m\u001b[43m)\u001b[49m\n\u001b[0;32m    622\u001b[0m \u001b[38;5;28;01mif\u001b[39;00m chunksize \u001b[38;5;129;01mor\u001b[39;00m iterator:\n\u001b[0;32m    623\u001b[0m     \u001b[38;5;28;01mreturn\u001b[39;00m parser\n",
      "File \u001b[1;32mc:\\Users\\Jacob\\miniconda3\\envs\\big-data-venv\\Lib\\site-packages\\pandas\\io\\parsers\\readers.py:1620\u001b[0m, in \u001b[0;36mTextFileReader.__init__\u001b[1;34m(self, f, engine, **kwds)\u001b[0m\n\u001b[0;32m   1617\u001b[0m     \u001b[38;5;28mself\u001b[39m\u001b[38;5;241m.\u001b[39moptions[\u001b[38;5;124m\"\u001b[39m\u001b[38;5;124mhas_index_names\u001b[39m\u001b[38;5;124m\"\u001b[39m] \u001b[38;5;241m=\u001b[39m kwds[\u001b[38;5;124m\"\u001b[39m\u001b[38;5;124mhas_index_names\u001b[39m\u001b[38;5;124m\"\u001b[39m]\n\u001b[0;32m   1619\u001b[0m \u001b[38;5;28mself\u001b[39m\u001b[38;5;241m.\u001b[39mhandles: IOHandles \u001b[38;5;241m|\u001b[39m \u001b[38;5;28;01mNone\u001b[39;00m \u001b[38;5;241m=\u001b[39m \u001b[38;5;28;01mNone\u001b[39;00m\n\u001b[1;32m-> 1620\u001b[0m \u001b[38;5;28mself\u001b[39m\u001b[38;5;241m.\u001b[39m_engine \u001b[38;5;241m=\u001b[39m \u001b[38;5;28;43mself\u001b[39;49m\u001b[38;5;241;43m.\u001b[39;49m\u001b[43m_make_engine\u001b[49m\u001b[43m(\u001b[49m\u001b[43mf\u001b[49m\u001b[43m,\u001b[49m\u001b[43m \u001b[49m\u001b[38;5;28;43mself\u001b[39;49m\u001b[38;5;241;43m.\u001b[39;49m\u001b[43mengine\u001b[49m\u001b[43m)\u001b[49m\n",
      "File \u001b[1;32mc:\\Users\\Jacob\\miniconda3\\envs\\big-data-venv\\Lib\\site-packages\\pandas\\io\\parsers\\readers.py:1880\u001b[0m, in \u001b[0;36mTextFileReader._make_engine\u001b[1;34m(self, f, engine)\u001b[0m\n\u001b[0;32m   1878\u001b[0m     \u001b[38;5;28;01mif\u001b[39;00m \u001b[38;5;124m\"\u001b[39m\u001b[38;5;124mb\u001b[39m\u001b[38;5;124m\"\u001b[39m \u001b[38;5;129;01mnot\u001b[39;00m \u001b[38;5;129;01min\u001b[39;00m mode:\n\u001b[0;32m   1879\u001b[0m         mode \u001b[38;5;241m+\u001b[39m\u001b[38;5;241m=\u001b[39m \u001b[38;5;124m\"\u001b[39m\u001b[38;5;124mb\u001b[39m\u001b[38;5;124m\"\u001b[39m\n\u001b[1;32m-> 1880\u001b[0m \u001b[38;5;28mself\u001b[39m\u001b[38;5;241m.\u001b[39mhandles \u001b[38;5;241m=\u001b[39m \u001b[43mget_handle\u001b[49m\u001b[43m(\u001b[49m\n\u001b[0;32m   1881\u001b[0m \u001b[43m    \u001b[49m\u001b[43mf\u001b[49m\u001b[43m,\u001b[49m\n\u001b[0;32m   1882\u001b[0m \u001b[43m    \u001b[49m\u001b[43mmode\u001b[49m\u001b[43m,\u001b[49m\n\u001b[0;32m   1883\u001b[0m \u001b[43m    \u001b[49m\u001b[43mencoding\u001b[49m\u001b[38;5;241;43m=\u001b[39;49m\u001b[38;5;28;43mself\u001b[39;49m\u001b[38;5;241;43m.\u001b[39;49m\u001b[43moptions\u001b[49m\u001b[38;5;241;43m.\u001b[39;49m\u001b[43mget\u001b[49m\u001b[43m(\u001b[49m\u001b[38;5;124;43m\"\u001b[39;49m\u001b[38;5;124;43mencoding\u001b[39;49m\u001b[38;5;124;43m\"\u001b[39;49m\u001b[43m,\u001b[49m\u001b[43m \u001b[49m\u001b[38;5;28;43;01mNone\u001b[39;49;00m\u001b[43m)\u001b[49m\u001b[43m,\u001b[49m\n\u001b[0;32m   1884\u001b[0m \u001b[43m    \u001b[49m\u001b[43mcompression\u001b[49m\u001b[38;5;241;43m=\u001b[39;49m\u001b[38;5;28;43mself\u001b[39;49m\u001b[38;5;241;43m.\u001b[39;49m\u001b[43moptions\u001b[49m\u001b[38;5;241;43m.\u001b[39;49m\u001b[43mget\u001b[49m\u001b[43m(\u001b[49m\u001b[38;5;124;43m\"\u001b[39;49m\u001b[38;5;124;43mcompression\u001b[39;49m\u001b[38;5;124;43m\"\u001b[39;49m\u001b[43m,\u001b[49m\u001b[43m \u001b[49m\u001b[38;5;28;43;01mNone\u001b[39;49;00m\u001b[43m)\u001b[49m\u001b[43m,\u001b[49m\n\u001b[0;32m   1885\u001b[0m \u001b[43m    \u001b[49m\u001b[43mmemory_map\u001b[49m\u001b[38;5;241;43m=\u001b[39;49m\u001b[38;5;28;43mself\u001b[39;49m\u001b[38;5;241;43m.\u001b[39;49m\u001b[43moptions\u001b[49m\u001b[38;5;241;43m.\u001b[39;49m\u001b[43mget\u001b[49m\u001b[43m(\u001b[49m\u001b[38;5;124;43m\"\u001b[39;49m\u001b[38;5;124;43mmemory_map\u001b[39;49m\u001b[38;5;124;43m\"\u001b[39;49m\u001b[43m,\u001b[49m\u001b[43m \u001b[49m\u001b[38;5;28;43;01mFalse\u001b[39;49;00m\u001b[43m)\u001b[49m\u001b[43m,\u001b[49m\n\u001b[0;32m   1886\u001b[0m \u001b[43m    \u001b[49m\u001b[43mis_text\u001b[49m\u001b[38;5;241;43m=\u001b[39;49m\u001b[43mis_text\u001b[49m\u001b[43m,\u001b[49m\n\u001b[0;32m   1887\u001b[0m \u001b[43m    \u001b[49m\u001b[43merrors\u001b[49m\u001b[38;5;241;43m=\u001b[39;49m\u001b[38;5;28;43mself\u001b[39;49m\u001b[38;5;241;43m.\u001b[39;49m\u001b[43moptions\u001b[49m\u001b[38;5;241;43m.\u001b[39;49m\u001b[43mget\u001b[49m\u001b[43m(\u001b[49m\u001b[38;5;124;43m\"\u001b[39;49m\u001b[38;5;124;43mencoding_errors\u001b[39;49m\u001b[38;5;124;43m\"\u001b[39;49m\u001b[43m,\u001b[49m\u001b[43m \u001b[49m\u001b[38;5;124;43m\"\u001b[39;49m\u001b[38;5;124;43mstrict\u001b[39;49m\u001b[38;5;124;43m\"\u001b[39;49m\u001b[43m)\u001b[49m\u001b[43m,\u001b[49m\n\u001b[0;32m   1888\u001b[0m \u001b[43m    \u001b[49m\u001b[43mstorage_options\u001b[49m\u001b[38;5;241;43m=\u001b[39;49m\u001b[38;5;28;43mself\u001b[39;49m\u001b[38;5;241;43m.\u001b[39;49m\u001b[43moptions\u001b[49m\u001b[38;5;241;43m.\u001b[39;49m\u001b[43mget\u001b[49m\u001b[43m(\u001b[49m\u001b[38;5;124;43m\"\u001b[39;49m\u001b[38;5;124;43mstorage_options\u001b[39;49m\u001b[38;5;124;43m\"\u001b[39;49m\u001b[43m,\u001b[49m\u001b[43m \u001b[49m\u001b[38;5;28;43;01mNone\u001b[39;49;00m\u001b[43m)\u001b[49m\u001b[43m,\u001b[49m\n\u001b[0;32m   1889\u001b[0m \u001b[43m\u001b[49m\u001b[43m)\u001b[49m\n\u001b[0;32m   1890\u001b[0m \u001b[38;5;28;01massert\u001b[39;00m \u001b[38;5;28mself\u001b[39m\u001b[38;5;241m.\u001b[39mhandles \u001b[38;5;129;01mis\u001b[39;00m \u001b[38;5;129;01mnot\u001b[39;00m \u001b[38;5;28;01mNone\u001b[39;00m\n\u001b[0;32m   1891\u001b[0m f \u001b[38;5;241m=\u001b[39m \u001b[38;5;28mself\u001b[39m\u001b[38;5;241m.\u001b[39mhandles\u001b[38;5;241m.\u001b[39mhandle\n",
      "File \u001b[1;32mc:\\Users\\Jacob\\miniconda3\\envs\\big-data-venv\\Lib\\site-packages\\pandas\\io\\common.py:873\u001b[0m, in \u001b[0;36mget_handle\u001b[1;34m(path_or_buf, mode, encoding, compression, memory_map, is_text, errors, storage_options)\u001b[0m\n\u001b[0;32m    868\u001b[0m \u001b[38;5;28;01melif\u001b[39;00m \u001b[38;5;28misinstance\u001b[39m(handle, \u001b[38;5;28mstr\u001b[39m):\n\u001b[0;32m    869\u001b[0m     \u001b[38;5;66;03m# Check whether the filename is to be opened in binary mode.\u001b[39;00m\n\u001b[0;32m    870\u001b[0m     \u001b[38;5;66;03m# Binary mode does not support 'encoding' and 'newline'.\u001b[39;00m\n\u001b[0;32m    871\u001b[0m     \u001b[38;5;28;01mif\u001b[39;00m ioargs\u001b[38;5;241m.\u001b[39mencoding \u001b[38;5;129;01mand\u001b[39;00m \u001b[38;5;124m\"\u001b[39m\u001b[38;5;124mb\u001b[39m\u001b[38;5;124m\"\u001b[39m \u001b[38;5;129;01mnot\u001b[39;00m \u001b[38;5;129;01min\u001b[39;00m ioargs\u001b[38;5;241m.\u001b[39mmode:\n\u001b[0;32m    872\u001b[0m         \u001b[38;5;66;03m# Encoding\u001b[39;00m\n\u001b[1;32m--> 873\u001b[0m         handle \u001b[38;5;241m=\u001b[39m \u001b[38;5;28;43mopen\u001b[39;49m\u001b[43m(\u001b[49m\n\u001b[0;32m    874\u001b[0m \u001b[43m            \u001b[49m\u001b[43mhandle\u001b[49m\u001b[43m,\u001b[49m\n\u001b[0;32m    875\u001b[0m \u001b[43m            \u001b[49m\u001b[43mioargs\u001b[49m\u001b[38;5;241;43m.\u001b[39;49m\u001b[43mmode\u001b[49m\u001b[43m,\u001b[49m\n\u001b[0;32m    876\u001b[0m \u001b[43m            \u001b[49m\u001b[43mencoding\u001b[49m\u001b[38;5;241;43m=\u001b[39;49m\u001b[43mioargs\u001b[49m\u001b[38;5;241;43m.\u001b[39;49m\u001b[43mencoding\u001b[49m\u001b[43m,\u001b[49m\n\u001b[0;32m    877\u001b[0m \u001b[43m            \u001b[49m\u001b[43merrors\u001b[49m\u001b[38;5;241;43m=\u001b[39;49m\u001b[43merrors\u001b[49m\u001b[43m,\u001b[49m\n\u001b[0;32m    878\u001b[0m \u001b[43m            \u001b[49m\u001b[43mnewline\u001b[49m\u001b[38;5;241;43m=\u001b[39;49m\u001b[38;5;124;43m\"\u001b[39;49m\u001b[38;5;124;43m\"\u001b[39;49m\u001b[43m,\u001b[49m\n\u001b[0;32m    879\u001b[0m \u001b[43m        \u001b[49m\u001b[43m)\u001b[49m\n\u001b[0;32m    880\u001b[0m     \u001b[38;5;28;01melse\u001b[39;00m:\n\u001b[0;32m    881\u001b[0m         \u001b[38;5;66;03m# Binary mode\u001b[39;00m\n\u001b[0;32m    882\u001b[0m         handle \u001b[38;5;241m=\u001b[39m \u001b[38;5;28mopen\u001b[39m(handle, ioargs\u001b[38;5;241m.\u001b[39mmode)\n",
      "\u001b[1;31mFileNotFoundError\u001b[0m: [Errno 2] No such file or directory: '../data/worldcities.csv'"
     ]
    }
   ],
   "source": [
    "# read the csv data using pandas. It will be a pd.DataFrame object\n",
    "cities_df = pd.read_csv(DATA_PATH)\n",
    "\n",
    "# the pd.DataFrame.head() method displays the first 5 rows\n",
    "cities_df.head()"
   ]
  },
  {
   "cell_type": "code",
   "execution_count": 5,
   "id": "70030880-03f5-4e07-b30a-f065f0bbe1d6",
   "metadata": {},
   "outputs": [],
   "source": [
    "# sort the dataframe according to the latitude column\n",
    "# and make a new dataframe of 5 southernmost cities\n",
    "south_5 = cities_df.sort_values(\"lat\")[:5]"
   ]
  },
  {
   "cell_type": "code",
   "execution_count": 6,
   "id": "fab0cb99-8e48-4d79-9f51-b836e7b171bb",
   "metadata": {},
   "outputs": [
    {
     "data": {
      "text/html": [
       "<div>\n",
       "<style scoped>\n",
       "    .dataframe tbody tr th:only-of-type {\n",
       "        vertical-align: middle;\n",
       "    }\n",
       "\n",
       "    .dataframe tbody tr th {\n",
       "        vertical-align: top;\n",
       "    }\n",
       "\n",
       "    .dataframe thead th {\n",
       "        text-align: right;\n",
       "    }\n",
       "</style>\n",
       "<table border=\"1\" class=\"dataframe\">\n",
       "  <thead>\n",
       "    <tr style=\"text-align: right;\">\n",
       "      <th></th>\n",
       "      <th>city</th>\n",
       "      <th>city_ascii</th>\n",
       "      <th>lat</th>\n",
       "      <th>lng</th>\n",
       "      <th>country</th>\n",
       "      <th>iso2</th>\n",
       "      <th>iso3</th>\n",
       "      <th>admin_name</th>\n",
       "      <th>capital</th>\n",
       "      <th>population</th>\n",
       "      <th>id</th>\n",
       "    </tr>\n",
       "  </thead>\n",
       "  <tbody>\n",
       "    <tr>\n",
       "      <th>43793</th>\n",
       "      <td>Puerto Williams</td>\n",
       "      <td>Puerto Williams</td>\n",
       "      <td>-54.9333</td>\n",
       "      <td>-67.6167</td>\n",
       "      <td>Chile</td>\n",
       "      <td>CL</td>\n",
       "      <td>CHL</td>\n",
       "      <td>Magallanes y de la Antártica Chilena</td>\n",
       "      <td>minor</td>\n",
       "      <td>1646.0</td>\n",
       "      <td>1152455279</td>\n",
       "    </tr>\n",
       "    <tr>\n",
       "      <th>7018</th>\n",
       "      <td>Ushuaia</td>\n",
       "      <td>Ushuaia</td>\n",
       "      <td>-54.8019</td>\n",
       "      <td>-68.3031</td>\n",
       "      <td>Argentina</td>\n",
       "      <td>AR</td>\n",
       "      <td>ARG</td>\n",
       "      <td>Tierra del Fuego, Antártida e Islas del Atlánt...</td>\n",
       "      <td>admin</td>\n",
       "      <td>56956.0</td>\n",
       "      <td>1032847885</td>\n",
       "    </tr>\n",
       "    <tr>\n",
       "      <th>909</th>\n",
       "      <td>King Edward Point</td>\n",
       "      <td>King Edward Point</td>\n",
       "      <td>-54.2833</td>\n",
       "      <td>-36.5000</td>\n",
       "      <td>South Georgia And South Sandwich Islands</td>\n",
       "      <td>GS</td>\n",
       "      <td>SGS</td>\n",
       "      <td>NaN</td>\n",
       "      <td>primary</td>\n",
       "      <td>NaN</td>\n",
       "      <td>1239048838</td>\n",
       "    </tr>\n",
       "    <tr>\n",
       "      <th>44648</th>\n",
       "      <td>Grytviken</td>\n",
       "      <td>Grytviken</td>\n",
       "      <td>-54.2806</td>\n",
       "      <td>-36.5080</td>\n",
       "      <td>South Georgia and South Sandwich Islands</td>\n",
       "      <td>GS</td>\n",
       "      <td>SGS</td>\n",
       "      <td>NaN</td>\n",
       "      <td>NaN</td>\n",
       "      <td>99.0</td>\n",
       "      <td>1239048837</td>\n",
       "    </tr>\n",
       "    <tr>\n",
       "      <th>13663</th>\n",
       "      <td>Río Grande</td>\n",
       "      <td>Rio Grande</td>\n",
       "      <td>-53.7833</td>\n",
       "      <td>-67.7000</td>\n",
       "      <td>Argentina</td>\n",
       "      <td>AR</td>\n",
       "      <td>ARG</td>\n",
       "      <td>Tierra del Fuego, Antártida e Islas del Atlánt...</td>\n",
       "      <td>minor</td>\n",
       "      <td>67038.0</td>\n",
       "      <td>1032824067</td>\n",
       "    </tr>\n",
       "  </tbody>\n",
       "</table>\n",
       "</div>"
      ],
      "text/plain": [
       "                    city         city_ascii      lat      lng  \\\n",
       "43793    Puerto Williams    Puerto Williams -54.9333 -67.6167   \n",
       "7018             Ushuaia            Ushuaia -54.8019 -68.3031   \n",
       "909    King Edward Point  King Edward Point -54.2833 -36.5000   \n",
       "44648          Grytviken          Grytviken -54.2806 -36.5080   \n",
       "13663         Río Grande         Rio Grande -53.7833 -67.7000   \n",
       "\n",
       "                                        country iso2 iso3  \\\n",
       "43793                                     Chile   CL  CHL   \n",
       "7018                                  Argentina   AR  ARG   \n",
       "909    South Georgia And South Sandwich Islands   GS  SGS   \n",
       "44648  South Georgia and South Sandwich Islands   GS  SGS   \n",
       "13663                                 Argentina   AR  ARG   \n",
       "\n",
       "                                              admin_name  capital  population  \\\n",
       "43793               Magallanes y de la Antártica Chilena    minor      1646.0   \n",
       "7018   Tierra del Fuego, Antártida e Islas del Atlánt...    admin     56956.0   \n",
       "909                                                  NaN  primary         NaN   \n",
       "44648                                                NaN      NaN        99.0   \n",
       "13663  Tierra del Fuego, Antártida e Islas del Atlánt...    minor     67038.0   \n",
       "\n",
       "               id  \n",
       "43793  1152455279  \n",
       "7018   1032847885  \n",
       "909    1239048838  \n",
       "44648  1239048837  \n",
       "13663  1032824067  "
      ]
     },
     "execution_count": 6,
     "metadata": {},
     "output_type": "execute_result"
    }
   ],
   "source": [
    "south_5"
   ]
  },
  {
   "cell_type": "code",
   "execution_count": 7,
   "id": "b53a2af3-20f2-4ca5-a06f-78cc49407a1a",
   "metadata": {},
   "outputs": [],
   "source": [
    "# get the first element of the \"lat\" (latitude) and \"lng\" (longitude) columns. The indices from the original file are preserved,\n",
    "# hence the \"iloc\" method - it takes the first elemen=t regardless of the index\n",
    "latitude = south_5[\"lat\"].iloc[0] \n",
    "longitude = south_5[\"lng\"].iloc[0]"
   ]
  },
  {
   "cell_type": "code",
   "execution_count": 8,
   "id": "f1b2ffec-d5ba-48c8-a816-223f0dece820",
   "metadata": {},
   "outputs": [],
   "source": [
    "def get_weather_api_url(latitude, longitude):\n",
    "    return f\"https://api.openweathermap.org/data/2.5/weather?lat={latitude}&lon={longitude}&appid={API_KEY}\""
   ]
  },
  {
   "cell_type": "code",
   "execution_count": 9,
   "id": "f9282597-603b-45f7-9ce8-ecdba5ed1982",
   "metadata": {},
   "outputs": [
    {
     "name": "stdout",
     "output_type": "stream",
     "text": [
      "200\n"
     ]
    },
    {
     "data": {
      "text/plain": [
       "{'coord': {'lon': -67.6167, 'lat': -54.9333},\n",
       " 'weather': [{'id': 803,\n",
       "   'main': 'Clouds',\n",
       "   'description': 'broken clouds',\n",
       "   'icon': '04d'}],\n",
       " 'base': 'stations',\n",
       " 'main': {'temp': 281.26,\n",
       "  'feels_like': 280.6,\n",
       "  'temp_min': 281.26,\n",
       "  'temp_max': 281.29,\n",
       "  'pressure': 1002,\n",
       "  'humidity': 93},\n",
       " 'visibility': 10000,\n",
       " 'wind': {'speed': 1.54, 'deg': 310},\n",
       " 'clouds': {'all': 75},\n",
       " 'dt': 1709818182,\n",
       " 'sys': {'type': 1,\n",
       "  'id': 8502,\n",
       "  'country': 'CL',\n",
       "  'sunrise': 1709806009,\n",
       "  'sunset': 1709853372},\n",
       " 'timezone': -10800,\n",
       " 'id': 3874926,\n",
       " 'name': 'Puerto Williams',\n",
       " 'cod': 200}"
      ]
     },
     "execution_count": 9,
     "metadata": {},
     "output_type": "execute_result"
    }
   ],
   "source": [
    "# Let's get and preview weather data about the southernmost city in the dataset! (Should be Puerto Williams)\n",
    "request_url = f\"https://api.openweathermap.org/data/2.5/weather?lat={latitude}&lon={longitude}&appid={API_KEY}\"\n",
    "response = requests.get(get_weather_api_url(latitude, longitude))\n",
    "\n",
    "print(response.status_code) # this should print 200 for a successful request.\n",
    "# If it's not working in VSCode, try running the upyter notebook in the browser.\n",
    "# Let's preview the json with weather info\n",
    "response.json()"
   ]
  },
  {
   "cell_type": "code",
   "execution_count": 10,
   "id": "97442815-d83a-40fd-ab0e-0c34e50bcf55",
   "metadata": {},
   "outputs": [],
   "source": [
    "# Now, we're going to add a column with wind speed to the south_5 dataframe.\n",
    "\n",
    "# This function gets just the windspeed for the required latitude and longitude\n",
    "def get_wind_speed(latitude, longitude):\n",
    "    \n",
    "    response = requests.get(get_weather_api_url(latitude, longitude))\n",
    "    wind_speed = response.json()[\"wind\"][\"speed\"]\n",
    "    \n",
    "    return wind_speed"
   ]
  },
  {
   "cell_type": "code",
   "execution_count": 11,
   "id": "873228ea-8a37-4c35-a8af-7e4e18911bd1",
   "metadata": {},
   "outputs": [
    {
     "data": {
      "text/plain": [
       "1.54"
      ]
     },
     "execution_count": 11,
     "metadata": {},
     "output_type": "execute_result"
    }
   ],
   "source": [
    "# Let's check the windspeed for our selected city. \n",
    "# Note: the weather data are close to real-time, so the windspeed may change quite a lot f you run the cell again\n",
    "get_wind_speed(latitude, longitude)"
   ]
  },
  {
   "cell_type": "code",
   "execution_count": 12,
   "id": "42417534-a00f-4ef4-88e3-85cc1cc47155",
   "metadata": {},
   "outputs": [
    {
     "name": "stdout",
     "output_type": "stream",
     "text": [
      "['Puerto Williams', 'Ushuaia', 'King Edward Point', 'Grytviken', 'Río Grande']\n",
      "[1.54, 1.54, 2.15, 2.12, 2.57]\n"
     ]
    }
   ],
   "source": [
    "# Now, let's get the wind data using a simple loop.\n",
    "cities_list = south_5.city.tolist()\n",
    "print(cities_list)\n",
    "\n",
    "windspeed_list = []\n",
    "\n",
    "for c_index, city in enumerate(cities_list):\n",
    "    \n",
    "    latitude = south_5[\"lat\"].iloc[c_index]\n",
    "    longitude = south_5[\"lng\"].iloc[c_index]\n",
    "    wind_speed = get_wind_speed(latitude, longitude)\n",
    "    \n",
    "    windspeed_list.append(wind_speed)\n",
    "\n",
    "print(windspeed_list)"
   ]
  },
  {
   "cell_type": "code",
   "execution_count": 13,
   "id": "3dd7db58-ce04-4826-a1a5-24fa37176761",
   "metadata": {},
   "outputs": [
    {
     "data": {
      "text/plain": [
       "43793    1.54\n",
       "7018     1.54\n",
       "909      2.15\n",
       "44648    2.12\n",
       "13663    2.57\n",
       "dtype: float64"
      ]
     },
     "execution_count": 13,
     "metadata": {},
     "output_type": "execute_result"
    }
   ],
   "source": [
    "# this is how you can get the windspeeds using a more \"pandas-native\" way.\n",
    "# This can be really helpful when performing more complex operations.\n",
    "\n",
    "# Lambda functions are very useful for performing the same operation in every element of an iterable.\n",
    "# More on lambda: https://www.freecodecamp.org/news/python-lambda-function-explained/\n",
    "# More on pd.DataFrame.apply: https://pandas.pydata.org/pandas-docs/stable/reference/api/pandas.DataFrame.apply.html\n",
    "# The \"axis\" parameter decides whether we're working with rows or columns.\n",
    "windspeeds = south_5.apply(lambda x: get_wind_speed(x[\"lat\"], x[\"lng\"]), axis=1)\n",
    "\n",
    "# The returned object is a pd.Series, which can also be a single row or column of a DataFrame.\n",
    "windspeeds"
   ]
  },
  {
   "cell_type": "code",
   "execution_count": 14,
   "id": "c8515edd-c861-4205-adf6-3a59f9c5378a",
   "metadata": {},
   "outputs": [],
   "source": [
    "# Let's add the windspeed Series as a column to the south_5 DataFrame\n",
    "south_5[\"windspeed\"] = windspeeds # add a column called windspeed and put the windspeed series there"
   ]
  },
  {
   "cell_type": "code",
   "execution_count": 15,
   "id": "31facae2-5cdd-4d2f-ace2-bcf33f055e6a",
   "metadata": {},
   "outputs": [],
   "source": [
    "# Saving the final file\n",
    "south_5.to_csv(\"city_windspeed.csv\")"
   ]
  },
  {
   "cell_type": "code",
   "execution_count": 16,
   "id": "b7acf002-38d2-486e-83a5-6ffae6d13ee9",
   "metadata": {},
   "outputs": [],
   "source": [
    "# Recap - reading the file.\n",
    "# When you have a longer data pipeline, you may want to save it every few steps and then read\n",
    "# the saved partially processed data instead of running the process from the start again.\n",
    "# It's also good practice to always save processed data under a different name and never edit the original dataset without a copy.\n",
    "\n",
    "df = pd.read_csv(\"city_windspeed.csv\")\n",
    "\n",
    "# Now you're ready to do some further data processing!"
   ]
  },
  {
   "cell_type": "markdown",
   "id": "61e2cebc-7a07-4dea-8f49-5ed720cfcb17",
   "metadata": {},
   "source": [
    "### Homework\n",
    "Find a different dataset, perform some operations on it and save it as a new file. Try to find 3 things about it. You can combine it with using an API if you want - try the OpenWeatherAPI, or maybe Spotify, or Twitter?\n",
    "\n",
    "You can use the datasets from here:\n",
    "https://moodle.arts.ac.uk/mod/page/view.php?id=1165663\n",
    "\n",
    "#### Example: Tate collections (https://www.data.gov.uk/dataset/ae739939-2aad-427b-b3b2-66a2bf2954a8/collections-database)\n",
    "\n",
    "What is the oldest exhibit in the Tate collection?\n",
    "\n",
    "What is the smallest one?\n",
    "\n",
    "Which artist has the most artworks in the collection?\n",
    "\n",
    "<b>Try to use pandas documentation and a search engine to find the methods you need. </b>\n",
    "\n",
    "https://pandas.pydata.org/pandas-docs/stable/index.html"
   ]
  },
  {
   "cell_type": "code",
   "execution_count": null,
   "id": "4fedf922-73ad-468e-8d3b-f7dcd8dc5830",
   "metadata": {},
   "outputs": [],
   "source": []
  }
 ],
 "metadata": {
  "kernelspec": {
   "display_name": "Python 3 (ipykernel)",
   "language": "python",
   "name": "python3"
  },
  "language_info": {
   "codemirror_mode": {
    "name": "ipython",
    "version": 3
   },
   "file_extension": ".py",
   "mimetype": "text/x-python",
   "name": "python",
   "nbconvert_exporter": "python",
   "pygments_lexer": "ipython3",
   "version": "3.11.7"
  }
 },
 "nbformat": 4,
 "nbformat_minor": 5
}

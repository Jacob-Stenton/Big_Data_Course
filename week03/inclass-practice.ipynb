{
 "cells": [
  {
   "cell_type": "code",
   "execution_count": 1,
   "metadata": {},
   "outputs": [],
   "source": [
    "import requests\n",
    "import json\n"
   ]
  },
  {
   "cell_type": "markdown",
   "metadata": {},
   "source": [
    "## GET RQUEST \n",
    "Go through this [pokemon api docs](https://pokeapi.co/docs/v2) and try some request. Akso "
   ]
  },
  {
   "cell_type": "code",
   "execution_count": 2,
   "metadata": {},
   "outputs": [],
   "source": [
    "r = requests.get('https://pokeapi.co/api/v2/ability/?limit=20&offset=20')"
   ]
  },
  {
   "cell_type": "code",
   "execution_count": 3,
   "metadata": {},
   "outputs": [
    {
     "data": {
      "text/plain": "200"
     },
     "execution_count": 3,
     "metadata": {},
     "output_type": "execute_result"
    }
   ],
   "source": [
    "r.status_code"
   ]
  },
  {
   "cell_type": "code",
   "execution_count": 4,
   "metadata": {},
   "outputs": [
    {
     "data": {
      "text/plain": "{'count': 358,\n 'next': 'https://pokeapi.co/api/v2/ability/?offset=40&limit=20',\n 'previous': 'https://pokeapi.co/api/v2/ability/?offset=0&limit=20',\n 'results': [{'name': 'suction-cups',\n   'url': 'https://pokeapi.co/api/v2/ability/21/'},\n  {'name': 'intimidate', 'url': 'https://pokeapi.co/api/v2/ability/22/'},\n  {'name': 'shadow-tag', 'url': 'https://pokeapi.co/api/v2/ability/23/'},\n  {'name': 'rough-skin', 'url': 'https://pokeapi.co/api/v2/ability/24/'},\n  {'name': 'wonder-guard', 'url': 'https://pokeapi.co/api/v2/ability/25/'},\n  {'name': 'levitate', 'url': 'https://pokeapi.co/api/v2/ability/26/'},\n  {'name': 'effect-spore', 'url': 'https://pokeapi.co/api/v2/ability/27/'},\n  {'name': 'synchronize', 'url': 'https://pokeapi.co/api/v2/ability/28/'},\n  {'name': 'clear-body', 'url': 'https://pokeapi.co/api/v2/ability/29/'},\n  {'name': 'natural-cure', 'url': 'https://pokeapi.co/api/v2/ability/30/'},\n  {'name': 'lightning-rod', 'url': 'https://pokeapi.co/api/v2/ability/31/'},\n  {'name': 'serene-grace', 'url': 'https://pokeapi.co/api/v2/ability/32/'},\n  {'name': 'swift-swim', 'url': 'https://pokeapi.co/api/v2/ability/33/'},\n  {'name': 'chlorophyll', 'url': 'https://pokeapi.co/api/v2/ability/34/'},\n  {'name': 'illuminate', 'url': 'https://pokeapi.co/api/v2/ability/35/'},\n  {'name': 'trace', 'url': 'https://pokeapi.co/api/v2/ability/36/'},\n  {'name': 'huge-power', 'url': 'https://pokeapi.co/api/v2/ability/37/'},\n  {'name': 'poison-point', 'url': 'https://pokeapi.co/api/v2/ability/38/'},\n  {'name': 'inner-focus', 'url': 'https://pokeapi.co/api/v2/ability/39/'},\n  {'name': 'magma-armor', 'url': 'https://pokeapi.co/api/v2/ability/40/'}]}"
     },
     "execution_count": 4,
     "metadata": {},
     "output_type": "execute_result"
    }
   ],
   "source": [
    "r.json()"
   ]
  },
  {
   "cell_type": "code",
   "execution_count": 5,
   "metadata": {},
   "outputs": [
    {
     "ename": "SyntaxError",
     "evalue": "invalid syntax (4199404318.py, line 1)",
     "output_type": "error",
     "traceback": [
      "\u001B[0;36m  Cell \u001B[0;32mIn[5], line 1\u001B[0;36m\u001B[0m\n\u001B[0;31m    https://pokeapi.co/docs/v2\u001B[0m\n\u001B[0m          ^\u001B[0m\n\u001B[0;31mSyntaxError\u001B[0m\u001B[0;31m:\u001B[0m invalid syntax\n"
     ]
    }
   ],
   "source": [
    "https://pokeapi.co/docs/v2"
   ]
  },
  {
   "cell_type": "markdown",
   "metadata": {},
   "source": [
    "## POST REQUEST \n",
    "[Example](https://reqbin.com/code/python)"
   ]
  },
  {
   "cell_type": "markdown",
   "metadata": {},
   "source": [
    "## PUT REQUEST\n",
    "[Example](https://reqbin.com/post-online)"
   ]
  },
  {
   "cell_type": "code",
   "execution_count": null,
   "metadata": {},
   "outputs": [],
   "source": [
    "[More http request Methods](https://www.w3schools.com/python/module_requests.asp)"
   ]
  }
 ],
 "metadata": {
  "kernelspec": {
   "display_name": "Python 3 (ipykernel)",
   "language": "python",
   "name": "python3"
  },
  "language_info": {
   "codemirror_mode": {
    "name": "ipython",
    "version": 3
   },
   "file_extension": ".py",
   "mimetype": "text/x-python",
   "name": "python",
   "nbconvert_exporter": "python",
   "pygments_lexer": "ipython3",
   "version": "3.9.7"
  }
 },
 "nbformat": 4,
 "nbformat_minor": 1
}

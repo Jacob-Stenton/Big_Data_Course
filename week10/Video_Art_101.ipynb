{
 "cells": [
  {
   "cell_type": "code",
   "execution_count": 44,
   "outputs": [],
   "source": [
    "from pytube import YouTube\n",
    "from IPython.display import Image\n",
    "from moviepy.editor import VideoFileClip, CompositeVideoClip, TextClip, AudioFileClip, CompositeAudioClip\n",
    "from gtts import gTTS"
   ],
   "metadata": {
    "collapsed": false,
    "pycharm": {
     "name": "#%%\n"
    }
   }
  },
  {
   "cell_type": "markdown",
   "id": "8e0b2834",
   "metadata": {},
   "source": [
    "# Video Art 101\n",
    "\n",
    "In [_Spectacle, Speculation and Spam_](https://alanwarburton.co.uk/spectacle-speculation-spam) Alan Warbuton describes a certain formula for creating video art (which was relevant at the time he made the video any way). This seems too irrestible not to try and automate!\n",
    "\n",
    "[![Spectacle, Speculation, Spam thumbnail](./images/spec_spec_spam.png)](https://alanwarburton.co.uk/spectacle-speculation-spam)\n",
    "\n",
    "> Skip to 4 minutes for when Warbuton describes the video art recipe.\n",
    "\n",
    "1. Conflicting Aspect Ratios\n",
    "2. Some CGI\n",
    "3. Inset, uncredited YouTube footage\n",
    "4. Rhizomatic subtitles with text-to-speech voiceover\n",
    "5. Ugly big font\n",
    "\n",
    "There are a few useful tools at our disposal which will make this fairly straightforward... hopefully."
   ]
  },
  {
   "cell_type": "markdown",
   "id": "bbb9c9dc",
   "metadata": {},
   "source": [
    "## Getting Video"
   ]
  },
  {
   "cell_type": "markdown",
   "id": "4b413f20",
   "metadata": {},
   "source": [
    "First pass a YouTube URL to `pytube`. See more info in the [PyTube docs here](https://pytube.io/en/latest/user/quickstart.html)."
   ]
  },
  {
   "cell_type": "markdown",
   "source": [],
   "metadata": {
    "collapsed": false
   }
  },
  {
   "cell_type": "code",
   "execution_count": 2,
   "id": "8f1dd3af",
   "metadata": {},
   "outputs": [],
   "source": [
    "interior_design_video = YouTube(\"https://youtu.be/x7gqoHNgO-g\")"
   ]
  },
  {
   "cell_type": "markdown",
   "id": "86ce8ba4",
   "metadata": {},
   "source": [
    "This object contains lots of information about the video."
   ]
  },
  {
   "cell_type": "markdown",
   "source": [],
   "metadata": {
    "collapsed": false
   }
  },
  {
   "cell_type": "code",
   "execution_count": 3,
   "id": "2de88eb9",
   "metadata": {},
   "outputs": [
    {
     "data": {
      "text/plain": "'Interior Design Ideas | Free HD VIDEO - No Copyright'"
     },
     "execution_count": 3,
     "metadata": {},
     "output_type": "execute_result"
    }
   ],
   "source": [
    "interior_design_video.title"
   ]
  },
  {
   "cell_type": "code",
   "execution_count": 4,
   "id": "8ed957b5",
   "metadata": {},
   "outputs": [
    {
     "data": {
      "text/html": "<img src=\"https://i.ytimg.com/vi/x7gqoHNgO-g/hq720.jpg\"/>",
      "text/plain": "<IPython.core.display.Image object>"
     },
     "execution_count": 4,
     "metadata": {},
     "output_type": "execute_result"
    }
   ],
   "source": [
    "Image(url= interior_design_video.thumbnail_url)"
   ]
  },
  {
   "cell_type": "markdown",
   "id": "26396ac2",
   "metadata": {},
   "source": [
    "The object we created also contains versions of the video and/or audio file we can download. See what's available to download by looking at the `streams`"
   ]
  },
  {
   "cell_type": "code",
   "execution_count": 5,
   "id": "65ab5c54",
   "metadata": {},
   "outputs": [
    {
     "name": "stdout",
     "output_type": "stream",
     "text": [
      "<Stream: itag=\"17\" mime_type=\"video/3gpp\" res=\"144p\" fps=\"7fps\" vcodec=\"mp4v.20.3\" acodec=\"mp4a.40.2\" progressive=\"True\" type=\"video\">\n",
      "<Stream: itag=\"18\" mime_type=\"video/mp4\" res=\"360p\" fps=\"30fps\" vcodec=\"avc1.42001E\" acodec=\"mp4a.40.2\" progressive=\"True\" type=\"video\">\n",
      "<Stream: itag=\"22\" mime_type=\"video/mp4\" res=\"720p\" fps=\"30fps\" vcodec=\"avc1.64001F\" acodec=\"mp4a.40.2\" progressive=\"True\" type=\"video\">\n",
      "<Stream: itag=\"137\" mime_type=\"video/mp4\" res=\"1080p\" fps=\"30fps\" vcodec=\"avc1.640028\" progressive=\"False\" type=\"video\">\n",
      "<Stream: itag=\"248\" mime_type=\"video/webm\" res=\"1080p\" fps=\"30fps\" vcodec=\"vp9\" progressive=\"False\" type=\"video\">\n",
      "<Stream: itag=\"136\" mime_type=\"video/mp4\" res=\"720p\" fps=\"30fps\" vcodec=\"avc1.64001f\" progressive=\"False\" type=\"video\">\n",
      "<Stream: itag=\"247\" mime_type=\"video/webm\" res=\"720p\" fps=\"30fps\" vcodec=\"vp9\" progressive=\"False\" type=\"video\">\n",
      "<Stream: itag=\"135\" mime_type=\"video/mp4\" res=\"480p\" fps=\"30fps\" vcodec=\"avc1.4d401f\" progressive=\"False\" type=\"video\">\n",
      "<Stream: itag=\"244\" mime_type=\"video/webm\" res=\"480p\" fps=\"30fps\" vcodec=\"vp9\" progressive=\"False\" type=\"video\">\n",
      "<Stream: itag=\"134\" mime_type=\"video/mp4\" res=\"360p\" fps=\"30fps\" vcodec=\"avc1.4d401e\" progressive=\"False\" type=\"video\">\n",
      "<Stream: itag=\"243\" mime_type=\"video/webm\" res=\"360p\" fps=\"30fps\" vcodec=\"vp9\" progressive=\"False\" type=\"video\">\n",
      "<Stream: itag=\"133\" mime_type=\"video/mp4\" res=\"240p\" fps=\"30fps\" vcodec=\"avc1.4d4015\" progressive=\"False\" type=\"video\">\n",
      "<Stream: itag=\"242\" mime_type=\"video/webm\" res=\"240p\" fps=\"30fps\" vcodec=\"vp9\" progressive=\"False\" type=\"video\">\n",
      "<Stream: itag=\"160\" mime_type=\"video/mp4\" res=\"144p\" fps=\"30fps\" vcodec=\"avc1.4d400c\" progressive=\"False\" type=\"video\">\n",
      "<Stream: itag=\"278\" mime_type=\"video/webm\" res=\"144p\" fps=\"30fps\" vcodec=\"vp9\" progressive=\"False\" type=\"video\">\n",
      "<Stream: itag=\"139\" mime_type=\"audio/mp4\" abr=\"48kbps\" acodec=\"mp4a.40.5\" progressive=\"False\" type=\"audio\">\n",
      "<Stream: itag=\"140\" mime_type=\"audio/mp4\" abr=\"128kbps\" acodec=\"mp4a.40.2\" progressive=\"False\" type=\"audio\">\n",
      "<Stream: itag=\"249\" mime_type=\"audio/webm\" abr=\"50kbps\" acodec=\"opus\" progressive=\"False\" type=\"audio\">\n",
      "<Stream: itag=\"250\" mime_type=\"audio/webm\" abr=\"70kbps\" acodec=\"opus\" progressive=\"False\" type=\"audio\">\n",
      "<Stream: itag=\"251\" mime_type=\"audio/webm\" abr=\"160kbps\" acodec=\"opus\" progressive=\"False\" type=\"audio\">\n"
     ]
    }
   ],
   "source": [
    "for s in interior_design_video.streams:\n",
    "    print(s)"
   ]
  },
  {
   "cell_type": "markdown",
   "id": "ea71eecb",
   "metadata": {},
   "source": [
    "Let's pick one at a deliberately not-so-good resolution (360p) and of type `mp4` - I don't think it matters too much though."
   ]
  },
  {
   "cell_type": "code",
   "execution_count": 6,
   "id": "2b072d5a",
   "metadata": {},
   "outputs": [
    {
     "data": {
      "text/plain": "'/Users/olubunmiaworanti/Documents/dev/UAL/big_data/bsc-big-data/week-10/Interior Design Ideas  Free HD VIDEO - No Copyright.mp4'"
     },
     "execution_count": 6,
     "metadata": {},
     "output_type": "execute_result"
    }
   ],
   "source": [
    "interior_design_stream = interior_design_video.streams.get_by_itag(18)\n",
    "interior_design_stream.download()"
   ]
  },
  {
   "cell_type": "markdown",
   "id": "299a9b0d",
   "metadata": {},
   "source": [
    "Let's get another one..."
   ]
  },
  {
   "cell_type": "code",
   "execution_count": 7,
   "id": "a92b2cc3",
   "metadata": {},
   "outputs": [],
   "source": [
    "construction_3d_url = \"https://youtu.be/CP6xetNWfQk\"\n",
    "\n",
    "construction_3d = YouTube(construction_3d_url)"
   ]
  },
  {
   "cell_type": "code",
   "execution_count": 8,
   "id": "a2c42904",
   "metadata": {},
   "outputs": [
    {
     "data": {
      "text/plain": "'House 3d building animation'"
     },
     "execution_count": 8,
     "metadata": {},
     "output_type": "execute_result"
    }
   ],
   "source": [
    "construction_3d.title"
   ]
  },
  {
   "cell_type": "code",
   "execution_count": 9,
   "id": "b8c539f9",
   "metadata": {},
   "outputs": [
    {
     "data": {
      "text/html": "<img src=\"https://i.ytimg.com/vi/CP6xetNWfQk/hqdefault.jpg?sqp=-oaymwEXCJADEOABSFryq4qpAwkIARUAAIhCGAE=&rs=AOn4CLCfywWie30sDRzzUoqdccKFn5Vqpw\"/>",
      "text/plain": "<IPython.core.display.Image object>"
     },
     "execution_count": 9,
     "metadata": {},
     "output_type": "execute_result"
    }
   ],
   "source": [
    "Image(url=construction_3d.thumbnail_url)"
   ]
  },
  {
   "cell_type": "code",
   "execution_count": 10,
   "id": "273002c6",
   "metadata": {},
   "outputs": [
    {
     "data": {
      "text/plain": "'/Users/olubunmiaworanti/Documents/dev/UAL/big_data/bsc-big-data/week-10/House 3d building animation.mp4'"
     },
     "execution_count": 10,
     "metadata": {},
     "output_type": "execute_result"
    }
   ],
   "source": [
    "construction_3d_stream = construction_3d.streams.get_by_itag(18)\n",
    "construction_3d_stream.download()"
   ]
  },
  {
   "cell_type": "markdown",
   "id": "a09accdc",
   "metadata": {},
   "source": [
    "## Collaging Video\n",
    "\n",
    "We can use `moviepy` to collage video fairly easily. Have a look at the code carefully to see how the clips are made, resized, collaged and set to start at certain times."
   ]
  },
  {
   "cell_type": "code",
   "execution_count": 11,
   "id": "73112e96",
   "metadata": {
    "scrolled": false
   },
   "outputs": [
    {
     "name": "stdout",
     "output_type": "stream",
     "text": [
      "Moviepy - Building video vid_art.webm.\n",
      "MoviePy - Writing audio in vid_artTEMP_MPY_wvf_snd.ogg\n"
     ]
    },
    {
     "name": "stderr",
     "output_type": "stream",
     "text": [
      "                                                                      \r"
     ]
    },
    {
     "name": "stdout",
     "output_type": "stream",
     "text": [
      "MoviePy - Done.\n",
      "Moviepy - Writing video vid_art.webm\n",
      "\n"
     ]
    },
    {
     "name": "stderr",
     "output_type": "stream",
     "text": [
      "                                                                \r"
     ]
    },
    {
     "name": "stdout",
     "output_type": "stream",
     "text": [
      "Moviepy - Done !\n",
      "Moviepy - video ready vid_art.webm\n"
     ]
    }
   ],
   "source": [
    "clip1 = VideoFileClip(interior_design_stream.get_file_path()).margin(10) # add 10px contour\n",
    "clip2 = VideoFileClip(construction_3d_stream.get_file_path()).resize(0.60)\n",
    "\n",
    "video = CompositeVideoClip([clip1,\n",
    "                            clip2.set_start(5).set_position((0.4,0.2), relative=True)], \n",
    "                           size=(720,460))\n",
    "\n",
    "video.resize(width=480).write_videofile(\"vid_art.webm\", fps=30)"
   ]
  },
  {
   "cell_type": "markdown",
   "id": "f1776e41",
   "metadata": {},
   "source": [
    "## Collaging Greenscreen (Chromakey)"
   ]
  },
  {
   "cell_type": "markdown",
   "source": [],
   "metadata": {
    "collapsed": false
   }
  },
  {
   "cell_type": "code",
   "execution_count": 12,
   "id": "e4239c06",
   "metadata": {},
   "outputs": [],
   "source": [
    "greenscreen = \"https://youtu.be/asfgsCXOKrc\"\n",
    "greenscreen_video = YouTube(greenscreen)"
   ]
  },
  {
   "cell_type": "code",
   "execution_count": 13,
   "id": "4aae9a10",
   "metadata": {},
   "outputs": [
    {
     "name": "stdout",
     "output_type": "stream",
     "text": [
      "<Stream: itag=\"17\" mime_type=\"video/3gpp\" res=\"144p\" fps=\"8fps\" vcodec=\"mp4v.20.3\" acodec=\"mp4a.40.2\" progressive=\"True\" type=\"video\">\n",
      "<Stream: itag=\"18\" mime_type=\"video/mp4\" res=\"360p\" fps=\"30fps\" vcodec=\"avc1.42001E\" acodec=\"mp4a.40.2\" progressive=\"True\" type=\"video\">\n",
      "<Stream: itag=\"22\" mime_type=\"video/mp4\" res=\"720p\" fps=\"30fps\" vcodec=\"avc1.64001F\" acodec=\"mp4a.40.2\" progressive=\"True\" type=\"video\">\n",
      "<Stream: itag=\"137\" mime_type=\"video/mp4\" res=\"1080p\" fps=\"30fps\" vcodec=\"avc1.640028\" progressive=\"False\" type=\"video\">\n",
      "<Stream: itag=\"134\" mime_type=\"video/mp4\" res=\"360p\" fps=\"30fps\" vcodec=\"avc1.4d401e\" progressive=\"False\" type=\"video\">\n",
      "<Stream: itag=\"139\" mime_type=\"audio/mp4\" abr=\"48kbps\" acodec=\"mp4a.40.5\" progressive=\"False\" type=\"audio\">\n",
      "<Stream: itag=\"140\" mime_type=\"audio/mp4\" abr=\"128kbps\" acodec=\"mp4a.40.2\" progressive=\"False\" type=\"audio\">\n",
      "<Stream: itag=\"251\" mime_type=\"audio/webm\" abr=\"160kbps\" acodec=\"opus\" progressive=\"False\" type=\"audio\">\n"
     ]
    }
   ],
   "source": [
    "for f in greenscreen_video.streams:\n",
    "    print(f)"
   ]
  },
  {
   "cell_type": "code",
   "execution_count": 14,
   "id": "c5cda4ce",
   "metadata": {},
   "outputs": [
    {
     "data": {
      "text/plain": "'/Users/olubunmiaworanti/Documents/dev/UAL/big_data/bsc-big-data/week-10/Green Screen Sample.mp4'"
     },
     "execution_count": 14,
     "metadata": {},
     "output_type": "execute_result"
    }
   ],
   "source": [
    "greenscreen_stream = greenscreen_video.streams.get_by_itag(18)\n",
    "greenscreen_stream.download()"
   ]
  },
  {
   "cell_type": "code",
   "execution_count": 15,
   "id": "944bc696",
   "metadata": {},
   "outputs": [
    {
     "name": "stdout",
     "output_type": "stream",
     "text": [
      "Moviepy - Building video vid_art_presenter.mp4.\n",
      "MoviePy - Writing audio in vid_art_presenterTEMP_MPY_wvf_snd.mp3\n"
     ]
    },
    {
     "name": "stderr",
     "output_type": "stream",
     "text": [
      "                                                                    \r"
     ]
    },
    {
     "name": "stdout",
     "output_type": "stream",
     "text": [
      "MoviePy - Done.\n",
      "Moviepy - Writing video vid_art_presenter.mp4\n",
      "\n"
     ]
    },
    {
     "name": "stderr",
     "output_type": "stream",
     "text": [
      "                                                              "
     ]
    },
    {
     "name": "stdout",
     "output_type": "stream",
     "text": [
      "Moviepy - Done !\n",
      "Moviepy - video ready vid_art_presenter.mp4\n"
     ]
    },
    {
     "name": "stderr",
     "output_type": "stream",
     "text": [
      "\r"
     ]
    }
   ],
   "source": [
    "from moviepy.editor import vfx\n",
    "\n",
    "clip3 = VideoFileClip(greenscreen_stream.get_file_path())\n",
    "clip3 = clip3.fx(vfx.mask_color, color=[1, 136, 1], thr=100, s=5)\n",
    "clip3 = clip3.resize(0.8).set_pos(('center', 'bottom'))\n",
    "\n",
    "presenter_video = CompositeVideoClip([video,\n",
    "                            clip3.set_start(10)], \n",
    "                            size=(720,460)).set_duration(20)\n",
    "\n",
    "presenter_video.resize(width=480).write_videofile(\"vid_art_presenter.mp4\", fps=30)\n"
   ]
  },
  {
   "cell_type": "markdown",
   "id": "455113ee",
   "metadata": {},
   "source": [
    "At this point I've got something like this... looking quite a bit like a Hito Steyerl video to me!\n",
    "\n",
    "![Sample](./images/sample.png)"
   ]
  },
  {
   "cell_type": "markdown",
   "id": "f64fbb71",
   "metadata": {},
   "source": [
    "## Voiceover Audio\n",
    "\n",
    "For this we can use [gTTS (Google, Text-to-Speech)](https://pypi.org/project/gTTS/) which is very easy to use. You can even choose an accent."
   ]
  },
  {
   "cell_type": "code",
   "execution_count": 16,
   "id": "791f0482",
   "metadata": {},
   "outputs": [],
   "source": [
    "# The text that you want to convert to audio\n",
    "text = 'This is a guide to interior design and choosing the right style for you.'\n",
    "  \n",
    "# Language in which you want to convert\n",
    "language = 'fr'\n",
    "  \n",
    "# Passing the text and language to the engine, \n",
    "# here we have marked slow=False. Which tells \n",
    "# the module that the converted audio should \n",
    "# have a high speed\n",
    "gtts_obj = gTTS(text=text, lang=language, slow=False)\n",
    "  \n",
    "# Saving the converted audio in a mp3 file named\n",
    "# welcome \n",
    "voiceover_filename = \"sample_voiceover.mp3\"\n",
    "gtts_obj.save(voiceover_filename)"
   ]
  },
  {
   "cell_type": "markdown",
   "id": "b90f6719",
   "metadata": {},
   "source": [
    "We can turn our voiceover into an `AudioFileClip` which MoviePy can use."
   ]
  },
  {
   "cell_type": "code",
   "execution_count": 17,
   "id": "52b400bd",
   "metadata": {},
   "outputs": [],
   "source": [
    "voiceover_clip = AudioFileClip(voiceover_filename)"
   ]
  },
  {
   "cell_type": "markdown",
   "id": "1e3811ea",
   "metadata": {},
   "source": [
    "I also want the original audio from the 3d building video to be in there. So lets grab that too and turn it into a clip."
   ]
  },
  {
   "cell_type": "code",
   "execution_count": 18,
   "id": "7e0eafe0",
   "metadata": {},
   "outputs": [],
   "source": [
    "audio_compo = CompositeAudioClip([clip2.audio.volumex(2),\n",
    "                                  voiceover_clip.set_start(1), # start at t=5s\n",
    "                           ])"
   ]
  },
  {
   "cell_type": "code",
   "execution_count": 19,
   "id": "6b04d269",
   "metadata": {},
   "outputs": [
    {
     "name": "stdout",
     "output_type": "stream",
     "text": [
      "MoviePy - Writing audio in audio_compo.mp3\n"
     ]
    },
    {
     "name": "stderr",
     "output_type": "stream",
     "text": [
      "                                                                      "
     ]
    },
    {
     "name": "stdout",
     "output_type": "stream",
     "text": [
      "MoviePy - Done.\n"
     ]
    },
    {
     "name": "stderr",
     "output_type": "stream",
     "text": [
      "\r"
     ]
    }
   ],
   "source": [
    "audio_compo.write_audiofile(\"audio_compo.mp3\", fps=44100)"
   ]
  },
  {
   "cell_type": "markdown",
   "id": "ed94ef40",
   "metadata": {},
   "source": [
    "There should be a better way than this, but I found the only way to work is to save both the audio and the video seperately as files, and then _reload_ them with MoviePy and make a new video."
   ]
  },
  {
   "cell_type": "code",
   "execution_count": 39,
   "id": "ce7ca721",
   "metadata": {},
   "outputs": [
    {
     "name": "stdout",
     "output_type": "stream",
     "text": [
      "Moviepy - Building video final5.mp4.\n",
      "MoviePy - Writing audio in final5TEMP_MPY_wvf_snd.mp3\n"
     ]
    },
    {
     "name": "stderr",
     "output_type": "stream",
     "text": [
      "                                                                    \r"
     ]
    },
    {
     "name": "stdout",
     "output_type": "stream",
     "text": [
      "MoviePy - Done.\n",
      "Moviepy - Writing video final5.mp4\n",
      "\n"
     ]
    },
    {
     "name": "stderr",
     "output_type": "stream",
     "text": [
      "                                                                  "
     ]
    },
    {
     "name": "stdout",
     "output_type": "stream",
     "text": [
      "Moviepy - Done !\n",
      "Moviepy - video ready final5.mp4\n"
     ]
    },
    {
     "name": "stderr",
     "output_type": "stream",
     "text": [
      "\r"
     ]
    }
   ],
   "source": [
    "clip = VideoFileClip(\"vid_art_presenter.mp4\")\n",
    "audio = AudioFileClip(\"audio_compo.mp3\").set_duration(clip.duration)\n",
    "\n",
    "\n",
    "new_audio = CompositeAudioClip([audio])\n",
    "f_clip = clip.set_audio(new_audio)\n",
    "\n",
    "f_clip.write_videofile(\"final.mp4\", audio=True,fps=60, codec=\"mpeg4\")"
   ]
  },
  {
   "cell_type": "markdown",
   "source": [
    "#### <span style=\"color:red\"> Exercise </span>\n",
    "\n",
    "- Change the position of the 3d video in the collage, so the presenter points at it.\n",
    "- Try to edit the text to tell a story in the video\n",
    "- use this code to add text to your video `txt_clip = TextClip(\"Interior Design\", fontsize = 75, color = 'black')`"
   ],
   "metadata": {
    "collapsed": false,
    "pycharm": {
     "name": "#%% md\n"
    }
   }
  },
  {
   "cell_type": "code",
   "execution_count": null,
   "outputs": [],
   "source": [],
   "metadata": {
    "collapsed": false,
    "pycharm": {
     "name": "#%%\n"
    }
   }
  }
 ],
 "metadata": {
  "kernelspec": {
   "display_name": "Python 3 (ipykernel)",
   "language": "python",
   "name": "python3"
  },
  "language_info": {
   "codemirror_mode": {
    "name": "ipython",
    "version": 3
   },
   "file_extension": ".py",
   "mimetype": "text/x-python",
   "name": "python",
   "nbconvert_exporter": "python",
   "pygments_lexer": "ipython3",
   "version": "3.10.4"
  }
 },
 "nbformat": 4,
 "nbformat_minor": 5
}
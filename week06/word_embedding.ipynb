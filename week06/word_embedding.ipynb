{
 "cells": [
  {
   "cell_type": "markdown",
   "id": "e5b6b2c0",
   "metadata": {},
   "source": [
    "# Word Embeddings\n",
    "\n",
    "We will be looking at vector representation of words and word embeddings generally in this notebook. Most of the examples are adapted from [Allison Parrish's notebook here](https://gist.github.com/aparrish/2f562e3737544cf29aaf1af30362f469) which has lots of great stuff.\n",
    "\n",
    "First we will be playing with the data collected in a color survey conducted by the people (person?) behind [XKCD](https://xkcd.com/). From what I understand they asked many people to name colors as presented to them on screen - many people and many colors. So this led to a lot of data about what people think of when they say a given color. Also lots of interesting data about what different genders see (or names they come up with) and also just general ingenuity/boredom of people. [Read more about the survey here](https://blog.xkcd.com/2010/05/03/color-survey-results/).\n",
    "\n",
    "[The color data can be downloaded here](https://github.com/dariusk/corpora/blob/master/data/colors/xkcd.json).\n",
    "\n",
    "---\n",
    "\n",
    "Furthur down in the notebook we use the text of [_Dracula_](http://www.gutenberg.org/cache/epub/345/pg345.txt) by Bram Stoker and [_The Yellow Wallpaper_](http://www.gutenberg.org/cache/epub/1952/pg1952.txt) by Charlotte Perkins Gilman which can be downloaded from Project Gutenberg."
   ]
  },
  {
   "cell_type": "code",
   "execution_count": null,
   "id": "9edf7594",
   "metadata": {},
   "outputs": [],
   "source": [
    "import json\n",
    "import matplotlib.pyplot as plt\n",
    "import numpy as np\n",
    "import random\n",
    "import spacy\n",
    "\n",
    "\n",
    "from scipy import spatial"
   ]
  },
  {
   "cell_type": "markdown",
   "id": "1c031ad7",
   "metadata": {},
   "source": [
    "I have downloaded the two text files (_Dracula_ and _The Yellow Wallpaper_) which we'll use at various points, so I'll just store them in variables below with the XKCD Color Data."
   ]
  },
  {
   "cell_type": "code",
   "execution_count": null,
   "id": "67398b45",
   "metadata": {},
   "outputs": [],
   "source": [
    "DRACULA = \"pg345.txt\"\n",
    "YELLOW_WALLPAPER = \"pg1952.txt\"\n",
    "XKCD_COLOR = \"xkcd.json\""
   ]
  },
  {
   "cell_type": "code",
   "execution_count": null,
   "id": "9a72902b",
   "metadata": {},
   "outputs": [],
   "source": [
    "# lolad the json data about colours\n",
    "color_data = json.loads(open(XKCD_COLOR).read())"
   ]
  },
  {
   "cell_type": "markdown",
   "id": "11a6bb12",
   "metadata": {},
   "source": [
    "The color data is stored as hex codes, so the function and loop below will convert the hex to a more recognizable RGB color and store it in a new dictionary."
   ]
  },
  {
   "cell_type": "code",
   "execution_count": null,
   "id": "a9ed6222",
   "metadata": {},
   "outputs": [],
   "source": [
    "def hex_to_int(s):\n",
    "    s = s.lstrip(\"#\")\n",
    "    return int(s[:2], 16), int(s[2:4], 16), int(s[4:6], 16)"
   ]
  },
  {
   "cell_type": "code",
   "execution_count": null,
   "id": "302025f7",
   "metadata": {},
   "outputs": [],
   "source": [
    "# translate the whole colour dictionary from hex to tuples of integers\n",
    "colors = dict()\n",
    "for item in color_data['colors']:\n",
    "    colors[item[\"color\"]] = hex_to_int(item[\"hex\"])"
   ]
  },
  {
   "cell_type": "code",
   "execution_count": null,
   "id": "022ae3a9",
   "metadata": {},
   "outputs": [],
   "source": [
    "print(colors)"
   ]
  },
  {
   "cell_type": "code",
   "execution_count": null,
   "id": "a2f191d6",
   "metadata": {},
   "outputs": [],
   "source": [
    "colors['olive']"
   ]
  },
  {
   "cell_type": "code",
   "execution_count": null,
   "id": "175e43fb",
   "metadata": {},
   "outputs": [],
   "source": [
    "colors['red']"
   ]
  },
  {
   "cell_type": "code",
   "execution_count": null,
   "id": "94db7a4e",
   "metadata": {},
   "outputs": [],
   "source": [
    "colors['pig pink']"
   ]
  },
  {
   "cell_type": "markdown",
   "id": "fd7532a7",
   "metadata": {},
   "source": [
    "This is just a simple function to turn the color code into an image."
   ]
  },
  {
   "cell_type": "code",
   "execution_count": null,
   "id": "129778f7",
   "metadata": {},
   "outputs": [],
   "source": [
    "def make_solid_color(rgb):\n",
    "    # create a 64x64 matrix for red, green, blue colour values\n",
    "    r = np.full((64,64), rgb[0])\n",
    "    g = np.full((64,64), rgb[1])\n",
    "    b = np.full((64,64), rgb[2])\n",
    "    \n",
    "    # stack the data to create a 3-channel image stored in a 3-dimensional array\n",
    "    return np.dstack((r, g, b))"
   ]
  },
  {
   "cell_type": "code",
   "execution_count": null,
   "id": "9882b50b",
   "metadata": {},
   "outputs": [],
   "source": [
    "image = make_solid_color(colors['cloudy blue'])\n",
    "\n",
    "print(colors['cloudy blue'])\n",
    "print(image.shape)\n",
    "\n",
    "plt.imshow(image)"
   ]
  },
  {
   "cell_type": "markdown",
   "id": "7db9aa94",
   "metadata": {},
   "source": [
    "You may have noticed that an RGB color value is a vector of length 3: (172, 194, 217)\n",
    "\n",
    "And we now have a dataset where each of these vectors has an associated name:\n",
    "\n",
    "'Cloudy Blue': (172, 194, 217)\n",
    "\n",
    "So we can start playing with this in maths world."
   ]
  },
  {
   "cell_type": "markdown",
   "id": "fc141ce1",
   "metadata": {
    "pycharm": {
     "name": "#%% md\n"
    }
   },
   "source": [
    "Below we create a function that finds the distance between two colours through th euclidean distance of their vectors"
   ]
  },
  {
   "cell_type": "code",
   "execution_count": null,
   "id": "c3ca6d2c",
   "metadata": {},
   "outputs": [],
   "source": [
    "def distance(a, b):\n",
    "    _a = np.array(a) # array from tuple\n",
    "    _b = np.array(b)\n",
    "    return np.linalg.norm(_a - _b) # numpy can perform operations on arrays\n",
    "\n",
    "\n",
    "distance([10, 1], [5, 2])"
   ]
  },
  {
   "cell_type": "code",
   "execution_count": null,
   "id": "ade71cd9",
   "metadata": {},
   "outputs": [],
   "source": [
    "colors['red']"
   ]
  },
  {
   "cell_type": "code",
   "execution_count": null,
   "id": "27764562",
   "metadata": {},
   "outputs": [],
   "source": [
    "d_red_green = distance(colors['red'], colors['green'])\n",
    "d_red_pink  = distance(colors['red'], colors['pink'])\n",
    "\n",
    "print(d_red_green, d_red_pink)\n",
    "print(d_red_green > d_red_pink)"
   ]
  },
  {
   "cell_type": "markdown",
   "id": "b99eee75",
   "metadata": {
    "pycharm": {
     "name": "#%% md\n"
    }
   },
   "source": [
    "The below loops through the colors and finds"
   ]
  },
  {
   "cell_type": "code",
   "execution_count": null,
   "id": "207b95d9",
   "metadata": {},
   "outputs": [],
   "source": [
    "def closest(space, coord, n=10):\n",
    "    closest = []\n",
    "    for key in sorted(\n",
    "        space.keys(),\n",
    "        key=lambda x: distance(coord, space[x])\n",
    "    )[:n]:\n",
    "        closest.append(key)\n",
    "    return closest"
   ]
  },
  {
   "cell_type": "code",
   "execution_count": null,
   "id": "51bd6201",
   "metadata": {},
   "outputs": [],
   "source": [
    "closest(colors, colors['olive'])"
   ]
  },
  {
   "cell_type": "code",
   "execution_count": null,
   "id": "a5c0a243",
   "metadata": {},
   "outputs": [],
   "source": [
    "closest(colors, [150, 60, 150])"
   ]
  },
  {
   "cell_type": "markdown",
   "id": "1dae84d7",
   "metadata": {
    "pycharm": {
     "name": "#%% md\n"
    }
   },
   "source": [
    "lets subtract two colors and see of we can find a color closet to those vectors"
   ]
  },
  {
   "cell_type": "code",
   "execution_count": null,
   "id": "fa44308f",
   "metadata": {},
   "outputs": [],
   "source": [
    "def subtract(a, b):\n",
    "    _a = np.array(a)\n",
    "    _b = np.array(b)\n",
    "    return _a - _b"
   ]
  },
  {
   "cell_type": "code",
   "execution_count": null,
   "id": "a8213ea5",
   "metadata": {},
   "outputs": [],
   "source": [
    "closest(colors, subtract(colors['purple'], colors['red']))"
   ]
  },
  {
   "cell_type": "markdown",
   "id": "d9ac95af",
   "metadata": {
    "pycharm": {
     "name": "#%% md\n"
    }
   },
   "source": [
    "Lets create a poem by randomly choosing colours close to red and blue"
   ]
  },
  {
   "cell_type": "code",
   "execution_count": null,
   "id": "74aeed69",
   "metadata": {},
   "outputs": [],
   "source": [
    "red = colors['red']\n",
    "blue = colors['blue']\n",
    "for i in range(14):\n",
    "    rednames = closest(colors, red)\n",
    "    bluenames = closest(colors, blue)\n",
    "    print(\"Roses are \" + rednames[0] + \", violets are \" + bluenames[0])\n",
    "    red = colors[random.choice(rednames[1:])]\n",
    "    blue = colors[random.choice(bluenames[1:])]"
   ]
  },
  {
   "cell_type": "markdown",
   "id": "bd0901c7",
   "metadata": {
    "pycharm": {
     "name": "#%% md\n"
    }
   },
   "source": [
    "The below function helps us calculates the average of vectors"
   ]
  },
  {
   "cell_type": "code",
   "execution_count": null,
   "id": "01ee9001",
   "metadata": {},
   "outputs": [],
   "source": [
    "def mean(coords):\n",
    "    return np.mean(np.array(coords), axis=0)"
   ]
  },
  {
   "cell_type": "code",
   "execution_count": null,
   "id": "5d1e1af8-83c0-40ca-a3be-d98794924fc5",
   "metadata": {},
   "outputs": [],
   "source": [
    "# Uncommment and run the line below once to download the model\n",
    "# !python -m spacy download en_core_web_lg"
   ]
  },
  {
   "cell_type": "markdown",
   "id": "6b233122",
   "metadata": {},
   "source": [
    "Here we load _Dracula_ to find any mentions of colours in the book. We can then find the average color and all the closest colors to that average."
   ]
  },
  {
   "cell_type": "code",
   "execution_count": null,
   "id": "0f37a758",
   "metadata": {
    "pycharm": {
     "name": "#%%\n"
    }
   },
   "outputs": [],
   "source": [
    "# English pipeline optimized for CPU. Components: tok2vec, tagger, parser, senter, ner, attribute_ruler, lemmatizer.\n",
    "# more info: \n",
    "\n",
    "nlp = spacy.load('en_core_web_lg')"
   ]
  },
  {
   "cell_type": "code",
   "execution_count": null,
   "id": "8a09fcbf-e1f7-4184-895e-62e68001e9dc",
   "metadata": {},
   "outputs": [],
   "source": [
    "with open(DRACULA, encoding=\"utf8\") as file:\n",
    "    dracula_text = file.read()\n",
    "\n",
    "dracula_doc = nlp(dracula_text)"
   ]
  },
  {
   "cell_type": "code",
   "execution_count": null,
   "id": "26931775",
   "metadata": {},
   "outputs": [],
   "source": [
    "# use word.lower_ to normalize case\n",
    "drac_colors = [colors[word.lower_] for word in dracula_doc if word.lower_ in colors]\n",
    "avg_color = mean(drac_colors)\n",
    "print(avg_color)"
   ]
  },
  {
   "cell_type": "code",
   "execution_count": null,
   "id": "fcf0962f",
   "metadata": {},
   "outputs": [],
   "source": [
    "drac_color_img = make_solid_color(np.array(avg_color).astype(np.uint8))\n",
    "plt.imshow(drac_color_img)"
   ]
  },
  {
   "cell_type": "code",
   "execution_count": null,
   "id": "29daa1ea",
   "metadata": {},
   "outputs": [],
   "source": [
    "closest(colors, avg_color)"
   ]
  },
  {
   "cell_type": "code",
   "execution_count": null,
   "id": "caa20f63",
   "metadata": {},
   "outputs": [],
   "source": [
    "closest_dracula_col = closest(colors, avg_color)[0]\n",
    "print(closest_dracula_col)"
   ]
  },
  {
   "cell_type": "code",
   "execution_count": null,
   "id": "3bc83d91",
   "metadata": {},
   "outputs": [],
   "source": [
    "image = make_solid_color(colors[closest_dracula_col])\n",
    "print(colors[closest_dracula_col])\n",
    "\n",
    "plt.imshow(image)"
   ]
  },
  {
   "cell_type": "markdown",
   "id": "49476d2d",
   "metadata": {
    "pycharm": {
     "name": "#%% md\n"
    }
   },
   "source": [
    "Here we load yellow wallpaper to find any mentions of colours in the book. We can then find the average color and all the closest colors to that average."
   ]
  },
  {
   "cell_type": "code",
   "execution_count": null,
   "id": "fc7ff7c8",
   "metadata": {},
   "outputs": [],
   "source": [
    "wallpaper_doc = nlp(open(YELLOW_WALLPAPER).read())"
   ]
  },
  {
   "cell_type": "code",
   "execution_count": null,
   "id": "373a39a9",
   "metadata": {},
   "outputs": [],
   "source": [
    "wallpaper_colors = [colors[word.lower_] for word in wallpaper_doc if word.lower_ in colors]\n",
    "avg_color = mean(wallpaper_colors)\n",
    "wallpaper_closest = closest(colors, avg_color)"
   ]
  },
  {
   "cell_type": "code",
   "execution_count": null,
   "id": "86d6d71c",
   "metadata": {},
   "outputs": [],
   "source": [
    "image = make_solid_color(colors[wallpaper_closest[0]])\n",
    "print(wallpaper_closest[0])\n",
    "\n",
    "plt.imshow(image)"
   ]
  },
  {
   "cell_type": "markdown",
   "id": "1837079a",
   "metadata": {},
   "source": [
    "Lets load the Dracula text and do some word similarities"
   ]
  },
  {
   "cell_type": "code",
   "execution_count": null,
   "id": "5ed8a1b8",
   "metadata": {},
   "outputs": [],
   "source": [
    "def cosine_similarity(vec1,vec2): \n",
    "    return 1-spatial.distance.cosine(vec1,vec2)"
   ]
  },
  {
   "cell_type": "markdown",
   "id": "db3af4ed",
   "metadata": {},
   "source": [
    "Tokenize Dracula:"
   ]
  },
  {
   "cell_type": "code",
   "execution_count": null,
   "id": "e3c4bb37",
   "metadata": {},
   "outputs": [],
   "source": [
    "tokens = list(set([w.text for w in dracula_doc if w.is_alpha and w.has_vector]))"
   ]
  },
  {
   "cell_type": "code",
   "execution_count": null,
   "id": "557b17cf",
   "metadata": {},
   "outputs": [],
   "source": [
    "def vec(s):\n",
    "    return nlp(s).vector"
   ]
  },
  {
   "cell_type": "code",
   "execution_count": null,
   "id": "8c98e2bf",
   "metadata": {},
   "outputs": [],
   "source": [
    "cosine_similarity(vec('dog'), vec('puppy')) > cosine_similarity(vec('trousers'), vec('octopus'))"
   ]
  },
  {
   "cell_type": "markdown",
   "id": "aae32af0",
   "metadata": {},
   "source": [
    "Learn more about the Python `sorted` function [here](https://www.w3schools.com/python/ref_func_sorted.asp)."
   ]
  },
  {
   "cell_type": "code",
   "execution_count": null,
   "id": "ebfb7ea7",
   "metadata": {},
   "outputs": [],
   "source": [
    "def spacy_closest(token_list, vec_to_check, n=10):\n",
    "    return sorted(\n",
    "        token_list,\n",
    "        key=lambda x: cosine_similarity(vec_to_check, vec(x)), # sort based on the similarity of each token to the specified vector\n",
    "    )[:n]"
   ]
  },
  {
   "cell_type": "code",
   "execution_count": null,
   "id": "3171b056-c8f9-4f19-817d-507786c00e82",
   "metadata": {},
   "outputs": [],
   "source": [
    "day_vec = vec(\"day\")"
   ]
  },
  {
   "cell_type": "code",
   "execution_count": null,
   "id": "4f3a7f37-2a6c-4d9a-8d35-dbaf62335b1d",
   "metadata": {},
   "outputs": [],
   "source": [
    "# the length of the vector is the number of parameters in the model\n",
    "len(day_vec)"
   ]
  },
  {
   "cell_type": "code",
   "execution_count": null,
   "id": "97a0d855-110f-4274-80bb-09df27603e9a",
   "metadata": {},
   "outputs": [],
   "source": [
    "min(day_vec), max(day_vec)"
   ]
  },
  {
   "cell_type": "code",
   "execution_count": null,
   "id": "e85ad35f",
   "metadata": {},
   "outputs": [],
   "source": [
    "# halfway between day and night\n",
    "spacy_closest(tokens, mean([vec(\"day\"), vec(\"night\")]))"
   ]
  },
  {
   "cell_type": "code",
   "execution_count": null,
   "id": "f2730d5b",
   "metadata": {},
   "outputs": [],
   "source": [
    "spacy_closest(tokens, subtract(vec(\"wine\"), vec(\"alcohol\")))"
   ]
  },
  {
   "cell_type": "markdown",
   "id": "7de34820",
   "metadata": {},
   "source": [
    "## Sentence Similarity\n",
    "Lets do some basic sentence similarities, we are going to average the vectors from all the words in the sentence. we will assume if those two sentences are similar the mean of the each word vector in the sentence will be close"
   ]
  },
  {
   "cell_type": "code",
   "execution_count": null,
   "id": "f37f5fb1",
   "metadata": {},
   "outputs": [],
   "source": [
    "def sentvec(s):\n",
    "    sentence = nlp(s)\n",
    "    return mean([w.vector for w in sentence])"
   ]
  },
  {
   "cell_type": "code",
   "execution_count": null,
   "id": "ec6abb5d",
   "metadata": {},
   "outputs": [],
   "source": [
    "sentences = list(dracula_doc.sents)"
   ]
  },
  {
   "cell_type": "code",
   "execution_count": null,
   "id": "a28be52a",
   "metadata": {},
   "outputs": [],
   "source": [
    "wallpaper_sentences = list(wallpaper_doc.sents)"
   ]
  },
  {
   "cell_type": "code",
   "execution_count": null,
   "id": "d18c9fd4",
   "metadata": {},
   "outputs": [],
   "source": [
    "wallpaper_sentences[100]"
   ]
  },
  {
   "cell_type": "code",
   "execution_count": null,
   "id": "bcb33cdc",
   "metadata": {},
   "outputs": [],
   "source": [
    "sentences[111]"
   ]
  },
  {
   "cell_type": "code",
   "execution_count": null,
   "id": "b90e9dd3",
   "metadata": {},
   "outputs": [],
   "source": [
    "def spacy_closest_sent(space, input_str, n=10):\n",
    "    input_vec = sentvec(input_str)\n",
    "    # we are selecting the top 10 sentences\n",
    "    return sorted(space,\n",
    "                  key=lambda x: cosine_similarity(np.mean([w.vector for w in x], axis=0), input_vec),\n",
    "                  reverse=True)[:n]"
   ]
  },
  {
   "cell_type": "code",
   "execution_count": null,
   "id": "453d4dab",
   "metadata": {
    "pycharm": {
     "name": "#%%\n"
    }
   },
   "outputs": [],
   "source": [
    "for sent in spacy_closest_sent(wallpaper_sentences, \"My favorite food is strawberry ice cream.\"):\n",
    "    print(sent.text)\n",
    "    print(\"---\")"
   ]
  }
 ],
 "metadata": {
  "kernelspec": {
   "display_name": "Python 3 (ipykernel)",
   "language": "python",
   "name": "python3"
  },
  "language_info": {
   "codemirror_mode": {
    "name": "ipython",
    "version": 3
   },
   "file_extension": ".py",
   "mimetype": "text/x-python",
   "name": "python",
   "nbconvert_exporter": "python",
   "pygments_lexer": "ipython3",
   "version": "3.11.7"
  }
 },
 "nbformat": 4,
 "nbformat_minor": 5
}

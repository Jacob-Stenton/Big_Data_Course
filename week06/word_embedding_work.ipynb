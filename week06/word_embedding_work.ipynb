{
 "cells": [
  {
   "cell_type": "markdown",
   "id": "e5b6b2c0",
   "metadata": {},
   "source": [
    "# Word Embeddings\n",
    "\n",
    "We will be looking at vector representation of words and word embeddings generally in this notebook. Most of the examples are adapted from [Allison Parrish's notebook here](https://gist.github.com/aparrish/2f562e3737544cf29aaf1af30362f469) which has lots of great stuff.\n",
    "\n",
    "First we will be playing with the data collected in a color survey conducted by the people (person?) behind [XKCD](https://xkcd.com/). From what I understand they asked many people to name colors as presented to them on screen - many people and many colors. So this led to a lot of data about what people think of when they say a given color. Also lots of interesting data about what different genders see (or names they come up with) and also just general ingenuity/boredom of people. [Read more about the survey here](https://blog.xkcd.com/2010/05/03/color-survey-results/).\n",
    "\n",
    "[The color data can be downloaded here](https://github.com/dariusk/corpora/blob/master/data/colors/xkcd.json).\n",
    "\n",
    "---\n",
    "\n",
    "Furthur down in the notebook we use the text of [_Dracula_](http://www.gutenberg.org/cache/epub/345/pg345.txt) by Bram Stoker and [_The Yellow Wallpaper_](http://www.gutenberg.org/cache/epub/1952/pg1952.txt) by Charlotte Perkins Gilman which can be downloaded from Project Gutenberg."
   ]
  },
  {
   "cell_type": "code",
   "execution_count": 1,
   "id": "9edf7594",
   "metadata": {},
   "outputs": [],
   "source": [
    "import json\n",
    "import matplotlib.pyplot as plt\n",
    "import numpy as np\n",
    "import random\n",
    "import spacy\n",
    "\n",
    "\n",
    "from scipy import spatial"
   ]
  },
  {
   "cell_type": "markdown",
   "id": "1c031ad7",
   "metadata": {},
   "source": [
    "I have downloaded the two text files (_Dracula_ and _The Yellow Wallpaper_) which we'll use at various points, so I'll just store them in variables below with the XKCD Color Data."
   ]
  },
  {
   "cell_type": "code",
   "execution_count": 2,
   "id": "67398b45",
   "metadata": {},
   "outputs": [],
   "source": [
    "DRACULA = \"pg345.txt\"\n",
    "YELLOW_WALLPAPER = \"pg1952.txt\"\n",
    "XKCD_COLOR = \"xkcd.json\""
   ]
  },
  {
   "cell_type": "code",
   "execution_count": 3,
   "id": "9a72902b",
   "metadata": {},
   "outputs": [],
   "source": [
    "# lolad the json data about colours\n",
    "color_data = json.loads(open(XKCD_COLOR).read())"
   ]
  },
  {
   "cell_type": "markdown",
   "id": "11a6bb12",
   "metadata": {},
   "source": [
    "The color data is stored as hex codes, so the function and loop below will convert the hex to a more recognizable RGB color and store it in a new dictionary."
   ]
  },
  {
   "cell_type": "code",
   "execution_count": 4,
   "id": "a9ed6222",
   "metadata": {},
   "outputs": [],
   "source": [
    "def hex_to_int(s):\n",
    "    s = s.lstrip(\"#\")\n",
    "    return int(s[:2], 16), int(s[2:4], 16), int(s[4:6], 16)"
   ]
  },
  {
   "cell_type": "code",
   "execution_count": 5,
   "id": "302025f7",
   "metadata": {},
   "outputs": [],
   "source": [
    "# translate the whole colour dictionary from hex to tuples of integers\n",
    "colors = dict()\n",
    "for item in color_data['colors']:\n",
    "    colors[item[\"color\"]] = hex_to_int(item[\"hex\"])"
   ]
  },
  {
   "cell_type": "code",
   "execution_count": 6,
   "id": "022ae3a9",
   "metadata": {},
   "outputs": [
    {
     "name": "stdout",
     "output_type": "stream",
     "text": [
      "{'cloudy blue': (172, 194, 217), 'dark pastel green': (86, 174, 87), 'dust': (178, 153, 110), 'electric lime': (168, 255, 4), 'fresh green': (105, 216, 79), 'light eggplant': (137, 69, 133), 'nasty green': (112, 178, 63), 'really light blue': (212, 255, 255), 'tea': (101, 171, 124), 'warm purple': (149, 46, 143), 'yellowish tan': (252, 252, 129), 'cement': (165, 163, 145), 'dark grass green': (56, 128, 4), 'dusty teal': (76, 144, 133), 'grey teal': (94, 155, 138), 'macaroni and cheese': (239, 180, 53), 'pinkish tan': (217, 155, 130), 'spruce': (10, 95, 56), 'strong blue': (12, 6, 247), 'toxic green': (97, 222, 42), 'windows blue': (55, 120, 191), 'blue blue': (34, 66, 199), 'blue with a hint of purple': (83, 60, 198), 'booger': (155, 181, 60), 'bright sea green': (5, 255, 166), 'dark green blue': (31, 99, 87), 'deep turquoise': (1, 115, 116), 'green teal': (12, 181, 119), 'strong pink': (255, 7, 137), 'bland': (175, 168, 139), 'deep aqua': (8, 120, 127), 'lavender pink': (221, 133, 215), 'light moss green': (166, 200, 117), 'light seafoam green': (167, 255, 181), 'olive yellow': (194, 183, 9), 'pig pink': (231, 142, 165), 'deep lilac': (150, 110, 189), 'desert': (204, 173, 96), 'dusty lavender': (172, 134, 168), 'purpley grey': (148, 126, 148), 'purply': (152, 63, 178), 'candy pink': (255, 99, 233), 'light pastel green': (178, 251, 165), 'boring green': (99, 179, 101), 'kiwi green': (142, 229, 63), 'light grey green': (183, 225, 161), 'orange pink': (255, 111, 82), 'tea green': (189, 248, 163), 'very light brown': (211, 182, 131), 'egg shell': (255, 252, 196), 'eggplant purple': (67, 5, 65), 'powder pink': (255, 178, 208), 'reddish grey': (153, 117, 112), 'baby shit brown': (173, 144, 13), 'liliac': (196, 142, 253), 'stormy blue': (80, 123, 156), 'ugly brown': (125, 113, 3), 'custard': (255, 253, 120), 'darkish pink': (218, 70, 125), 'deep brown': (65, 2, 0), 'greenish beige': (201, 209, 121), 'manilla': (255, 250, 134), 'off blue': (86, 132, 174), 'battleship grey': (107, 124, 133), 'browny green': (111, 108, 10), 'bruise': (126, 64, 113), 'kelley green': (0, 147, 55), 'sickly yellow': (208, 228, 41), 'sunny yellow': (255, 249, 23), 'azul': (29, 93, 236), 'darkgreen': (5, 73, 7), 'green/yellow': (181, 206, 8), 'lichen': (143, 182, 123), 'light light green': (200, 255, 176), 'pale gold': (253, 222, 108), 'sun yellow': (255, 223, 34), 'tan green': (169, 190, 112), 'burple': (104, 50, 227), 'butterscotch': (253, 177, 71), 'toupe': (199, 172, 125), 'dark cream': (255, 243, 154), 'indian red': (133, 14, 4), 'light lavendar': (239, 192, 254), 'poison green': (64, 253, 20), 'baby puke green': (182, 196, 6), 'bright yellow green': (157, 255, 0), 'charcoal grey': (60, 65, 66), 'squash': (242, 171, 21), 'cinnamon': (172, 79, 6), 'light pea green': (196, 254, 130), 'radioactive green': (44, 250, 31), 'raw sienna': (154, 98, 0), 'baby purple': (202, 155, 247), 'cocoa': (135, 95, 66), 'light royal blue': (58, 46, 254), 'orangeish': (253, 141, 73), 'rust brown': (139, 49, 3), 'sand brown': (203, 165, 96), 'swamp': (105, 131, 57), 'tealish green': (12, 220, 115), 'burnt siena': (183, 82, 3), 'camo': (127, 143, 78), 'dusk blue': (38, 83, 141), 'fern': (99, 169, 80), 'old rose': (200, 127, 137), 'pale light green': (177, 252, 153), 'peachy pink': (255, 154, 138), 'rosy pink': (246, 104, 142), 'light bluish green': (118, 253, 168), 'light bright green': (83, 254, 92), 'light neon green': (78, 253, 84), 'light seafoam': (160, 254, 191), 'tiffany blue': (123, 242, 218), 'washed out green': (188, 245, 166), 'browny orange': (202, 107, 2), 'nice blue': (16, 122, 176), 'sapphire': (33, 56, 171), 'greyish teal': (113, 159, 145), 'orangey yellow': (253, 185, 21), 'parchment': (254, 252, 175), 'straw': (252, 246, 121), 'very dark brown': (29, 2, 0), 'terracota': (203, 104, 67), 'ugly blue': (49, 102, 138), 'clear blue': (36, 122, 253), 'creme': (255, 255, 182), 'foam green': (144, 253, 169), 'grey/green': (134, 161, 125), 'light gold': (253, 220, 92), 'seafoam blue': (120, 209, 182), 'topaz': (19, 187, 175), 'violet pink': (251, 95, 252), 'wintergreen': (32, 249, 134), 'yellow tan': (255, 227, 110), 'dark fuchsia': (157, 7, 89), 'indigo blue': (58, 24, 177), 'light yellowish green': (194, 255, 137), 'pale magenta': (215, 103, 173), 'rich purple': (114, 0, 88), 'sunflower yellow': (255, 218, 3), 'green/blue': (1, 192, 141), 'leather': (172, 116, 52), 'racing green': (1, 70, 0), 'vivid purple': (153, 0, 250), 'dark royal blue': (2, 6, 111), 'hazel': (142, 118, 24), 'muted pink': (209, 118, 143), 'booger green': (150, 180, 3), 'canary': (253, 255, 99), 'cool grey': (149, 163, 166), 'dark taupe': (127, 104, 78), 'darkish purple': (117, 25, 115), 'true green': (8, 148, 4), 'coral pink': (255, 97, 99), 'dark sage': (89, 133, 86), 'dark slate blue': (33, 71, 97), 'flat blue': (60, 115, 168), 'mushroom': (186, 158, 136), 'rich blue': (2, 27, 249), 'dirty purple': (115, 74, 101), 'greenblue': (35, 196, 139), 'icky green': (143, 174, 34), 'light khaki': (230, 242, 162), 'warm blue': (75, 87, 219), 'dark hot pink': (217, 1, 102), 'deep sea blue': (1, 84, 130), 'carmine': (157, 2, 22), 'dark yellow green': (114, 143, 2), 'pale peach': (255, 229, 173), 'plum purple': (78, 5, 80), 'golden rod': (249, 188, 8), 'neon red': (255, 7, 58), 'old pink': (199, 121, 134), 'very pale blue': (214, 255, 254), 'blood orange': (254, 75, 3), 'grapefruit': (253, 89, 86), 'sand yellow': (252, 225, 102), 'clay brown': (178, 113, 61), 'dark blue grey': (31, 59, 77), 'flat green': (105, 157, 76), 'light green blue': (86, 252, 162), 'warm pink': (251, 85, 129), 'dodger blue': (62, 130, 252), 'gross green': (160, 191, 22), 'ice': (214, 255, 250), 'metallic blue': (79, 115, 142), 'pale salmon': (255, 177, 154), 'sap green': (92, 139, 21), 'algae': (84, 172, 104), 'bluey grey': (137, 160, 176), 'greeny grey': (126, 160, 122), 'highlighter green': (27, 252, 6), 'light light blue': (202, 255, 251), 'light mint': (182, 255, 187), 'raw umber': (167, 94, 9), 'vivid blue': (21, 46, 255), 'deep lavender': (141, 94, 183), 'dull teal': (95, 158, 143), 'light greenish blue': (99, 247, 180), 'mud green': (96, 102, 2), 'pinky': (252, 134, 170), 'red wine': (140, 0, 52), 'shit green': (117, 128, 0), 'tan brown': (171, 126, 76), 'darkblue': (3, 7, 100), 'rosa': (254, 134, 164), 'lipstick': (213, 23, 78), 'pale mauve': (254, 208, 252), 'claret': (104, 0, 24), 'dandelion': (254, 223, 8), 'orangered': (254, 66, 15), 'poop green': (111, 124, 0), 'ruby': (202, 1, 71), 'dark': (27, 36, 49), 'greenish turquoise': (0, 251, 176), 'pastel red': (219, 88, 86), 'piss yellow': (221, 214, 24), 'bright cyan': (65, 253, 254), 'dark coral': (207, 82, 78), 'algae green': (33, 195, 111), 'darkish red': (169, 3, 8), 'reddy brown': (110, 16, 5), 'blush pink': (254, 130, 140), 'camouflage green': (75, 97, 19), 'lawn green': (77, 164, 9), 'putty': (190, 174, 138), 'vibrant blue': (3, 57, 248), 'dark sand': (168, 143, 89), 'purple/blue': (93, 33, 208), 'saffron': (254, 178, 9), 'twilight': (78, 81, 139), 'warm brown': (150, 78, 2), 'bluegrey': (133, 163, 178), 'bubble gum pink': (255, 105, 175), 'duck egg blue': (195, 251, 244), 'greenish cyan': (42, 254, 183), 'petrol': (0, 95, 106), 'royal': (12, 23, 147), 'butter': (255, 255, 129), 'dusty orange': (240, 131, 58), 'off yellow': (241, 243, 63), 'pale olive green': (177, 210, 123), 'orangish': (252, 130, 74), 'leaf': (113, 170, 52), 'light blue grey': (183, 201, 226), 'dried blood': (75, 1, 1), 'lightish purple': (165, 82, 230), 'rusty red': (175, 47, 13), 'lavender blue': (139, 136, 248), 'light grass green': (154, 247, 100), 'light mint green': (166, 251, 178), 'sunflower': (255, 197, 18), 'velvet': (117, 8, 81), 'brick orange': (193, 74, 9), 'lightish red': (254, 47, 74), 'pure blue': (2, 3, 226), 'twilight blue': (10, 67, 122), 'violet red': (165, 0, 85), 'yellowy brown': (174, 139, 12), 'carnation': (253, 121, 143), 'muddy yellow': (191, 172, 5), 'dark seafoam green': (62, 175, 118), 'deep rose': (199, 71, 103), 'dusty red': (185, 72, 78), 'grey/blue': (100, 125, 142), 'lemon lime': (191, 254, 40), 'purple/pink': (215, 37, 222), 'brown yellow': (178, 151, 5), 'purple brown': (103, 58, 63), 'wisteria': (168, 125, 194), 'banana yellow': (250, 254, 75), 'lipstick red': (192, 2, 47), 'water blue': (14, 135, 204), 'brown grey': (141, 132, 104), 'vibrant purple': (173, 3, 222), 'baby green': (140, 255, 158), 'barf green': (148, 172, 2), 'eggshell blue': (196, 255, 247), 'sandy yellow': (253, 238, 115), 'cool green': (51, 184, 100), 'pale': (255, 249, 208), 'blue/grey': (117, 141, 163), 'hot magenta': (245, 4, 201), 'greyblue': (119, 161, 181), 'purpley': (135, 86, 228), 'baby shit green': (136, 151, 23), 'brownish pink': (194, 126, 121), 'dark aquamarine': (1, 115, 113), 'diarrhea': (159, 131, 3), 'light mustard': (247, 213, 96), 'pale sky blue': (189, 246, 254), 'turtle green': (117, 184, 79), 'bright olive': (156, 187, 4), 'dark grey blue': (41, 70, 91), 'greeny brown': (105, 96, 6), 'lemon green': (173, 248, 2), 'light periwinkle': (193, 198, 252), 'seaweed green': (53, 173, 107), 'sunshine yellow': (255, 253, 55), 'ugly purple': (164, 66, 160), 'medium pink': (243, 97, 150), 'puke brown': (148, 119, 6), 'very light pink': (255, 244, 242), 'viridian': (30, 145, 103), 'bile': (181, 195, 6), 'faded yellow': (254, 255, 127), 'very pale green': (207, 253, 188), 'vibrant green': (10, 221, 8), 'bright lime': (135, 253, 5), 'spearmint': (30, 248, 118), 'light aquamarine': (123, 253, 199), 'light sage': (188, 236, 172), 'yellowgreen': (187, 249, 15), 'baby poo': (171, 144, 4), 'dark seafoam': (31, 181, 122), 'deep teal': (0, 85, 90), 'heather': (164, 132, 172), 'rust orange': (196, 85, 8), 'dirty blue': (63, 130, 157), 'fern green': (84, 141, 68), 'bright lilac': (201, 94, 251), 'weird green': (58, 229, 127), 'peacock blue': (1, 103, 149), 'avocado green': (135, 169, 34), 'faded orange': (240, 148, 77), 'grape purple': (93, 20, 81), 'hot green': (37, 255, 41), 'lime yellow': (208, 254, 29), 'mango': (255, 166, 43), 'shamrock': (1, 180, 76), 'bubblegum': (255, 108, 181), 'purplish brown': (107, 66, 71), 'vomit yellow': (199, 193, 12), 'pale cyan': (183, 255, 250), 'key lime': (174, 255, 110), 'tomato red': (236, 45, 1), 'lightgreen': (118, 255, 123), 'merlot': (115, 0, 57), 'night blue': (4, 3, 72), 'purpleish pink': (223, 78, 200), 'apple': (110, 203, 60), 'baby poop green': (143, 152, 5), 'green apple': (94, 220, 31), 'heliotrope': (217, 79, 245), 'yellow/green': (200, 253, 61), 'almost black': (7, 13, 13), 'cool blue': (73, 132, 184), 'leafy green': (81, 183, 59), 'mustard brown': (172, 126, 4), 'dusk': (78, 84, 129), 'dull brown': (135, 110, 75), 'frog green': (88, 188, 8), 'vivid green': (47, 239, 16), 'bright light green': (45, 254, 84), 'fluro green': (10, 255, 2), 'kiwi': (156, 239, 67), 'seaweed': (24, 209, 123), 'navy green': (53, 83, 10), 'ultramarine blue': (24, 5, 219), 'iris': (98, 88, 196), 'pastel orange': (255, 150, 79), 'yellowish orange': (255, 171, 15), 'perrywinkle': (143, 140, 231), 'tealish': (36, 188, 168), 'dark plum': (63, 1, 44), 'pear': (203, 248, 95), 'pinkish orange': (255, 114, 76), 'midnight purple': (40, 1, 55), 'light urple': (179, 111, 246), 'dark mint': (72, 192, 114), 'greenish tan': (188, 203, 122), 'light burgundy': (168, 65, 91), 'turquoise blue': (6, 177, 196), 'ugly pink': (205, 117, 132), 'sandy': (241, 218, 122), 'electric pink': (255, 4, 144), 'muted purple': (128, 91, 135), 'mid green': (80, 167, 71), 'greyish': (168, 164, 149), 'neon yellow': (207, 255, 4), 'banana': (255, 255, 126), 'carnation pink': (255, 127, 167), 'tomato': (239, 64, 38), 'sea': (60, 153, 146), 'muddy brown': (136, 104, 6), 'turquoise green': (4, 244, 137), 'buff': (254, 246, 158), 'fawn': (207, 175, 123), 'muted blue': (59, 113, 159), 'pale rose': (253, 193, 197), 'dark mint green': (32, 192, 115), 'amethyst': (155, 95, 192), 'blue/green': (15, 155, 142), 'chestnut': (116, 40, 2), 'sick green': (157, 185, 44), 'pea': (164, 191, 32), 'rusty orange': (205, 89, 9), 'stone': (173, 165, 135), 'rose red': (190, 1, 60), 'pale aqua': (184, 255, 235), 'deep orange': (220, 77, 1), 'earth': (162, 101, 62), 'mossy green': (99, 139, 39), 'grassy green': (65, 156, 3), 'pale lime green': (177, 255, 101), 'light grey blue': (157, 188, 212), 'pale grey': (253, 253, 254), 'asparagus': (119, 171, 86), 'blueberry': (70, 65, 150), 'purple red': (153, 1, 71), 'pale lime': (190, 253, 115), 'greenish teal': (50, 191, 132), 'caramel': (175, 111, 9), 'deep magenta': (160, 2, 92), 'light peach': (255, 216, 177), 'milk chocolate': (127, 78, 30), 'ocher': (191, 155, 12), 'off green': (107, 163, 83), 'purply pink': (240, 117, 230), 'lightblue': (123, 200, 246), 'dusky blue': (71, 95, 148), 'golden': (245, 191, 3), 'light beige': (255, 254, 182), 'butter yellow': (255, 253, 116), 'dusky purple': (137, 91, 123), 'french blue': (67, 107, 173), 'ugly yellow': (208, 193, 1), 'greeny yellow': (198, 248, 8), 'orangish red': (244, 54, 5), 'shamrock green': (2, 193, 77), 'orangish brown': (178, 95, 3), 'tree green': (42, 126, 25), 'deep violet': (73, 6, 72), 'gunmetal': (83, 98, 103), 'blue/purple': (90, 6, 239), 'cherry': (207, 2, 52), 'sandy brown': (196, 166, 97), 'warm grey': (151, 138, 132), 'dark indigo': (31, 9, 84), 'midnight': (3, 1, 45), 'bluey green': (43, 177, 121), 'grey pink': (195, 144, 155), 'soft purple': (166, 111, 181), 'blood': (119, 0, 1), 'brown red': (146, 43, 5), 'medium grey': (125, 127, 124), 'berry': (153, 15, 75), 'poo': (143, 115, 3), 'purpley pink': (200, 60, 185), 'light salmon': (254, 169, 147), 'snot': (172, 187, 13), 'easter purple': (192, 113, 254), 'light yellow green': (204, 253, 127), 'dark navy blue': (0, 2, 46), 'drab': (130, 131, 68), 'light rose': (255, 197, 203), 'rouge': (171, 18, 57), 'purplish red': (176, 5, 75), 'slime green': (153, 204, 4), 'baby poop': (147, 124, 0), 'irish green': (1, 149, 41), 'pink/purple': (239, 29, 231), 'dark navy': (0, 4, 53), 'greeny blue': (66, 179, 149), 'light plum': (157, 87, 131), 'pinkish grey': (200, 172, 169), 'dirty orange': (200, 118, 6), 'rust red': (170, 39, 4), 'pale lilac': (228, 203, 255), 'orangey red': (250, 66, 36), 'primary blue': (8, 4, 249), 'kermit green': (92, 178, 0), 'brownish purple': (118, 66, 78), 'murky green': (108, 122, 14), 'wheat': (251, 221, 126), 'very dark purple': (42, 1, 52), 'bottle green': (4, 74, 5), 'watermelon': (253, 70, 89), 'deep sky blue': (13, 117, 248), 'fire engine red': (254, 0, 2), 'yellow ochre': (203, 157, 6), 'pumpkin orange': (251, 125, 7), 'pale olive': (185, 204, 129), 'light lilac': (237, 200, 255), 'lightish green': (97, 225, 96), 'carolina blue': (138, 184, 254), 'mulberry': (146, 10, 78), 'shocking pink': (254, 2, 162), 'auburn': (154, 48, 1), 'bright lime green': (101, 254, 8), 'celadon': (190, 253, 183), 'pinkish brown': (177, 114, 97), 'poo brown': (136, 95, 1), 'bright sky blue': (2, 204, 254), 'celery': (193, 253, 149), 'dirt brown': (131, 101, 57), 'strawberry': (251, 41, 67), 'dark lime': (132, 183, 1), 'copper': (182, 99, 37), 'medium brown': (127, 81, 18), 'muted green': (95, 160, 82), \"robin's egg\": (109, 237, 253), 'bright aqua': (11, 249, 234), 'bright lavender': (199, 96, 255), 'ivory': (255, 255, 203), 'very light purple': (246, 206, 252), 'light navy': (21, 80, 132), 'pink red': (245, 5, 79), 'olive brown': (100, 84, 3), 'poop brown': (122, 89, 1), 'mustard green': (168, 181, 4), 'ocean green': (61, 153, 115), 'very dark blue': (0, 1, 51), 'dusty green': (118, 169, 115), 'light navy blue': (46, 90, 136), 'minty green': (11, 247, 125), 'adobe': (189, 108, 72), 'barney': (172, 29, 184), 'jade green': (43, 175, 106), 'bright light blue': (38, 247, 253), 'light lime': (174, 253, 108), 'dark khaki': (155, 143, 85), 'orange yellow': (255, 173, 1), 'ocre': (198, 156, 4), 'maize': (244, 208, 84), 'faded pink': (222, 157, 172), 'british racing green': (5, 72, 13), 'sandstone': (201, 174, 116), 'mud brown': (96, 70, 15), 'light sea green': (152, 246, 176), 'robin egg blue': (138, 241, 254), 'aqua marine': (46, 232, 187), 'dark sea green': (17, 135, 93), 'soft pink': (253, 176, 192), 'orangey brown': (177, 96, 2), 'cherry red': (247, 2, 42), 'burnt yellow': (213, 171, 9), 'brownish grey': (134, 119, 95), 'camel': (198, 159, 89), 'purplish grey': (122, 104, 127), 'marine': (4, 46, 96), 'greyish pink': (200, 141, 148), 'pale turquoise': (165, 251, 213), 'pastel yellow': (255, 254, 113), 'bluey purple': (98, 65, 199), 'canary yellow': (255, 254, 64), 'faded red': (211, 73, 78), 'sepia': (152, 94, 43), 'coffee': (166, 129, 76), 'bright magenta': (255, 8, 232), 'mocha': (157, 118, 81), 'ecru': (254, 255, 202), 'purpleish': (152, 86, 141), 'cranberry': (158, 0, 58), 'darkish green': (40, 124, 55), 'brown orange': (185, 105, 2), 'dusky rose': (186, 104, 115), 'melon': (255, 120, 85), 'sickly green': (148, 178, 28), 'silver': (197, 201, 199), 'purply blue': (102, 26, 238), 'purpleish blue': (97, 64, 239), 'hospital green': (155, 229, 170), 'shit brown': (123, 88, 4), 'mid blue': (39, 106, 179), 'amber': (254, 179, 8), 'easter green': (140, 253, 126), 'soft blue': (100, 136, 234), 'cerulean blue': (5, 110, 238), 'golden brown': (178, 122, 1), 'bright turquoise': (15, 254, 249), 'red pink': (250, 42, 85), 'red purple': (130, 7, 71), 'greyish brown': (122, 106, 79), 'vermillion': (244, 50, 12), 'russet': (161, 57, 5), 'steel grey': (111, 130, 138), 'lighter purple': (165, 90, 244), 'bright violet': (173, 10, 253), 'prussian blue': (0, 69, 119), 'slate green': (101, 141, 109), 'dirty pink': (202, 123, 128), 'dark blue green': (0, 82, 73), 'pine': (43, 93, 52), 'yellowy green': (191, 241, 40), 'dark gold': (181, 148, 16), 'bluish': (41, 118, 187), 'darkish blue': (1, 65, 130), 'dull red': (187, 63, 63), 'pinky red': (252, 38, 71), 'bronze': (168, 121, 0), 'pale teal': (130, 203, 178), 'military green': (102, 124, 62), 'barbie pink': (254, 70, 165), 'bubblegum pink': (254, 131, 204), 'pea soup green': (148, 166, 23), 'dark mustard': (168, 137, 5), 'shit': (127, 95, 0), 'medium purple': (158, 67, 162), 'very dark green': (6, 46, 3), 'dirt': (138, 110, 69), 'dusky pink': (204, 122, 139), 'red violet': (158, 1, 104), 'lemon yellow': (253, 255, 56), 'pistachio': (192, 250, 139), 'dull yellow': (238, 220, 91), 'dark lime green': (126, 189, 1), 'denim blue': (59, 91, 146), 'teal blue': (1, 136, 159), 'lightish blue': (61, 122, 253), 'purpley blue': (95, 52, 231), 'light indigo': (109, 90, 207), 'swamp green': (116, 133, 0), 'brown green': (112, 108, 17), 'dark maroon': (60, 0, 8), 'hot purple': (203, 0, 245), 'dark forest green': (0, 45, 4), 'faded blue': (101, 140, 187), 'drab green': (116, 149, 81), 'light lime green': (185, 255, 102), 'snot green': (157, 193, 0), 'yellowish': (250, 238, 102), 'light blue green': (126, 251, 179), 'bordeaux': (123, 0, 44), 'light mauve': (194, 146, 161), 'ocean': (1, 123, 146), 'marigold': (252, 192, 6), 'muddy green': (101, 116, 50), 'dull orange': (216, 134, 59), 'steel': (115, 133, 149), 'electric purple': (170, 35, 255), 'fluorescent green': (8, 255, 8), 'yellowish brown': (155, 122, 1), 'blush': (242, 158, 142), 'soft green': (111, 194, 118), 'bright orange': (255, 91, 0), 'lemon': (253, 255, 82), 'purple grey': (134, 111, 133), 'acid green': (143, 254, 9), 'pale lavender': (238, 207, 254), 'violet blue': (81, 10, 201), 'light forest green': (79, 145, 83), 'burnt red': (159, 35, 5), 'khaki green': (114, 134, 57), 'cerise': (222, 12, 98), 'faded purple': (145, 110, 153), 'apricot': (255, 177, 109), 'dark olive green': (60, 77, 3), 'grey brown': (127, 112, 83), 'green grey': (119, 146, 111), 'true blue': (1, 15, 204), 'pale violet': (206, 174, 250), 'periwinkle blue': (143, 153, 251), 'light sky blue': (198, 252, 255), 'blurple': (85, 57, 204), 'green brown': (84, 78, 3), 'bluegreen': (1, 122, 121), 'bright teal': (1, 249, 198), 'brownish yellow': (201, 176, 3), 'pea soup': (146, 153, 1), 'forest': (11, 85, 9), 'barney purple': (160, 4, 152), 'ultramarine': (32, 0, 177), 'purplish': (148, 86, 140), 'puke yellow': (194, 190, 14), 'bluish grey': (116, 139, 151), 'dark periwinkle': (102, 95, 209), 'dark lilac': (156, 109, 165), 'reddish': (196, 66, 64), 'light maroon': (162, 72, 87), 'dusty purple': (130, 95, 135), 'terra cotta': (201, 100, 59), 'avocado': (144, 177, 52), 'marine blue': (1, 56, 106), 'teal green': (37, 163, 111), 'slate grey': (89, 101, 109), 'lighter green': (117, 253, 99), 'electric green': (33, 252, 13), 'dusty blue': (90, 134, 173), 'golden yellow': (254, 198, 21), 'bright yellow': (255, 253, 1), 'light lavender': (223, 197, 254), 'umber': (178, 100, 0), 'poop': (127, 94, 0), 'dark peach': (222, 126, 93), 'jungle green': (4, 130, 67), 'eggshell': (255, 255, 212), 'denim': (59, 99, 140), 'yellow brown': (183, 148, 0), 'dull purple': (132, 89, 126), 'chocolate brown': (65, 25, 0), 'wine red': (123, 3, 35), 'neon blue': (4, 217, 255), 'dirty green': (102, 126, 44), 'light tan': (251, 238, 172), 'ice blue': (215, 255, 254), 'cadet blue': (78, 116, 150), 'dark mauve': (135, 76, 98), 'very light blue': (213, 255, 255), 'grey purple': (130, 109, 140), 'pastel pink': (255, 186, 205), 'very light green': (209, 255, 189), 'dark sky blue': (68, 142, 228), 'evergreen': (5, 71, 42), 'dull pink': (213, 134, 157), 'aubergine': (61, 7, 52), 'mahogany': (74, 1, 0), 'reddish orange': (248, 72, 28), 'deep green': (2, 89, 15), 'vomit green': (137, 162, 3), 'purple pink': (224, 63, 216), 'dusty pink': (213, 138, 148), 'faded green': (123, 178, 116), 'camo green': (82, 101, 37), 'pinky purple': (201, 76, 190), 'pink purple': (219, 75, 218), 'brownish red': (158, 54, 35), 'dark rose': (181, 72, 93), 'mud': (115, 92, 18), 'brownish': (156, 109, 87), 'emerald green': (2, 143, 30), 'pale brown': (177, 145, 110), 'dull blue': (73, 117, 156), 'burnt umber': (160, 69, 14), 'medium green': (57, 173, 72), 'clay': (182, 106, 80), 'light aqua': (140, 255, 219), 'light olive green': (164, 190, 92), 'brownish orange': (203, 119, 35), 'dark aqua': (5, 105, 107), 'purplish pink': (206, 93, 174), 'dark salmon': (200, 90, 83), 'greenish grey': (150, 174, 141), 'jade': (31, 167, 116), 'ugly green': (122, 151, 3), 'dark beige': (172, 147, 98), 'emerald': (1, 160, 73), 'pale red': (217, 84, 77), 'light magenta': (250, 95, 247), 'sky': (130, 202, 252), 'light cyan': (172, 255, 252), 'yellow orange': (252, 176, 1), 'reddish purple': (145, 9, 81), 'reddish pink': (254, 44, 84), 'orchid': (200, 117, 196), 'dirty yellow': (205, 197, 10), 'orange red': (253, 65, 30), 'deep red': (154, 2, 0), 'orange brown': (190, 100, 0), 'cobalt blue': (3, 10, 167), 'neon pink': (254, 1, 154), 'rose pink': (247, 135, 154), 'greyish purple': (136, 113, 145), 'raspberry': (176, 1, 73), 'aqua green': (18, 225, 147), 'salmon pink': (254, 123, 124), 'tangerine': (255, 148, 8), 'brownish green': (106, 110, 9), 'red brown': (139, 46, 22), 'greenish brown': (105, 97, 18), 'pumpkin': (225, 119, 1), 'pine green': (10, 72, 30), 'charcoal': (52, 56, 55), 'baby pink': (255, 183, 206), 'cornflower': (106, 121, 247), 'blue violet': (93, 6, 233), 'chocolate': (61, 28, 2), 'greyish green': (130, 166, 125), 'scarlet': (190, 1, 25), 'green yellow': (201, 255, 39), 'dark olive': (55, 62, 2), 'sienna': (169, 86, 30), 'pastel purple': (202, 160, 255), 'terracotta': (202, 102, 65), 'aqua blue': (2, 216, 233), 'sage green': (136, 179, 120), 'blood red': (152, 0, 2), 'deep pink': (203, 1, 98), 'grass': (92, 172, 45), 'moss': (118, 153, 88), 'pastel blue': (162, 191, 254), 'bluish green': (16, 166, 116), 'green blue': (6, 180, 139), 'dark tan': (175, 136, 74), 'greenish blue': (11, 139, 135), 'pale orange': (255, 167, 86), 'vomit': (162, 164, 21), 'forrest green': (21, 68, 6), 'dark lavender': (133, 103, 152), 'dark violet': (52, 1, 63), 'purple blue': (99, 45, 233), 'dark cyan': (10, 136, 138), 'olive drab': (111, 118, 50), 'pinkish': (212, 106, 126), 'cobalt': (30, 72, 143), 'neon purple': (188, 19, 254), 'light turquoise': (126, 244, 204), 'apple green': (118, 205, 38), 'dull green': (116, 166, 98), 'wine': (128, 1, 63), 'powder blue': (177, 209, 252), 'off white': (255, 255, 228), 'electric blue': (6, 82, 255), 'dark turquoise': (4, 92, 90), 'blue purple': (87, 41, 206), 'azure': (6, 154, 243), 'bright red': (255, 0, 13), 'pinkish red': (241, 12, 69), 'cornflower blue': (81, 112, 215), 'light olive': (172, 191, 105), 'grape': (108, 52, 97), 'greyish blue': (94, 129, 157), 'purplish blue': (96, 30, 249), 'yellowish green': (176, 221, 22), 'greenish yellow': (205, 253, 2), 'medium blue': (44, 111, 187), 'dusty rose': (192, 115, 122), 'light violet': (214, 180, 252), 'midnight blue': (2, 0, 53), 'bluish purple': (112, 59, 231), 'red orange': (253, 60, 6), 'dark magenta': (150, 0, 86), 'greenish': (64, 163, 104), 'ocean blue': (3, 113, 156), 'coral': (252, 90, 80), 'cream': (255, 255, 194), 'reddish brown': (127, 43, 10), 'burnt sienna': (176, 78, 15), 'brick': (160, 54, 35), 'sage': (135, 174, 115), 'grey green': (120, 155, 115), 'white': (255, 255, 255), \"robin's egg blue\": (152, 239, 249), 'moss green': (101, 139, 56), 'steel blue': (90, 125, 154), 'eggplant': (56, 8, 53), 'light yellow': (255, 254, 122), 'leaf green': (92, 169, 4), 'light grey': (216, 220, 214), 'puke': (165, 165, 2), 'pinkish purple': (214, 72, 215), 'sea blue': (4, 116, 149), 'pale purple': (183, 144, 212), 'slate blue': (91, 124, 153), 'blue grey': (96, 124, 142), 'hunter green': (11, 64, 8), 'fuchsia': (237, 13, 217), 'crimson': (140, 0, 15), 'pale yellow': (255, 255, 132), 'ochre': (191, 144, 5), 'mustard yellow': (210, 189, 10), 'light red': (255, 71, 76), 'cerulean': (4, 133, 209), 'pale pink': (255, 207, 220), 'deep blue': (4, 2, 115), 'rust': (168, 60, 9), 'light teal': (144, 228, 193), 'slate': (81, 101, 114), 'goldenrod': (250, 194, 5), 'dark yellow': (213, 182, 10), 'dark grey': (54, 55, 55), 'army green': (75, 93, 22), 'grey blue': (107, 139, 164), 'seafoam': (128, 249, 173), 'puce': (165, 126, 82), 'spring green': (169, 249, 113), 'dark orange': (198, 81, 2), 'sand': (226, 202, 118), 'pastel green': (176, 255, 157), 'mint': (159, 254, 176), 'light orange': (253, 170, 72), 'bright pink': (254, 1, 177), 'chartreuse': (193, 248, 10), 'deep purple': (54, 1, 63), 'dark brown': (52, 28, 2), 'taupe': (185, 162, 129), 'pea green': (142, 171, 18), 'puke green': (154, 174, 7), 'kelly green': (2, 171, 46), 'seafoam green': (122, 249, 171), 'blue green': (19, 126, 109), 'khaki': (170, 166, 98), 'burgundy': (97, 0, 35), 'dark teal': (1, 77, 78), 'brick red': (143, 20, 2), 'royal purple': (75, 0, 110), 'plum': (88, 15, 65), 'mint green': (143, 255, 159), 'gold': (219, 180, 12), 'baby blue': (162, 207, 254), 'yellow green': (192, 251, 45), 'bright purple': (190, 3, 253), 'dark red': (132, 0, 0), 'pale blue': (208, 254, 254), 'grass green': (63, 155, 11), 'navy': (1, 21, 62), 'aquamarine': (4, 216, 178), 'burnt orange': (192, 78, 1), 'neon green': (12, 255, 12), 'bright blue': (1, 101, 252), 'rose': (207, 98, 117), 'light pink': (255, 209, 223), 'mustard': (206, 179, 1), 'indigo': (56, 2, 130), 'lime': (170, 255, 50), 'sea green': (83, 252, 161), 'periwinkle': (142, 130, 254), 'dark pink': (203, 65, 107), 'olive green': (103, 122, 4), 'peach': (255, 176, 124), 'pale green': (199, 253, 181), 'light brown': (173, 129, 80), 'hot pink': (255, 2, 141), 'black': (0, 0, 0), 'lilac': (206, 162, 253), 'navy blue': (0, 17, 70), 'royal blue': (5, 4, 170), 'beige': (230, 218, 166), 'salmon': (255, 121, 108), 'olive': (110, 117, 14), 'maroon': (101, 0, 33), 'bright green': (1, 255, 7), 'dark purple': (53, 6, 62), 'mauve': (174, 113, 129), 'forest green': (6, 71, 12), 'aqua': (19, 234, 201), 'cyan': (0, 255, 255), 'tan': (209, 178, 111), 'dark blue': (0, 3, 91), 'lavender': (199, 159, 239), 'turquoise': (6, 194, 172), 'dark green': (3, 53, 0), 'violet': (154, 14, 234), 'light purple': (191, 119, 246), 'lime green': (137, 254, 5), 'grey': (146, 149, 145), 'sky blue': (117, 187, 253), 'yellow': (255, 255, 20), 'magenta': (194, 0, 120), 'light green': (150, 249, 123), 'orange': (249, 115, 6), 'teal': (2, 147, 134), 'light blue': (149, 208, 252), 'red': (229, 0, 0), 'brown': (101, 55, 0), 'pink': (255, 129, 192), 'blue': (3, 67, 223), 'green': (21, 176, 26), 'purple': (126, 30, 156)}\n"
     ]
    }
   ],
   "source": [
    "print(colors)"
   ]
  },
  {
   "cell_type": "code",
   "execution_count": 7,
   "id": "a2f191d6",
   "metadata": {},
   "outputs": [
    {
     "data": {
      "text/plain": [
       "(110, 117, 14)"
      ]
     },
     "execution_count": 7,
     "metadata": {},
     "output_type": "execute_result"
    }
   ],
   "source": [
    "colors['olive']"
   ]
  },
  {
   "cell_type": "code",
   "execution_count": 8,
   "id": "175e43fb",
   "metadata": {},
   "outputs": [
    {
     "data": {
      "text/plain": [
       "(229, 0, 0)"
      ]
     },
     "execution_count": 8,
     "metadata": {},
     "output_type": "execute_result"
    }
   ],
   "source": [
    "colors['red']"
   ]
  },
  {
   "cell_type": "code",
   "execution_count": 9,
   "id": "94db7a4e",
   "metadata": {},
   "outputs": [
    {
     "data": {
      "text/plain": [
       "(231, 142, 165)"
      ]
     },
     "execution_count": 9,
     "metadata": {},
     "output_type": "execute_result"
    }
   ],
   "source": [
    "colors['pig pink']"
   ]
  },
  {
   "cell_type": "markdown",
   "id": "fd7532a7",
   "metadata": {},
   "source": [
    "This is just a simple function to turn the color code into an image."
   ]
  },
  {
   "cell_type": "code",
   "execution_count": 66,
   "id": "129778f7",
   "metadata": {},
   "outputs": [],
   "source": [
    "def make_solid_color(rgb):\n",
    "    # create a 64x64 matrix for red, green, blue colour values\n",
    "    r = np.full((64,64), rgb[0])\n",
    "    g = np.full((64,64), rgb[1])\n",
    "    b = np.full((64,64), rgb[2])\n",
    "    \n",
    "    # stack the data to create a 3-channel image stored in a 3-dimensional array\n",
    "    return np.dstack((r, g, b))"
   ]
  },
  {
   "cell_type": "code",
   "execution_count": 70,
   "id": "9882b50b",
   "metadata": {},
   "outputs": [
    {
     "name": "stdout",
     "output_type": "stream",
     "text": [
      "(172, 194, 217)\n",
      "(64, 64, 3)\n"
     ]
    },
    {
     "data": {
      "text/plain": [
       "<matplotlib.image.AxesImage at 0x18c31e15390>"
      ]
     },
     "execution_count": 70,
     "metadata": {},
     "output_type": "execute_result"
    },
    {
     "data": {
      "image/png": "[encoded data removed]",
      "text/plain": [
       "<Figure size 640x480 with 1 Axes>"
      ]
     },
     "metadata": {},
     "output_type": "display_data"
    }
   ],
   "source": [
    "image = make_solid_color(colors['olive'])\n",
    "\n",
    "print(colors['cloudy blue'])\n",
    "print(image.shape)\n",
    "\n",
    "plt.imshow(image)"
   ]
  },
  {
   "cell_type": "markdown",
   "id": "7db9aa94",
   "metadata": {},
   "source": [
    "You may have noticed that an RGB color value is a vector of length 3: (172, 194, 217)\n",
    "\n",
    "And we now have a dataset where each of these vectors has an associated name:\n",
    "\n",
    "'Cloudy Blue': (172, 194, 217)\n",
    "\n",
    "So we can start playing with this in maths world."
   ]
  },
  {
   "cell_type": "markdown",
   "id": "fc141ce1",
   "metadata": {
    "pycharm": {
     "name": "#%% md\n"
    }
   },
   "source": [
    "Below we create a function that finds the distance between two colours through th euclidean distance of their vectors"
   ]
  },
  {
   "cell_type": "code",
   "execution_count": 12,
   "id": "c3ca6d2c",
   "metadata": {},
   "outputs": [
    {
     "data": {
      "text/plain": [
       "5.0990195135927845"
      ]
     },
     "execution_count": 12,
     "metadata": {},
     "output_type": "execute_result"
    }
   ],
   "source": [
    "def distance(a, b):\n",
    "    _a = np.array(a) # array from tuple\n",
    "    _b = np.array(b)\n",
    "    return np.linalg.norm(_a - _b) # numpy can perform operations on arrays\n",
    "\n",
    "\n",
    "distance([10, 1], [5, 2])"
   ]
  },
  {
   "cell_type": "code",
   "execution_count": 13,
   "id": "ade71cd9",
   "metadata": {},
   "outputs": [
    {
     "data": {
      "text/plain": [
       "(229, 0, 0)"
      ]
     },
     "execution_count": 13,
     "metadata": {},
     "output_type": "execute_result"
    }
   ],
   "source": [
    "colors['red']"
   ]
  },
  {
   "cell_type": "code",
   "execution_count": 15,
   "id": "27764562",
   "metadata": {},
   "outputs": [
    {
     "name": "stdout",
     "output_type": "stream",
     "text": [
      "273.70787347096905 232.76812496559748\n",
      "True\n"
     ]
    }
   ],
   "source": [
    "d_red_green = distance(colors['red'], colors['green'])\n",
    "d_red_pink  = distance(colors['red'], colors['pink'])\n",
    "\n",
    "print(d_red_green, d_red_pink)\n",
    "print(d_red_green > d_red_pink)"
   ]
  },
  {
   "cell_type": "markdown",
   "id": "b99eee75",
   "metadata": {
    "pycharm": {
     "name": "#%% md\n"
    }
   },
   "source": [
    "The below loops through the colors and finds"
   ]
  },
  {
   "cell_type": "code",
   "execution_count": 16,
   "id": "207b95d9",
   "metadata": {},
   "outputs": [],
   "source": [
    "def closest(space, coord, n=10):\n",
    "    closest = []\n",
    "    for key in sorted(\n",
    "        space.keys(),\n",
    "        key=lambda x: distance(coord, space[x])\n",
    "    )[:n]:\n",
    "        closest.append(key)\n",
    "    return closest"
   ]
  },
  {
   "cell_type": "code",
   "execution_count": 17,
   "id": "51bd6201",
   "metadata": {},
   "outputs": [
    {
     "data": {
      "text/plain": [
       "['olive',\n",
       " 'murky green',\n",
       " 'brownish green',\n",
       " 'brown green',\n",
       " 'browny green',\n",
       " 'olive green',\n",
       " 'poop green',\n",
       " 'ugly brown',\n",
       " 'shit green',\n",
       " 'greenish brown']"
      ]
     },
     "execution_count": 17,
     "metadata": {},
     "output_type": "execute_result"
    }
   ],
   "source": [
    "closest(colors, colors['olive'])"
   ]
  },
  {
   "cell_type": "code",
   "execution_count": 18,
   "id": "a5c0a243",
   "metadata": {},
   "outputs": [
    {
     "data": {
      "text/plain": [
       "['warm purple',\n",
       " 'medium purple',\n",
       " 'ugly purple',\n",
       " 'light eggplant',\n",
       " 'purpleish',\n",
       " 'purplish',\n",
       " 'purply',\n",
       " 'light plum',\n",
       " 'purple',\n",
       " 'muted purple']"
      ]
     },
     "execution_count": 18,
     "metadata": {},
     "output_type": "execute_result"
    }
   ],
   "source": [
    "closest(colors, [150, 60, 150])"
   ]
  },
  {
   "cell_type": "markdown",
   "id": "1dae84d7",
   "metadata": {
    "pycharm": {
     "name": "#%% md\n"
    }
   },
   "source": [
    "lets subtract two colors and see of we can find a color closet to those vectors"
   ]
  },
  {
   "cell_type": "code",
   "execution_count": 19,
   "id": "fa44308f",
   "metadata": {},
   "outputs": [],
   "source": [
    "def subtract(a, b):\n",
    "    _a = np.array(a)\n",
    "    _b = np.array(b)\n",
    "    return _a - _b"
   ]
  },
  {
   "cell_type": "code",
   "execution_count": 20,
   "id": "a8213ea5",
   "metadata": {},
   "outputs": [
    {
     "data": {
      "text/plain": [
       "['cobalt blue',\n",
       " 'royal blue',\n",
       " 'darkish blue',\n",
       " 'true blue',\n",
       " 'royal',\n",
       " 'prussian blue',\n",
       " 'dark royal blue',\n",
       " 'deep blue',\n",
       " 'marine blue',\n",
       " 'deep sea blue']"
      ]
     },
     "execution_count": 20,
     "metadata": {},
     "output_type": "execute_result"
    }
   ],
   "source": [
    "closest(colors, subtract(colors['purple'], colors['red']))"
   ]
  },
  {
   "cell_type": "markdown",
   "id": "d9ac95af",
   "metadata": {
    "pycharm": {
     "name": "#%% md\n"
    }
   },
   "source": [
    "Lets create a poem by randomly choosing colours close to red and blue"
   ]
  },
  {
   "cell_type": "code",
   "execution_count": 21,
   "id": "74aeed69",
   "metadata": {},
   "outputs": [
    {
     "name": "stdout",
     "output_type": "stream",
     "text": [
      "Roses are red, violets are blue\n",
      "Roses are cherry red, violets are bright blue\n",
      "Roses are neon red, violets are blue\n",
      "Roses are lightish red, violets are cerulean blue\n",
      "Roses are light red, violets are azure\n",
      "Roses are reddish pink, violets are bright blue\n",
      "Roses are pinkish red, violets are clear blue\n",
      "Roses are strawberry, violets are bright blue\n",
      "Roses are neon red, violets are cerulean blue\n",
      "Roses are red pink, violets are cerulean\n",
      "Roses are pinky red, violets are cerulean blue\n",
      "Roses are pinkish red, violets are bright blue\n",
      "Roses are pinky red, violets are azure\n",
      "Roses are lightish red, violets are bright sky blue\n"
     ]
    }
   ],
   "source": [
    "red = colors['red']\n",
    "blue = colors['blue']\n",
    "for i in range(14):\n",
    "    rednames = closest(colors, red)\n",
    "    bluenames = closest(colors, blue)\n",
    "    print(\"Roses are \" + rednames[0] + \", violets are \" + bluenames[0])\n",
    "    red = colors[random.choice(rednames[1:])]\n",
    "    blue = colors[random.choice(bluenames[1:])]"
   ]
  },
  {
   "cell_type": "markdown",
   "id": "bd0901c7",
   "metadata": {
    "pycharm": {
     "name": "#%% md\n"
    }
   },
   "source": [
    "The below function helps us calculates the average of vectors"
   ]
  },
  {
   "cell_type": "code",
   "execution_count": 22,
   "id": "01ee9001",
   "metadata": {},
   "outputs": [],
   "source": [
    "def mean(coords):\n",
    "    return np.mean(np.array(coords), axis=0)"
   ]
  },
  {
   "cell_type": "code",
   "execution_count": 27,
   "id": "5d1e1af8-83c0-40ca-a3be-d98794924fc5",
   "metadata": {},
   "outputs": [
    {
     "name": "stdout",
     "output_type": "stream",
     "text": [
      "Collecting en-core-web-lg==3.7.1\n",
      "  Downloading https://github.com/explosion/spacy-models/releases/download/en_core_web_lg-3.7.1/en_core_web_lg-3.7.1-py3-none-any.whl (587.7 MB)\n",
      "     ---------------------------------------- 0.0/587.7 MB ? eta -:--:--\n",
      "     -------------------------------------- 0.0/587.7 MB 660.6 kB/s eta 0:14:50\n",
      "     ---------------------------------------- 0.1/587.7 MB 1.1 MB/s eta 0:09:20\n",
      "     ---------------------------------------- 1.0/587.7 MB 8.3 MB/s eta 0:01:11\n",
      "     --------------------------------------- 2.0/587.7 MB 12.8 MB/s eta 0:00:46\n",
      "     --------------------------------------- 3.7/587.7 MB 16.8 MB/s eta 0:00:35\n",
      "     --------------------------------------- 5.1/587.7 MB 19.2 MB/s eta 0:00:31\n",
      "     --------------------------------------- 6.4/587.7 MB 20.6 MB/s eta 0:00:29\n",
      "      -------------------------------------- 7.8/587.7 MB 21.8 MB/s eta 0:00:27\n",
      "      -------------------------------------- 9.0/587.7 MB 22.1 MB/s eta 0:00:27\n",
      "      ------------------------------------- 10.2/587.7 MB 22.4 MB/s eta 0:00:26\n",
      "      ------------------------------------- 11.2/587.7 MB 27.3 MB/s eta 0:00:22\n",
      "      ------------------------------------- 12.3/587.7 MB 28.5 MB/s eta 0:00:21\n",
      "      ------------------------------------- 12.8/587.7 MB 26.2 MB/s eta 0:00:22\n",
      "      ------------------------------------- 14.3/587.7 MB 25.2 MB/s eta 0:00:23\n",
      "      ------------------------------------- 15.3/587.7 MB 24.2 MB/s eta 0:00:24\n",
      "     - ------------------------------------ 15.8/587.7 MB 24.2 MB/s eta 0:00:24\n",
      "     - ------------------------------------ 17.0/587.7 MB 22.6 MB/s eta 0:00:26\n",
      "     - ------------------------------------ 17.8/587.7 MB 21.8 MB/s eta 0:00:27\n",
      "     - ------------------------------------ 18.9/587.7 MB 21.8 MB/s eta 0:00:27\n",
      "     - ------------------------------------ 19.9/587.7 MB 21.1 MB/s eta 0:00:27\n",
      "     - ------------------------------------ 21.0/587.7 MB 21.1 MB/s eta 0:00:27\n",
      "     - ------------------------------------ 21.9/587.7 MB 20.5 MB/s eta 0:00:28\n",
      "     - ------------------------------------ 22.5/587.7 MB 20.5 MB/s eta 0:00:28\n",
      "     - ------------------------------------ 22.8/587.7 MB 18.7 MB/s eta 0:00:31\n",
      "     - ------------------------------------ 23.8/587.7 MB 18.7 MB/s eta 0:00:31\n",
      "     - ------------------------------------ 24.7/587.7 MB 18.7 MB/s eta 0:00:31\n",
      "     - ------------------------------------ 25.3/587.7 MB 17.7 MB/s eta 0:00:32\n",
      "     - ------------------------------------ 25.8/587.7 MB 17.3 MB/s eta 0:00:33\n",
      "     - ------------------------------------ 26.5/587.7 MB 17.3 MB/s eta 0:00:33\n",
      "     - ------------------------------------ 27.4/587.7 MB 17.2 MB/s eta 0:00:33\n",
      "     - ------------------------------------ 28.1/587.7 MB 16.8 MB/s eta 0:00:34\n",
      "     - ------------------------------------ 28.9/587.7 MB 16.8 MB/s eta 0:00:34\n",
      "     - ------------------------------------ 29.6/587.7 MB 16.4 MB/s eta 0:00:35\n",
      "     - ------------------------------------ 30.4/587.7 MB 16.0 MB/s eta 0:00:35\n",
      "     -- ----------------------------------- 31.0/587.7 MB 15.6 MB/s eta 0:00:36\n",
      "     -- ----------------------------------- 31.6/587.7 MB 14.9 MB/s eta 0:00:38\n",
      "     -- ----------------------------------- 32.5/587.7 MB 15.2 MB/s eta 0:00:37\n",
      "     -- ----------------------------------- 33.3/587.7 MB 16.0 MB/s eta 0:00:35\n",
      "     -- ----------------------------------- 33.8/587.7 MB 15.2 MB/s eta 0:00:37\n",
      "     -- ----------------------------------- 34.1/587.7 MB 14.6 MB/s eta 0:00:39\n",
      "     -- ----------------------------------- 34.5/587.7 MB 14.2 MB/s eta 0:00:39\n",
      "     -- ----------------------------------- 34.8/587.7 MB 13.4 MB/s eta 0:00:42\n",
      "     -- ----------------------------------- 35.2/587.7 MB 13.6 MB/s eta 0:00:41\n",
      "     -- ----------------------------------- 35.6/587.7 MB 13.1 MB/s eta 0:00:43\n",
      "     -- ----------------------------------- 35.9/587.7 MB 12.6 MB/s eta 0:00:44\n",
      "     -- ----------------------------------- 36.2/587.7 MB 12.6 MB/s eta 0:00:44\n",
      "     -- ----------------------------------- 36.5/587.7 MB 11.9 MB/s eta 0:00:47\n",
      "     -- ----------------------------------- 36.7/587.7 MB 11.7 MB/s eta 0:00:48\n",
      "     -- ----------------------------------- 37.0/587.7 MB 11.3 MB/s eta 0:00:49\n",
      "     -- ----------------------------------- 37.5/587.7 MB 10.9 MB/s eta 0:00:51\n",
      "     -- ----------------------------------- 38.3/587.7 MB 10.9 MB/s eta 0:00:51\n",
      "     -- ----------------------------------- 38.8/587.7 MB 10.6 MB/s eta 0:00:52\n",
      "     -- ----------------------------------- 39.4/587.7 MB 10.6 MB/s eta 0:00:52\n",
      "     -- ----------------------------------- 40.2/587.7 MB 10.7 MB/s eta 0:00:52\n",
      "     -- ----------------------------------- 40.9/587.7 MB 10.6 MB/s eta 0:00:52\n",
      "     -- ----------------------------------- 41.4/587.7 MB 10.6 MB/s eta 0:00:52\n",
      "     -- ----------------------------------- 41.9/587.7 MB 10.4 MB/s eta 0:00:53\n",
      "     -- ----------------------------------- 42.7/587.7 MB 10.4 MB/s eta 0:00:53\n",
      "     -- ----------------------------------- 43.6/587.7 MB 10.4 MB/s eta 0:00:53\n",
      "     -- ----------------------------------- 44.4/587.7 MB 11.1 MB/s eta 0:00:49\n",
      "     -- ----------------------------------- 45.3/587.7 MB 11.9 MB/s eta 0:00:46\n",
      "     -- ----------------------------------- 46.1/587.7 MB 13.1 MB/s eta 0:00:42\n",
      "     --- ---------------------------------- 47.0/587.7 MB 14.9 MB/s eta 0:00:37\n",
      "     --- ---------------------------------- 47.6/587.7 MB 15.6 MB/s eta 0:00:35\n",
      "     --- ---------------------------------- 48.3/587.7 MB 15.2 MB/s eta 0:00:36\n",
      "     --- ---------------------------------- 49.0/587.7 MB 15.6 MB/s eta 0:00:35\n",
      "     --- ---------------------------------- 49.7/587.7 MB 15.6 MB/s eta 0:00:35\n",
      "     --- ---------------------------------- 50.5/587.7 MB 16.0 MB/s eta 0:00:34\n",
      "     --- ---------------------------------- 51.3/587.7 MB 16.4 MB/s eta 0:00:33\n",
      "     --- ---------------------------------- 52.1/587.7 MB 16.8 MB/s eta 0:00:32\n",
      "     --- ---------------------------------- 52.9/587.7 MB 17.3 MB/s eta 0:00:31\n",
      "     --- ---------------------------------- 53.6/587.7 MB 16.8 MB/s eta 0:00:32\n",
      "     --- ---------------------------------- 54.4/587.7 MB 16.4 MB/s eta 0:00:33\n",
      "     --- ---------------------------------- 55.3/587.7 MB 16.8 MB/s eta 0:00:32\n",
      "     --- ---------------------------------- 56.2/587.7 MB 16.8 MB/s eta 0:00:32\n",
      "     --- ---------------------------------- 57.1/587.7 MB 16.8 MB/s eta 0:00:32\n",
      "     --- ---------------------------------- 57.8/587.7 MB 16.8 MB/s eta 0:00:32\n",
      "     --- ---------------------------------- 58.4/587.7 MB 16.8 MB/s eta 0:00:32\n",
      "     --- ---------------------------------- 59.0/587.7 MB 16.4 MB/s eta 0:00:33\n",
      "     --- ---------------------------------- 59.5/587.7 MB 16.4 MB/s eta 0:00:33\n",
      "     --- ---------------------------------- 60.1/587.7 MB 16.0 MB/s eta 0:00:34\n",
      "     --- ---------------------------------- 61.0/587.7 MB 16.0 MB/s eta 0:00:34\n",
      "     --- ---------------------------------- 61.7/587.7 MB 16.0 MB/s eta 0:00:33\n",
      "     ---- --------------------------------- 62.4/587.7 MB 16.0 MB/s eta 0:00:33\n",
      "     ---- --------------------------------- 63.1/587.7 MB 15.6 MB/s eta 0:00:34\n",
      "     ---- --------------------------------- 63.9/587.7 MB 16.0 MB/s eta 0:00:33\n",
      "     ---- --------------------------------- 64.6/587.7 MB 15.6 MB/s eta 0:00:34\n",
      "     ---- --------------------------------- 65.2/587.7 MB 15.2 MB/s eta 0:00:35\n",
      "     ---- --------------------------------- 66.0/587.7 MB 15.2 MB/s eta 0:00:35\n",
      "     ---- --------------------------------- 66.7/587.7 MB 15.2 MB/s eta 0:00:35\n",
      "     ---- --------------------------------- 67.3/587.7 MB 14.6 MB/s eta 0:00:36\n",
      "     ---- --------------------------------- 68.0/587.7 MB 14.6 MB/s eta 0:00:36\n",
      "     ---- --------------------------------- 68.9/587.7 MB 15.2 MB/s eta 0:00:35\n",
      "     ---- --------------------------------- 69.6/587.7 MB 15.2 MB/s eta 0:00:35\n",
      "     ---- --------------------------------- 70.2/587.7 MB 15.6 MB/s eta 0:00:34\n",
      "     ---- --------------------------------- 71.0/587.7 MB 15.6 MB/s eta 0:00:34\n",
      "     ---- --------------------------------- 71.8/587.7 MB 15.6 MB/s eta 0:00:34\n",
      "     ---- --------------------------------- 72.4/587.7 MB 15.2 MB/s eta 0:00:34\n",
      "     ---- --------------------------------- 72.9/587.7 MB 14.5 MB/s eta 0:00:36\n",
      "     ---- --------------------------------- 73.2/587.7 MB 14.6 MB/s eta 0:00:36\n",
      "     ---- --------------------------------- 73.7/587.7 MB 13.9 MB/s eta 0:00:37\n",
      "     ---- --------------------------------- 74.5/587.7 MB 14.2 MB/s eta 0:00:37\n",
      "     ---- --------------------------------- 75.1/587.7 MB 13.9 MB/s eta 0:00:37\n",
      "     ---- --------------------------------- 75.9/587.7 MB 14.2 MB/s eta 0:00:36\n",
      "     ---- --------------------------------- 76.6/587.7 MB 14.2 MB/s eta 0:00:36\n",
      "     ---- --------------------------------- 77.2/587.7 MB 13.9 MB/s eta 0:00:37\n",
      "     ----- -------------------------------- 77.9/587.7 MB 14.2 MB/s eta 0:00:36\n",
      "     ----- -------------------------------- 78.5/587.7 MB 14.2 MB/s eta 0:00:36\n",
      "     ----- -------------------------------- 79.2/587.7 MB 13.9 MB/s eta 0:00:37\n",
      "     ----- -------------------------------- 79.8/587.7 MB 13.6 MB/s eta 0:00:38\n",
      "     ----- -------------------------------- 80.5/587.7 MB 13.9 MB/s eta 0:00:37\n",
      "     ----- -------------------------------- 81.3/587.7 MB 13.6 MB/s eta 0:00:38\n",
      "     ----- -------------------------------- 81.9/587.7 MB 13.4 MB/s eta 0:00:38\n",
      "     ----- -------------------------------- 82.5/587.7 MB 13.1 MB/s eta 0:00:39\n",
      "     ----- -------------------------------- 83.2/587.7 MB 13.6 MB/s eta 0:00:37\n",
      "     ----- -------------------------------- 83.9/587.7 MB 14.2 MB/s eta 0:00:36\n",
      "     ----- -------------------------------- 84.7/587.7 MB 14.2 MB/s eta 0:00:36\n",
      "     ----- -------------------------------- 85.3/587.7 MB 14.5 MB/s eta 0:00:35\n",
      "     ----- -------------------------------- 85.9/587.7 MB 14.6 MB/s eta 0:00:35\n",
      "     ----- -------------------------------- 86.8/587.7 MB 14.9 MB/s eta 0:00:34\n",
      "     ----- -------------------------------- 87.3/587.7 MB 14.6 MB/s eta 0:00:35\n",
      "     ----- -------------------------------- 87.8/587.7 MB 13.9 MB/s eta 0:00:36\n",
      "     ----- -------------------------------- 88.1/587.7 MB 13.4 MB/s eta 0:00:38\n",
      "     ----- -------------------------------- 88.6/587.7 MB 13.6 MB/s eta 0:00:37\n",
      "     ----- -------------------------------- 88.9/587.7 MB 13.1 MB/s eta 0:00:39\n",
      "     ----- -------------------------------- 89.1/587.7 MB 12.6 MB/s eta 0:00:40\n",
      "     ----- -------------------------------- 89.3/587.7 MB 12.4 MB/s eta 0:00:41\n",
      "     ----- -------------------------------- 89.6/587.7 MB 11.7 MB/s eta 0:00:43\n",
      "     ----- -------------------------------- 89.9/587.7 MB 11.5 MB/s eta 0:00:44\n",
      "     ----- -------------------------------- 90.2/587.7 MB 11.1 MB/s eta 0:00:45\n",
      "     ----- -------------------------------- 90.6/587.7 MB 10.9 MB/s eta 0:00:46\n",
      "     ----- -------------------------------- 91.0/587.7 MB 10.6 MB/s eta 0:00:48\n",
      "     ----- -------------------------------- 91.4/587.7 MB 10.4 MB/s eta 0:00:48\n",
      "     ----- -------------------------------- 91.7/587.7 MB 10.2 MB/s eta 0:00:49\n",
      "     ------ -------------------------------- 92.1/587.7 MB 9.9 MB/s eta 0:00:50\n",
      "     ------ -------------------------------- 92.4/587.7 MB 9.9 MB/s eta 0:00:50\n",
      "     ------ -------------------------------- 92.9/587.7 MB 9.6 MB/s eta 0:00:52\n",
      "     ------ -------------------------------- 93.4/587.7 MB 9.6 MB/s eta 0:00:52\n",
      "     ------ -------------------------------- 93.7/587.7 MB 9.4 MB/s eta 0:00:53\n",
      "     ------ -------------------------------- 94.2/587.7 MB 9.2 MB/s eta 0:00:54\n",
      "     ------ -------------------------------- 94.6/587.7 MB 9.1 MB/s eta 0:00:55\n",
      "     ------ -------------------------------- 95.2/587.7 MB 9.0 MB/s eta 0:00:55\n",
      "     ------ -------------------------------- 95.6/587.7 MB 8.8 MB/s eta 0:00:56\n",
      "     ------ -------------------------------- 96.1/587.7 MB 8.6 MB/s eta 0:00:58\n",
      "     ------ -------------------------------- 96.5/587.7 MB 8.6 MB/s eta 0:00:57\n",
      "     ------ -------------------------------- 97.0/587.7 MB 8.4 MB/s eta 0:00:59\n",
      "     ------ -------------------------------- 97.4/587.7 MB 8.4 MB/s eta 0:00:59\n",
      "     ------ -------------------------------- 98.0/587.7 MB 8.5 MB/s eta 0:00:58\n",
      "     ------ -------------------------------- 98.6/587.7 MB 8.6 MB/s eta 0:00:57\n",
      "     ------ -------------------------------- 99.2/587.7 MB 9.0 MB/s eta 0:00:55\n",
      "     ------ -------------------------------- 99.7/587.7 MB 9.4 MB/s eta 0:00:53\n",
      "     ------ ------------------------------- 100.3/587.7 MB 9.9 MB/s eta 0:00:50\n",
      "     ------ ------------------------------ 100.9/587.7 MB 10.2 MB/s eta 0:00:48\n",
      "     ------ ------------------------------ 101.6/587.7 MB 10.6 MB/s eta 0:00:47\n",
      "     ------ ------------------------------ 102.2/587.7 MB 10.9 MB/s eta 0:00:45\n",
      "     ------ ------------------------------ 102.6/587.7 MB 10.9 MB/s eta 0:00:45\n",
      "     ------ ------------------------------ 103.1/587.7 MB 10.9 MB/s eta 0:00:45\n",
      "     ------ ------------------------------ 103.7/587.7 MB 11.1 MB/s eta 0:00:44\n",
      "     ------ ------------------------------ 104.3/587.7 MB 11.5 MB/s eta 0:00:43\n",
      "     ------ ------------------------------ 104.8/587.7 MB 11.5 MB/s eta 0:00:43\n",
      "     ------ ------------------------------ 105.2/587.7 MB 11.5 MB/s eta 0:00:42\n",
      "     ------ ------------------------------ 105.7/587.7 MB 11.5 MB/s eta 0:00:42\n",
      "     ------ ------------------------------ 106.2/587.7 MB 11.5 MB/s eta 0:00:42\n",
      "     ------ ------------------------------ 106.8/587.7 MB 11.7 MB/s eta 0:00:42\n",
      "     ------ ------------------------------ 107.6/587.7 MB 12.1 MB/s eta 0:00:40\n",
      "     ------ ------------------------------ 108.1/587.7 MB 12.1 MB/s eta 0:00:40\n",
      "     ------ ------------------------------ 108.7/587.7 MB 11.9 MB/s eta 0:00:41\n",
      "     ------ ------------------------------ 109.4/587.7 MB 12.1 MB/s eta 0:00:40\n",
      "     ------ ------------------------------ 110.1/587.7 MB 12.4 MB/s eta 0:00:39\n",
      "     ------ ------------------------------ 110.9/587.7 MB 12.6 MB/s eta 0:00:38\n",
      "     ------- ----------------------------- 111.6/587.7 MB 12.6 MB/s eta 0:00:38\n",
      "     ------- ----------------------------- 112.3/587.7 MB 12.6 MB/s eta 0:00:38\n",
      "     ------- ----------------------------- 112.9/587.7 MB 13.1 MB/s eta 0:00:37\n",
      "     ------- ----------------------------- 113.6/587.7 MB 13.4 MB/s eta 0:00:36\n",
      "     ------- ----------------------------- 114.4/587.7 MB 13.4 MB/s eta 0:00:36\n",
      "     ------- ----------------------------- 114.9/587.7 MB 13.6 MB/s eta 0:00:35\n",
      "     ------- ----------------------------- 115.5/587.7 MB 13.9 MB/s eta 0:00:34\n",
      "     ------- ----------------------------- 116.3/587.7 MB 14.2 MB/s eta 0:00:34\n",
      "     ------- ----------------------------- 116.9/587.7 MB 14.6 MB/s eta 0:00:33\n",
      "     ------- ----------------------------- 117.5/587.7 MB 14.2 MB/s eta 0:00:34\n",
      "     ------- ----------------------------- 118.1/587.7 MB 14.2 MB/s eta 0:00:34\n",
      "     ------- ----------------------------- 118.6/587.7 MB 13.9 MB/s eta 0:00:34\n",
      "     ------- ----------------------------- 119.3/587.7 MB 14.2 MB/s eta 0:00:33\n",
      "     ------- ----------------------------- 119.9/587.7 MB 14.2 MB/s eta 0:00:33\n",
      "     ------- ----------------------------- 120.8/587.7 MB 14.2 MB/s eta 0:00:33\n",
      "     ------- ----------------------------- 121.4/587.7 MB 14.2 MB/s eta 0:00:33\n",
      "     ------- ----------------------------- 122.1/587.7 MB 13.9 MB/s eta 0:00:34\n",
      "     ------- ----------------------------- 122.9/587.7 MB 14.6 MB/s eta 0:00:32\n",
      "     ------- ----------------------------- 123.2/587.7 MB 13.9 MB/s eta 0:00:34\n",
      "     ------- ----------------------------- 123.9/587.7 MB 13.9 MB/s eta 0:00:34\n",
      "     ------- ----------------------------- 124.2/587.7 MB 13.4 MB/s eta 0:00:35\n",
      "     ------- ----------------------------- 124.6/587.7 MB 13.1 MB/s eta 0:00:36\n",
      "     ------- ----------------------------- 125.2/587.7 MB 13.1 MB/s eta 0:00:36\n",
      "     ------- ----------------------------- 125.7/587.7 MB 12.8 MB/s eta 0:00:36\n",
      "     ------- ----------------------------- 126.1/587.7 MB 12.6 MB/s eta 0:00:37\n",
      "     ------- ----------------------------- 126.5/587.7 MB 12.4 MB/s eta 0:00:38\n",
      "     ------- ----------------------------- 127.0/587.7 MB 12.1 MB/s eta 0:00:39\n",
      "     -------- ---------------------------- 127.6/587.7 MB 12.1 MB/s eta 0:00:38\n",
      "     -------- ---------------------------- 128.0/587.7 MB 11.9 MB/s eta 0:00:39\n",
      "     -------- ---------------------------- 128.4/587.7 MB 11.7 MB/s eta 0:00:40\n",
      "     -------- ---------------------------- 128.6/587.7 MB 11.5 MB/s eta 0:00:40\n",
      "     -------- ---------------------------- 128.9/587.7 MB 11.1 MB/s eta 0:00:42\n",
      "     -------- ---------------------------- 129.2/587.7 MB 10.7 MB/s eta 0:00:43\n",
      "     -------- ---------------------------- 129.5/587.7 MB 10.4 MB/s eta 0:00:45\n",
      "     -------- ---------------------------- 129.6/587.7 MB 10.1 MB/s eta 0:00:46\n",
      "     -------- ----------------------------- 129.8/587.7 MB 9.8 MB/s eta 0:00:47\n",
      "     -------- ----------------------------- 129.9/587.7 MB 9.4 MB/s eta 0:00:49\n",
      "     -------- ----------------------------- 130.1/587.7 MB 9.1 MB/s eta 0:00:51\n",
      "     -------- ----------------------------- 130.3/587.7 MB 8.8 MB/s eta 0:00:52\n",
      "     -------- ----------------------------- 130.5/587.7 MB 8.6 MB/s eta 0:00:54\n",
      "     -------- ----------------------------- 130.7/587.7 MB 8.3 MB/s eta 0:00:56\n",
      "     -------- ----------------------------- 130.9/587.7 MB 8.1 MB/s eta 0:00:57\n",
      "     -------- ----------------------------- 131.1/587.7 MB 7.9 MB/s eta 0:00:58\n",
      "     -------- ----------------------------- 131.4/587.7 MB 7.7 MB/s eta 0:01:00\n",
      "     -------- ----------------------------- 131.7/587.7 MB 7.6 MB/s eta 0:01:00\n",
      "     -------- ----------------------------- 132.1/587.7 MB 7.4 MB/s eta 0:01:02\n",
      "     -------- ----------------------------- 132.4/587.7 MB 7.4 MB/s eta 0:01:02\n",
      "     -------- ----------------------------- 132.8/587.7 MB 7.2 MB/s eta 0:01:04\n",
      "     -------- ----------------------------- 133.1/587.7 MB 7.0 MB/s eta 0:01:05\n",
      "     -------- ----------------------------- 133.5/587.7 MB 7.2 MB/s eta 0:01:04\n",
      "     -------- ----------------------------- 133.9/587.7 MB 7.0 MB/s eta 0:01:06\n",
      "     -------- ----------------------------- 134.2/587.7 MB 7.0 MB/s eta 0:01:06\n",
      "     -------- ----------------------------- 134.5/587.7 MB 6.9 MB/s eta 0:01:06\n",
      "     -------- ----------------------------- 134.7/587.7 MB 6.8 MB/s eta 0:01:08\n",
      "     -------- ----------------------------- 135.0/587.7 MB 6.7 MB/s eta 0:01:08\n",
      "     -------- ----------------------------- 135.3/587.7 MB 6.6 MB/s eta 0:01:09\n",
      "     -------- ----------------------------- 135.7/587.7 MB 6.5 MB/s eta 0:01:10\n",
      "     -------- ----------------------------- 136.1/587.7 MB 6.5 MB/s eta 0:01:09\n",
      "     -------- ----------------------------- 136.5/587.7 MB 6.5 MB/s eta 0:01:09\n",
      "     -------- ----------------------------- 136.9/587.7 MB 6.5 MB/s eta 0:01:10\n",
      "     -------- ----------------------------- 137.1/587.7 MB 6.4 MB/s eta 0:01:11\n",
      "     -------- ----------------------------- 137.4/587.7 MB 6.4 MB/s eta 0:01:11\n",
      "     -------- ----------------------------- 137.6/587.7 MB 6.2 MB/s eta 0:01:13\n",
      "     -------- ----------------------------- 137.8/587.7 MB 6.1 MB/s eta 0:01:15\n",
      "     -------- ----------------------------- 137.9/587.7 MB 6.0 MB/s eta 0:01:15\n",
      "     -------- ----------------------------- 138.1/587.7 MB 5.8 MB/s eta 0:01:17\n",
      "     -------- ----------------------------- 138.2/587.7 MB 5.8 MB/s eta 0:01:18\n",
      "     -------- ----------------------------- 138.4/587.7 MB 5.7 MB/s eta 0:01:19\n",
      "     -------- ----------------------------- 138.6/587.7 MB 5.6 MB/s eta 0:01:20\n",
      "     -------- ----------------------------- 138.8/587.7 MB 5.6 MB/s eta 0:01:21\n",
      "     -------- ----------------------------- 139.1/587.7 MB 5.6 MB/s eta 0:01:21\n",
      "     --------- ---------------------------- 139.5/587.7 MB 5.6 MB/s eta 0:01:20\n",
      "     --------- ---------------------------- 140.0/587.7 MB 6.0 MB/s eta 0:01:16\n",
      "     --------- ---------------------------- 140.4/587.7 MB 6.2 MB/s eta 0:01:12\n",
      "     --------- ---------------------------- 140.8/587.7 MB 6.4 MB/s eta 0:01:10\n",
      "     --------- ---------------------------- 141.3/587.7 MB 6.6 MB/s eta 0:01:08\n",
      "     --------- ---------------------------- 141.4/587.7 MB 6.5 MB/s eta 0:01:09\n",
      "     --------- ---------------------------- 141.6/587.7 MB 6.4 MB/s eta 0:01:11\n",
      "     --------- ---------------------------- 142.1/587.7 MB 6.5 MB/s eta 0:01:09\n",
      "     --------- ---------------------------- 142.7/587.7 MB 6.8 MB/s eta 0:01:06\n",
      "     --------- ---------------------------- 143.3/587.7 MB 6.7 MB/s eta 0:01:06\n",
      "     --------- ---------------------------- 143.8/587.7 MB 7.0 MB/s eta 0:01:04\n",
      "     --------- ---------------------------- 144.4/587.7 MB 7.0 MB/s eta 0:01:03\n",
      "     --------- ---------------------------- 145.0/587.7 MB 7.3 MB/s eta 0:01:01\n",
      "     --------- ---------------------------- 145.5/587.7 MB 7.4 MB/s eta 0:01:00\n",
      "     --------- ---------------------------- 145.9/587.7 MB 7.4 MB/s eta 0:01:00\n",
      "     --------- ---------------------------- 146.6/587.7 MB 7.6 MB/s eta 0:00:58\n",
      "     --------- ---------------------------- 147.1/587.7 MB 7.7 MB/s eta 0:00:58\n",
      "     --------- ---------------------------- 147.7/587.7 MB 8.3 MB/s eta 0:00:54\n",
      "     --------- ---------------------------- 148.2/587.7 MB 8.8 MB/s eta 0:00:50\n",
      "     --------- ---------------------------- 148.8/587.7 MB 9.8 MB/s eta 0:00:45\n",
      "     --------- --------------------------- 149.3/587.7 MB 10.4 MB/s eta 0:00:43\n",
      "     --------- --------------------------- 150.0/587.7 MB 10.4 MB/s eta 0:00:43\n",
      "     --------- --------------------------- 150.6/587.7 MB 10.9 MB/s eta 0:00:41\n",
      "     --------- --------------------------- 151.0/587.7 MB 10.9 MB/s eta 0:00:41\n",
      "     --------- --------------------------- 151.6/587.7 MB 11.3 MB/s eta 0:00:39\n",
      "     --------- --------------------------- 152.1/587.7 MB 11.9 MB/s eta 0:00:37\n",
      "     --------- --------------------------- 152.7/587.7 MB 11.7 MB/s eta 0:00:38\n",
      "     --------- --------------------------- 153.1/587.7 MB 11.7 MB/s eta 0:00:38\n",
      "     --------- --------------------------- 153.7/587.7 MB 11.7 MB/s eta 0:00:38\n",
      "     --------- --------------------------- 154.3/587.7 MB 11.9 MB/s eta 0:00:37\n",
      "     --------- --------------------------- 154.9/587.7 MB 11.7 MB/s eta 0:00:38\n",
      "     --------- --------------------------- 155.4/587.7 MB 11.9 MB/s eta 0:00:37\n",
      "     --------- --------------------------- 156.0/587.7 MB 11.9 MB/s eta 0:00:37\n",
      "     --------- --------------------------- 156.8/587.7 MB 12.1 MB/s eta 0:00:36\n",
      "     --------- --------------------------- 157.5/587.7 MB 12.4 MB/s eta 0:00:35\n",
      "     --------- --------------------------- 158.3/587.7 MB 12.8 MB/s eta 0:00:34\n",
      "     --------- --------------------------- 158.8/587.7 MB 12.8 MB/s eta 0:00:34\n",
      "     ---------- -------------------------- 159.4/587.7 MB 12.6 MB/s eta 0:00:35\n",
      "     ---------- -------------------------- 160.0/587.7 MB 12.8 MB/s eta 0:00:34\n",
      "     ---------- -------------------------- 160.7/587.7 MB 12.8 MB/s eta 0:00:34\n",
      "     ---------- -------------------------- 161.1/587.7 MB 12.6 MB/s eta 0:00:34\n",
      "     ---------- -------------------------- 161.5/587.7 MB 12.6 MB/s eta 0:00:34\n",
      "     ---------- -------------------------- 162.3/587.7 MB 12.8 MB/s eta 0:00:34\n",
      "     ---------- -------------------------- 162.9/587.7 MB 13.1 MB/s eta 0:00:33\n",
      "     ---------- -------------------------- 163.7/587.7 MB 13.6 MB/s eta 0:00:32\n",
      "     ---------- -------------------------- 164.5/587.7 MB 13.6 MB/s eta 0:00:32\n",
      "     ---------- -------------------------- 165.4/587.7 MB 14.2 MB/s eta 0:00:30\n",
      "     ---------- -------------------------- 166.2/587.7 MB 14.9 MB/s eta 0:00:29\n",
      "     ---------- -------------------------- 166.9/587.7 MB 14.6 MB/s eta 0:00:29\n",
      "     ---------- -------------------------- 167.4/587.7 MB 14.6 MB/s eta 0:00:29\n",
      "     ---------- -------------------------- 168.0/587.7 MB 13.9 MB/s eta 0:00:31\n",
      "     ---------- -------------------------- 168.6/587.7 MB 13.9 MB/s eta 0:00:31\n",
      "     ---------- -------------------------- 169.3/587.7 MB 14.2 MB/s eta 0:00:30\n",
      "     ---------- -------------------------- 170.2/587.7 MB 14.6 MB/s eta 0:00:29\n",
      "     ---------- -------------------------- 170.9/587.7 MB 14.6 MB/s eta 0:00:29\n",
      "     ---------- -------------------------- 171.4/587.7 MB 14.9 MB/s eta 0:00:28\n",
      "     ---------- -------------------------- 171.9/587.7 MB 14.9 MB/s eta 0:00:28\n",
      "     ---------- -------------------------- 172.4/587.7 MB 14.6 MB/s eta 0:00:29\n",
      "     ---------- -------------------------- 172.8/587.7 MB 14.5 MB/s eta 0:00:29\n",
      "     ---------- -------------------------- 173.0/587.7 MB 13.6 MB/s eta 0:00:31\n",
      "     ---------- -------------------------- 173.3/587.7 MB 13.1 MB/s eta 0:00:32\n",
      "     ---------- -------------------------- 173.8/587.7 MB 12.8 MB/s eta 0:00:33\n",
      "     ---------- -------------------------- 173.9/587.7 MB 12.6 MB/s eta 0:00:33\n",
      "     ---------- -------------------------- 174.1/587.7 MB 11.7 MB/s eta 0:00:36\n",
      "     ---------- -------------------------- 174.3/587.7 MB 11.3 MB/s eta 0:00:37\n",
      "     ---------- -------------------------- 174.7/587.7 MB 10.9 MB/s eta 0:00:38\n",
      "     ----------- ------------------------- 174.9/587.7 MB 10.6 MB/s eta 0:00:40\n",
      "     ----------- ------------------------- 175.4/587.7 MB 10.4 MB/s eta 0:00:40\n",
      "     ----------- ------------------------- 176.0/587.7 MB 10.2 MB/s eta 0:00:41\n",
      "     ----------- ------------------------- 176.5/587.7 MB 10.1 MB/s eta 0:00:41\n",
      "     ----------- -------------------------- 177.1/587.7 MB 9.8 MB/s eta 0:00:43\n",
      "     ----------- -------------------------- 177.6/587.7 MB 9.9 MB/s eta 0:00:42\n",
      "     ----------- -------------------------- 178.2/587.7 MB 9.9 MB/s eta 0:00:42\n",
      "     ----------- -------------------------- 178.9/587.7 MB 9.9 MB/s eta 0:00:42\n",
      "     ----------- -------------------------- 179.6/587.7 MB 9.9 MB/s eta 0:00:42\n",
      "     ----------- -------------------------- 180.3/587.7 MB 9.9 MB/s eta 0:00:42\n",
      "     ----------- -------------------------- 180.7/587.7 MB 9.8 MB/s eta 0:00:42\n",
      "     ----------- -------------------------- 181.0/587.7 MB 9.5 MB/s eta 0:00:43\n",
      "     ----------- -------------------------- 181.4/587.7 MB 9.4 MB/s eta 0:00:44\n",
      "     ----------- -------------------------- 182.1/587.7 MB 9.5 MB/s eta 0:00:43\n",
      "     ----------- -------------------------- 182.7/587.7 MB 9.6 MB/s eta 0:00:43\n",
      "     ----------- ------------------------- 183.4/587.7 MB 10.4 MB/s eta 0:00:39\n",
      "     ----------- ------------------------- 184.1/587.7 MB 10.6 MB/s eta 0:00:39\n",
      "     ----------- ------------------------- 184.7/587.7 MB 11.9 MB/s eta 0:00:34\n",
      "     ----------- ------------------------- 185.3/587.7 MB 12.6 MB/s eta 0:00:32\n",
      "     ----------- ------------------------- 185.8/587.7 MB 12.4 MB/s eta 0:00:33\n",
      "     ----------- ------------------------- 186.4/587.7 MB 12.4 MB/s eta 0:00:33\n",
      "     ----------- ------------------------- 186.9/587.7 MB 12.3 MB/s eta 0:00:33\n",
      "     ----------- ------------------------- 187.4/587.7 MB 12.4 MB/s eta 0:00:33\n",
      "     ----------- ------------------------- 187.9/587.7 MB 12.4 MB/s eta 0:00:33\n",
      "     ----------- ------------------------- 188.5/587.7 MB 12.1 MB/s eta 0:00:33\n",
      "     ----------- ------------------------- 189.0/587.7 MB 12.1 MB/s eta 0:00:33\n",
      "     ----------- ------------------------- 189.7/587.7 MB 12.1 MB/s eta 0:00:33\n",
      "     ----------- ------------------------- 190.2/587.7 MB 11.9 MB/s eta 0:00:34\n",
      "     ------------ ------------------------ 190.7/587.7 MB 11.7 MB/s eta 0:00:34\n",
      "     ------------ ------------------------ 191.2/587.7 MB 12.3 MB/s eta 0:00:33\n",
      "     ------------ ------------------------ 191.8/587.7 MB 12.4 MB/s eta 0:00:33\n",
      "     ------------ ------------------------ 192.2/587.7 MB 12.1 MB/s eta 0:00:33\n",
      "     ------------ ------------------------ 192.9/587.7 MB 12.1 MB/s eta 0:00:33\n",
      "     ------------ ------------------------ 193.4/587.7 MB 11.9 MB/s eta 0:00:34\n",
      "     ------------ ------------------------ 194.1/587.7 MB 11.9 MB/s eta 0:00:34\n",
      "     ------------ ------------------------ 194.7/587.7 MB 12.1 MB/s eta 0:00:33\n",
      "     ------------ ------------------------ 195.5/587.7 MB 12.1 MB/s eta 0:00:33\n",
      "     ------------ ------------------------ 196.1/587.7 MB 12.3 MB/s eta 0:00:32\n",
      "     ------------ ------------------------ 196.3/587.7 MB 11.7 MB/s eta 0:00:34\n",
      "     ------------ ------------------------ 196.8/587.7 MB 11.7 MB/s eta 0:00:34\n",
      "     ------------ ------------------------ 197.5/587.7 MB 12.1 MB/s eta 0:00:33\n",
      "     ------------ ------------------------ 198.1/587.7 MB 12.1 MB/s eta 0:00:33\n",
      "     ------------ ------------------------ 198.7/587.7 MB 12.1 MB/s eta 0:00:33\n",
      "     ------------ ------------------------ 199.3/587.7 MB 12.4 MB/s eta 0:00:32\n",
      "     ------------ ------------------------ 200.0/587.7 MB 12.4 MB/s eta 0:00:32\n",
      "     ------------ ------------------------ 200.6/587.7 MB 12.3 MB/s eta 0:00:32\n",
      "     ------------ ------------------------ 201.5/587.7 MB 13.1 MB/s eta 0:00:30\n",
      "     ------------ ------------------------ 202.2/587.7 MB 13.4 MB/s eta 0:00:29\n",
      "     ------------ ------------------------ 203.0/587.7 MB 13.4 MB/s eta 0:00:29\n",
      "     ------------ ------------------------ 203.5/587.7 MB 13.4 MB/s eta 0:00:29\n",
      "     ------------ ------------------------ 203.9/587.7 MB 13.1 MB/s eta 0:00:30\n",
      "     ------------ ------------------------ 204.1/587.7 MB 12.6 MB/s eta 0:00:31\n",
      "     ------------ ------------------------ 204.8/587.7 MB 12.6 MB/s eta 0:00:31\n",
      "     ------------ ------------------------ 205.6/587.7 MB 12.8 MB/s eta 0:00:30\n",
      "     ------------ ------------------------ 206.4/587.7 MB 13.4 MB/s eta 0:00:29\n",
      "     ------------- ----------------------- 207.2/587.7 MB 14.2 MB/s eta 0:00:27\n",
      "     ------------- ----------------------- 207.6/587.7 MB 13.6 MB/s eta 0:00:28\n",
      "     ------------- ----------------------- 208.4/587.7 MB 13.9 MB/s eta 0:00:28\n",
      "     ------------- ----------------------- 209.1/587.7 MB 13.9 MB/s eta 0:00:28\n",
      "     ------------- ----------------------- 209.8/587.7 MB 14.2 MB/s eta 0:00:27\n",
      "     ------------- ----------------------- 210.4/587.7 MB 14.2 MB/s eta 0:00:27\n",
      "     ------------- ----------------------- 210.8/587.7 MB 13.9 MB/s eta 0:00:28\n",
      "     ------------- ----------------------- 211.2/587.7 MB 13.4 MB/s eta 0:00:29\n",
      "     ------------- ----------------------- 211.9/587.7 MB 13.1 MB/s eta 0:00:29\n",
      "     ------------- ----------------------- 212.6/587.7 MB 13.1 MB/s eta 0:00:29\n",
      "     ------------- ----------------------- 213.5/587.7 MB 13.6 MB/s eta 0:00:28\n",
      "     ------------- ----------------------- 214.2/587.7 MB 13.9 MB/s eta 0:00:27\n",
      "     ------------- ----------------------- 214.7/587.7 MB 14.6 MB/s eta 0:00:26\n",
      "     ------------- ----------------------- 215.3/587.7 MB 14.2 MB/s eta 0:00:27\n",
      "     ------------- ----------------------- 216.2/587.7 MB 14.2 MB/s eta 0:00:27\n",
      "     ------------- ----------------------- 217.1/587.7 MB 14.2 MB/s eta 0:00:27\n",
      "     ------------- ----------------------- 217.7/587.7 MB 14.6 MB/s eta 0:00:26\n",
      "     ------------- ----------------------- 218.5/587.7 MB 14.5 MB/s eta 0:00:26\n",
      "     ------------- ----------------------- 219.3/587.7 MB 14.6 MB/s eta 0:00:26\n",
      "     ------------- ----------------------- 220.1/587.7 MB 14.9 MB/s eta 0:00:25\n",
      "     ------------- ----------------------- 220.8/587.7 MB 14.9 MB/s eta 0:00:25\n",
      "     ------------- ----------------------- 221.6/587.7 MB 16.0 MB/s eta 0:00:23\n",
      "     -------------- ---------------------- 222.5/587.7 MB 16.4 MB/s eta 0:00:23\n",
      "     -------------- ---------------------- 223.1/587.7 MB 16.0 MB/s eta 0:00:23\n",
      "     -------------- ---------------------- 224.0/587.7 MB 16.0 MB/s eta 0:00:23\n",
      "     -------------- ---------------------- 224.8/587.7 MB 16.4 MB/s eta 0:00:23\n",
      "     -------------- ---------------------- 225.7/587.7 MB 17.3 MB/s eta 0:00:21\n",
      "     -------------- ---------------------- 226.4/587.7 MB 17.3 MB/s eta 0:00:21\n",
      "     -------------- ---------------------- 227.2/587.7 MB 16.8 MB/s eta 0:00:22\n",
      "     -------------- ---------------------- 228.1/587.7 MB 17.2 MB/s eta 0:00:21\n",
      "     -------------- ---------------------- 229.1/587.7 MB 17.2 MB/s eta 0:00:21\n",
      "     -------------- ---------------------- 229.9/587.7 MB 17.7 MB/s eta 0:00:21\n",
      "     -------------- ---------------------- 230.9/587.7 MB 18.2 MB/s eta 0:00:20\n",
      "     -------------- ---------------------- 231.7/587.7 MB 18.2 MB/s eta 0:00:20\n",
      "     -------------- ---------------------- 232.5/587.7 MB 17.7 MB/s eta 0:00:21\n",
      "     -------------- ---------------------- 233.3/587.7 MB 18.7 MB/s eta 0:00:19\n",
      "     -------------- ---------------------- 233.9/587.7 MB 17.7 MB/s eta 0:00:20\n",
      "     -------------- ---------------------- 234.5/587.7 MB 17.7 MB/s eta 0:00:20\n",
      "     -------------- ---------------------- 235.2/587.7 MB 17.2 MB/s eta 0:00:21\n",
      "     -------------- ---------------------- 235.8/587.7 MB 16.8 MB/s eta 0:00:21\n",
      "     -------------- ---------------------- 236.6/587.7 MB 16.8 MB/s eta 0:00:21\n",
      "     -------------- ---------------------- 237.1/587.7 MB 16.4 MB/s eta 0:00:22\n",
      "     -------------- ---------------------- 237.7/587.7 MB 16.0 MB/s eta 0:00:22\n",
      "     --------------- --------------------- 238.5/587.7 MB 16.0 MB/s eta 0:00:22\n",
      "     --------------- --------------------- 239.3/587.7 MB 15.6 MB/s eta 0:00:23\n",
      "     --------------- --------------------- 240.0/587.7 MB 15.6 MB/s eta 0:00:23\n",
      "     --------------- --------------------- 240.7/587.7 MB 15.2 MB/s eta 0:00:23\n",
      "     --------------- --------------------- 241.4/587.7 MB 14.9 MB/s eta 0:00:24\n",
      "     --------------- --------------------- 242.3/587.7 MB 15.2 MB/s eta 0:00:23\n",
      "     --------------- --------------------- 242.9/587.7 MB 14.5 MB/s eta 0:00:24\n",
      "     --------------- --------------------- 243.7/587.7 MB 14.9 MB/s eta 0:00:24\n",
      "     --------------- --------------------- 244.3/587.7 MB 14.9 MB/s eta 0:00:24\n",
      "     --------------- --------------------- 244.9/587.7 MB 14.9 MB/s eta 0:00:24\n",
      "     --------------- --------------------- 245.6/587.7 MB 14.9 MB/s eta 0:00:23\n",
      "     --------------- --------------------- 246.4/587.7 MB 14.9 MB/s eta 0:00:23\n",
      "     --------------- --------------------- 247.1/587.7 MB 15.6 MB/s eta 0:00:22\n",
      "     --------------- --------------------- 247.6/587.7 MB 15.2 MB/s eta 0:00:23\n",
      "     --------------- --------------------- 248.2/587.7 MB 14.9 MB/s eta 0:00:23\n",
      "     --------------- --------------------- 248.8/587.7 MB 14.9 MB/s eta 0:00:23\n",
      "     --------------- --------------------- 249.6/587.7 MB 14.6 MB/s eta 0:00:24\n",
      "     --------------- --------------------- 250.3/587.7 MB 14.9 MB/s eta 0:00:23\n",
      "     --------------- --------------------- 251.2/587.7 MB 15.2 MB/s eta 0:00:23\n",
      "     --------------- --------------------- 251.8/587.7 MB 14.9 MB/s eta 0:00:23\n",
      "     --------------- --------------------- 252.7/587.7 MB 14.9 MB/s eta 0:00:23\n",
      "     --------------- --------------------- 253.2/587.7 MB 14.9 MB/s eta 0:00:23\n",
      "     --------------- --------------------- 254.1/587.7 MB 14.9 MB/s eta 0:00:23\n",
      "     ---------------- -------------------- 254.9/587.7 MB 15.2 MB/s eta 0:00:22\n",
      "     ---------------- -------------------- 255.8/587.7 MB 15.6 MB/s eta 0:00:22\n",
      "     ---------------- -------------------- 256.7/587.7 MB 15.6 MB/s eta 0:00:22\n",
      "     ---------------- -------------------- 257.5/587.7 MB 16.0 MB/s eta 0:00:21\n",
      "     ---------------- -------------------- 258.5/587.7 MB 16.8 MB/s eta 0:00:20\n",
      "     ---------------- -------------------- 259.5/587.7 MB 17.7 MB/s eta 0:00:19\n",
      "     ---------------- -------------------- 260.3/587.7 MB 17.7 MB/s eta 0:00:19\n",
      "     ---------------- -------------------- 261.1/587.7 MB 17.7 MB/s eta 0:00:19\n",
      "     ---------------- -------------------- 262.0/587.7 MB 17.7 MB/s eta 0:00:19\n",
      "     ---------------- -------------------- 262.8/587.7 MB 18.2 MB/s eta 0:00:18\n",
      "     ---------------- -------------------- 263.8/587.7 MB 18.7 MB/s eta 0:00:18\n",
      "     ---------------- -------------------- 264.5/587.7 MB 18.7 MB/s eta 0:00:18\n",
      "     ---------------- -------------------- 265.5/587.7 MB 18.7 MB/s eta 0:00:18\n",
      "     ---------------- -------------------- 266.4/587.7 MB 18.7 MB/s eta 0:00:18\n",
      "     ---------------- -------------------- 267.3/587.7 MB 18.7 MB/s eta 0:00:18\n",
      "     ---------------- -------------------- 267.9/587.7 MB 18.7 MB/s eta 0:00:18\n",
      "     ---------------- -------------------- 268.7/587.7 MB 18.2 MB/s eta 0:00:18\n",
      "     ---------------- -------------------- 269.3/587.7 MB 18.2 MB/s eta 0:00:18\n",
      "     ---------------- -------------------- 269.6/587.7 MB 16.8 MB/s eta 0:00:19\n",
      "     ----------------- ------------------- 270.2/587.7 MB 16.0 MB/s eta 0:00:20\n",
      "     ----------------- ------------------- 270.7/587.7 MB 15.6 MB/s eta 0:00:21\n",
      "     ----------------- ------------------- 271.3/587.7 MB 15.6 MB/s eta 0:00:21\n",
      "     ----------------- ------------------- 271.9/587.7 MB 15.6 MB/s eta 0:00:21\n",
      "     ----------------- ------------------- 272.8/587.7 MB 15.2 MB/s eta 0:00:21\n",
      "     ----------------- ------------------- 273.5/587.7 MB 14.9 MB/s eta 0:00:22\n",
      "     ----------------- ------------------- 273.7/587.7 MB 14.6 MB/s eta 0:00:22\n",
      "     ----------------- ------------------- 274.0/587.7 MB 13.6 MB/s eta 0:00:23\n",
      "     ----------------- ------------------- 274.6/587.7 MB 13.6 MB/s eta 0:00:23\n",
      "     ----------------- ------------------- 275.3/587.7 MB 13.1 MB/s eta 0:00:24\n",
      "     ----------------- ------------------- 275.9/587.7 MB 12.8 MB/s eta 0:00:25\n",
      "     ----------------- ------------------- 276.6/587.7 MB 13.1 MB/s eta 0:00:24\n",
      "     ----------------- ------------------- 277.2/587.7 MB 12.6 MB/s eta 0:00:25\n",
      "     ----------------- ------------------- 277.9/587.7 MB 12.6 MB/s eta 0:00:25\n",
      "     ----------------- ------------------- 278.3/587.7 MB 12.6 MB/s eta 0:00:25\n",
      "     ----------------- ------------------- 279.2/587.7 MB 12.6 MB/s eta 0:00:25\n",
      "     ----------------- ------------------- 279.8/587.7 MB 13.1 MB/s eta 0:00:24\n",
      "     ----------------- ------------------- 280.5/587.7 MB 13.1 MB/s eta 0:00:24\n",
      "     ----------------- ------------------- 281.3/587.7 MB 13.6 MB/s eta 0:00:23\n",
      "     ----------------- ------------------- 282.1/587.7 MB 13.6 MB/s eta 0:00:23\n",
      "     ----------------- ------------------- 282.7/587.7 MB 13.4 MB/s eta 0:00:23\n",
      "     ----------------- ------------------- 283.1/587.7 MB 13.4 MB/s eta 0:00:23\n",
      "     ----------------- ------------------- 283.7/587.7 MB 13.1 MB/s eta 0:00:24\n",
      "     ----------------- ------------------- 284.5/587.7 MB 14.2 MB/s eta 0:00:22\n",
      "     ----------------- ------------------- 285.3/587.7 MB 14.2 MB/s eta 0:00:22\n",
      "     ----------------- ------------------- 285.9/587.7 MB 14.2 MB/s eta 0:00:22\n",
      "     ------------------ ------------------ 286.8/587.7 MB 14.6 MB/s eta 0:00:21\n",
      "     ------------------ ------------------ 287.5/587.7 MB 14.9 MB/s eta 0:00:21\n",
      "     ------------------ ------------------ 288.2/587.7 MB 14.9 MB/s eta 0:00:21\n",
      "     ------------------ ------------------ 289.1/587.7 MB 15.2 MB/s eta 0:00:20\n",
      "     ------------------ ------------------ 290.0/587.7 MB 15.6 MB/s eta 0:00:20\n",
      "     ------------------ ------------------ 290.9/587.7 MB 16.0 MB/s eta 0:00:19\n",
      "     ------------------ ------------------ 291.4/587.7 MB 15.6 MB/s eta 0:00:19\n",
      "     ------------------ ------------------ 292.0/587.7 MB 15.2 MB/s eta 0:00:20\n",
      "     ------------------ ------------------ 292.5/587.7 MB 14.9 MB/s eta 0:00:20\n",
      "     ------------------ ------------------ 293.4/587.7 MB 16.0 MB/s eta 0:00:19\n",
      "     ------------------ ------------------ 294.1/587.7 MB 16.0 MB/s eta 0:00:19\n",
      "     ------------------ ------------------ 294.9/587.7 MB 16.0 MB/s eta 0:00:19\n",
      "     ------------------ ------------------ 295.9/587.7 MB 16.4 MB/s eta 0:00:18\n",
      "     ------------------ ------------------ 296.6/587.7 MB 16.4 MB/s eta 0:00:18\n",
      "     ------------------ ------------------ 297.2/587.7 MB 16.0 MB/s eta 0:00:19\n",
      "     ------------------ ------------------ 298.0/587.7 MB 16.4 MB/s eta 0:00:18\n",
      "     ------------------ ------------------ 299.0/587.7 MB 16.4 MB/s eta 0:00:18\n",
      "     ------------------ ------------------ 299.7/587.7 MB 16.4 MB/s eta 0:00:18\n",
      "     ------------------ ------------------ 300.3/587.7 MB 15.6 MB/s eta 0:00:19\n",
      "     ------------------ ------------------ 301.0/587.7 MB 15.2 MB/s eta 0:00:19\n",
      "     ------------------ ------------------ 301.6/587.7 MB 15.6 MB/s eta 0:00:19\n",
      "     ------------------- ----------------- 302.3/587.7 MB 15.6 MB/s eta 0:00:19\n",
      "     ------------------- ----------------- 303.1/587.7 MB 16.0 MB/s eta 0:00:18\n",
      "     ------------------- ----------------- 303.8/587.7 MB 16.0 MB/s eta 0:00:18\n",
      "     ------------------- ----------------- 304.4/587.7 MB 15.6 MB/s eta 0:00:19\n",
      "     ------------------- ----------------- 304.7/587.7 MB 14.9 MB/s eta 0:00:20\n",
      "     ------------------- ----------------- 305.1/587.7 MB 14.2 MB/s eta 0:00:20\n",
      "     ------------------- ----------------- 305.6/587.7 MB 13.9 MB/s eta 0:00:21\n",
      "     ------------------- ----------------- 306.0/587.7 MB 13.4 MB/s eta 0:00:22\n",
      "     ------------------- ----------------- 306.4/587.7 MB 13.4 MB/s eta 0:00:22\n",
      "     ------------------- ----------------- 306.9/587.7 MB 13.1 MB/s eta 0:00:22\n",
      "     ------------------- ----------------- 307.3/587.7 MB 12.8 MB/s eta 0:00:22\n",
      "     ------------------- ----------------- 307.6/587.7 MB 12.4 MB/s eta 0:00:23\n",
      "     ------------------- ----------------- 308.2/587.7 MB 12.1 MB/s eta 0:00:24\n",
      "     ------------------- ----------------- 308.8/587.7 MB 11.9 MB/s eta 0:00:24\n",
      "     ------------------- ----------------- 309.3/587.7 MB 11.9 MB/s eta 0:00:24\n",
      "     ------------------- ----------------- 309.8/587.7 MB 11.5 MB/s eta 0:00:25\n",
      "     ------------------- ----------------- 310.4/587.7 MB 11.5 MB/s eta 0:00:25\n",
      "     ------------------- ----------------- 310.8/587.7 MB 11.1 MB/s eta 0:00:25\n",
      "     ------------------- ----------------- 311.3/587.7 MB 11.1 MB/s eta 0:00:25\n",
      "     ------------------- ----------------- 311.7/587.7 MB 10.7 MB/s eta 0:00:26\n",
      "     ------------------- ----------------- 311.8/587.7 MB 10.7 MB/s eta 0:00:26\n",
      "     ------------------- ----------------- 312.2/587.7 MB 10.1 MB/s eta 0:00:28\n",
      "     -------------------- ----------------- 312.5/587.7 MB 9.9 MB/s eta 0:00:28\n",
      "     -------------------- ----------------- 312.6/587.7 MB 9.8 MB/s eta 0:00:29\n",
      "     -------------------- ----------------- 312.8/587.7 MB 9.2 MB/s eta 0:00:30\n",
      "     -------------------- ----------------- 312.8/587.7 MB 9.2 MB/s eta 0:00:30\n",
      "     -------------------- ----------------- 313.0/587.7 MB 8.7 MB/s eta 0:00:32\n",
      "     -------------------- ----------------- 313.1/587.7 MB 8.4 MB/s eta 0:00:33\n",
      "     -------------------- ----------------- 313.3/587.7 MB 8.2 MB/s eta 0:00:34\n",
      "     -------------------- ----------------- 313.4/587.7 MB 8.0 MB/s eta 0:00:35\n",
      "     -------------------- ----------------- 313.7/587.7 MB 7.6 MB/s eta 0:00:37\n",
      "     -------------------- ----------------- 313.8/587.7 MB 7.5 MB/s eta 0:00:37\n",
      "     -------------------- ----------------- 314.0/587.7 MB 7.4 MB/s eta 0:00:38\n",
      "     -------------------- ----------------- 314.1/587.7 MB 7.1 MB/s eta 0:00:39\n",
      "     -------------------- ----------------- 314.3/587.7 MB 6.9 MB/s eta 0:00:40\n",
      "     -------------------- ----------------- 314.5/587.7 MB 6.8 MB/s eta 0:00:41\n",
      "     -------------------- ----------------- 314.6/587.7 MB 6.5 MB/s eta 0:00:42\n",
      "     -------------------- ----------------- 314.7/587.7 MB 6.6 MB/s eta 0:00:42\n",
      "     -------------------- ----------------- 314.8/587.7 MB 6.4 MB/s eta 0:00:43\n",
      "     -------------------- ----------------- 314.8/587.7 MB 6.3 MB/s eta 0:00:44\n",
      "     -------------------- ----------------- 314.8/587.7 MB 6.3 MB/s eta 0:00:44\n",
      "     -------------------- ----------------- 314.9/587.7 MB 6.0 MB/s eta 0:00:46\n",
      "     -------------------- ----------------- 314.9/587.7 MB 5.8 MB/s eta 0:00:48\n",
      "     -------------------- ----------------- 315.1/587.7 MB 5.6 MB/s eta 0:00:49\n",
      "     -------------------- ----------------- 315.2/587.7 MB 5.5 MB/s eta 0:00:50\n",
      "     -------------------- ----------------- 315.3/587.7 MB 5.4 MB/s eta 0:00:51\n",
      "     -------------------- ----------------- 315.4/587.7 MB 5.4 MB/s eta 0:00:51\n",
      "     -------------------- ----------------- 315.4/587.7 MB 5.3 MB/s eta 0:00:52\n",
      "     -------------------- ----------------- 315.4/587.7 MB 5.2 MB/s eta 0:00:53\n",
      "     -------------------- ----------------- 315.5/587.7 MB 5.0 MB/s eta 0:00:55\n",
      "     -------------------- ----------------- 315.5/587.7 MB 4.9 MB/s eta 0:00:56\n",
      "     -------------------- ----------------- 315.5/587.7 MB 4.8 MB/s eta 0:00:57\n",
      "     -------------------- ----------------- 315.6/587.7 MB 4.7 MB/s eta 0:00:59\n",
      "     -------------------- ----------------- 315.6/587.7 MB 4.6 MB/s eta 0:00:59\n",
      "     -------------------- ----------------- 315.6/587.7 MB 4.6 MB/s eta 0:01:00\n",
      "     -------------------- ----------------- 315.7/587.7 MB 4.5 MB/s eta 0:01:02\n",
      "     -------------------- ----------------- 315.7/587.7 MB 4.4 MB/s eta 0:01:03\n",
      "     -------------------- ----------------- 315.7/587.7 MB 4.3 MB/s eta 0:01:04\n",
      "     -------------------- ----------------- 315.8/587.7 MB 4.2 MB/s eta 0:01:05\n",
      "     -------------------- ----------------- 315.9/587.7 MB 4.1 MB/s eta 0:01:06\n",
      "     -------------------- ----------------- 315.9/587.7 MB 4.1 MB/s eta 0:01:07\n",
      "     -------------------- ----------------- 316.0/587.7 MB 4.0 MB/s eta 0:01:09\n",
      "     -------------------- ----------------- 316.1/587.7 MB 4.0 MB/s eta 0:01:09\n",
      "     -------------------- ----------------- 316.3/587.7 MB 3.9 MB/s eta 0:01:10\n",
      "     -------------------- ----------------- 316.5/587.7 MB 3.9 MB/s eta 0:01:11\n",
      "     -------------------- ----------------- 316.6/587.7 MB 3.8 MB/s eta 0:01:11\n",
      "     -------------------- ----------------- 316.8/587.7 MB 3.8 MB/s eta 0:01:12\n",
      "     -------------------- ----------------- 317.0/587.7 MB 3.7 MB/s eta 0:01:13\n",
      "     -------------------- ----------------- 317.2/587.7 MB 3.7 MB/s eta 0:01:14\n",
      "     -------------------- ----------------- 317.4/587.7 MB 3.7 MB/s eta 0:01:14\n",
      "     -------------------- ----------------- 317.7/587.7 MB 3.7 MB/s eta 0:01:14\n",
      "     -------------------- ----------------- 317.9/587.7 MB 3.7 MB/s eta 0:01:14\n",
      "     -------------------- ----------------- 318.2/587.7 MB 3.6 MB/s eta 0:01:15\n",
      "     -------------------- ----------------- 318.4/587.7 MB 3.6 MB/s eta 0:01:15\n",
      "     -------------------- ----------------- 318.8/587.7 MB 3.6 MB/s eta 0:01:16\n",
      "     -------------------- ----------------- 319.0/587.7 MB 3.5 MB/s eta 0:01:16\n",
      "     -------------------- ----------------- 319.3/587.7 MB 3.5 MB/s eta 0:01:17\n",
      "     -------------------- ----------------- 319.7/587.7 MB 3.5 MB/s eta 0:01:17\n",
      "     -------------------- ----------------- 320.0/587.7 MB 3.5 MB/s eta 0:01:18\n",
      "     -------------------- ----------------- 320.4/587.7 MB 3.4 MB/s eta 0:01:18\n",
      "     -------------------- ----------------- 320.8/587.7 MB 3.4 MB/s eta 0:01:18\n",
      "     -------------------- ----------------- 321.2/587.7 MB 3.4 MB/s eta 0:01:18\n",
      "     -------------------- ----------------- 321.5/587.7 MB 3.4 MB/s eta 0:01:19\n",
      "     -------------------- ----------------- 321.7/587.7 MB 3.4 MB/s eta 0:01:19\n",
      "     -------------------- ----------------- 322.0/587.7 MB 3.4 MB/s eta 0:01:19\n",
      "     -------------------- ----------------- 322.3/587.7 MB 3.4 MB/s eta 0:01:19\n",
      "     -------------------- ----------------- 322.5/587.7 MB 3.4 MB/s eta 0:01:19\n",
      "     -------------------- ----------------- 322.7/587.7 MB 3.4 MB/s eta 0:01:19\n",
      "     -------------------- ----------------- 323.0/587.7 MB 3.4 MB/s eta 0:01:18\n",
      "     -------------------- ----------------- 323.2/587.7 MB 3.5 MB/s eta 0:01:17\n",
      "     -------------------- ----------------- 323.3/587.7 MB 3.5 MB/s eta 0:01:16\n",
      "     -------------------- ----------------- 323.6/587.7 MB 3.5 MB/s eta 0:01:16\n",
      "     -------------------- ----------------- 324.1/587.7 MB 3.6 MB/s eta 0:01:14\n",
      "     -------------------- ----------------- 324.4/587.7 MB 3.7 MB/s eta 0:01:12\n",
      "     -------------------- ----------------- 324.8/587.7 MB 3.7 MB/s eta 0:01:11\n",
      "     --------------------- ---------------- 325.2/587.7 MB 4.1 MB/s eta 0:01:04\n",
      "     --------------------- ---------------- 325.7/587.7 MB 4.5 MB/s eta 0:00:58\n",
      "     --------------------- ---------------- 326.1/587.7 MB 5.7 MB/s eta 0:00:46\n",
      "     --------------------- ---------------- 326.6/587.7 MB 6.3 MB/s eta 0:00:42\n",
      "     --------------------- ---------------- 327.0/587.7 MB 6.7 MB/s eta 0:00:40\n",
      "     --------------------- ---------------- 327.6/587.7 MB 7.0 MB/s eta 0:00:37\n",
      "     --------------------- ---------------- 328.2/587.7 MB 7.4 MB/s eta 0:00:36\n",
      "     --------------------- ---------------- 328.8/587.7 MB 7.7 MB/s eta 0:00:34\n",
      "     --------------------- ---------------- 329.3/587.7 MB 7.9 MB/s eta 0:00:33\n",
      "     --------------------- ---------------- 329.5/587.7 MB 7.8 MB/s eta 0:00:34\n",
      "     --------------------- ---------------- 329.7/587.7 MB 7.8 MB/s eta 0:00:34\n",
      "     --------------------- ---------------- 330.1/587.7 MB 7.7 MB/s eta 0:00:34\n",
      "     --------------------- ---------------- 330.8/587.7 MB 8.0 MB/s eta 0:00:33\n",
      "     --------------------- ---------------- 331.5/587.7 MB 8.3 MB/s eta 0:00:31\n",
      "     --------------------- ---------------- 332.0/587.7 MB 8.5 MB/s eta 0:00:31\n",
      "     --------------------- ---------------- 332.7/587.7 MB 9.1 MB/s eta 0:00:29\n",
      "     --------------------- ---------------- 333.2/587.7 MB 9.5 MB/s eta 0:00:27\n",
      "     --------------------- --------------- 333.7/587.7 MB 10.4 MB/s eta 0:00:25\n",
      "     --------------------- --------------- 334.4/587.7 MB 10.7 MB/s eta 0:00:24\n",
      "     --------------------- --------------- 335.2/587.7 MB 11.3 MB/s eta 0:00:23\n",
      "     --------------------- --------------- 335.7/587.7 MB 11.3 MB/s eta 0:00:23\n",
      "     --------------------- --------------- 336.3/587.7 MB 11.7 MB/s eta 0:00:22\n",
      "     --------------------- --------------- 336.9/587.7 MB 11.7 MB/s eta 0:00:22\n",
      "     --------------------- --------------- 337.5/587.7 MB 11.9 MB/s eta 0:00:22\n",
      "     --------------------- --------------- 338.1/587.7 MB 11.9 MB/s eta 0:00:21\n",
      "     --------------------- --------------- 338.9/587.7 MB 12.1 MB/s eta 0:00:21\n",
      "     --------------------- --------------- 339.4/587.7 MB 12.1 MB/s eta 0:00:21\n",
      "     --------------------- --------------- 340.0/587.7 MB 13.1 MB/s eta 0:00:19\n",
      "     --------------------- --------------- 340.2/587.7 MB 12.6 MB/s eta 0:00:20\n",
      "     --------------------- --------------- 340.6/587.7 MB 12.4 MB/s eta 0:00:20\n",
      "     --------------------- --------------- 340.9/587.7 MB 11.9 MB/s eta 0:00:21\n",
      "     --------------------- --------------- 341.2/587.7 MB 11.7 MB/s eta 0:00:22\n",
      "     --------------------- --------------- 341.5/587.7 MB 11.3 MB/s eta 0:00:22\n",
      "     --------------------- --------------- 341.7/587.7 MB 11.1 MB/s eta 0:00:23\n",
      "     --------------------- --------------- 342.0/587.7 MB 10.7 MB/s eta 0:00:23\n",
      "     --------------------- --------------- 342.3/587.7 MB 10.4 MB/s eta 0:00:24\n",
      "     --------------------- --------------- 342.7/587.7 MB 10.4 MB/s eta 0:00:24\n",
      "     --------------------- --------------- 343.0/587.7 MB 10.1 MB/s eta 0:00:25\n",
      "     --------------------- --------------- 343.4/587.7 MB 10.1 MB/s eta 0:00:25\n",
      "     ---------------------- --------------- 343.7/587.7 MB 9.8 MB/s eta 0:00:25\n",
      "     ---------------------- --------------- 343.9/587.7 MB 9.5 MB/s eta 0:00:26\n",
      "     ---------------------- --------------- 344.2/587.7 MB 9.4 MB/s eta 0:00:27\n",
      "     ---------------------- --------------- 344.6/587.7 MB 9.1 MB/s eta 0:00:27\n",
      "     ---------------------- --------------- 345.1/587.7 MB 9.0 MB/s eta 0:00:28\n",
      "     ---------------------- --------------- 345.6/587.7 MB 8.8 MB/s eta 0:00:28\n",
      "     ---------------------- --------------- 346.1/587.7 MB 8.8 MB/s eta 0:00:28\n",
      "     ---------------------- --------------- 346.6/587.7 MB 8.7 MB/s eta 0:00:28\n",
      "     ---------------------- --------------- 347.0/587.7 MB 8.6 MB/s eta 0:00:28\n",
      "     ---------------------- --------------- 347.3/587.7 MB 8.5 MB/s eta 0:00:29\n",
      "     ---------------------- --------------- 347.6/587.7 MB 8.3 MB/s eta 0:00:29\n",
      "     ---------------------- --------------- 347.8/587.7 MB 8.1 MB/s eta 0:00:30\n",
      "     ---------------------- --------------- 347.9/587.7 MB 8.0 MB/s eta 0:00:31\n",
      "     ---------------------- --------------- 348.1/587.7 MB 7.8 MB/s eta 0:00:31\n",
      "     ---------------------- --------------- 348.3/587.7 MB 7.5 MB/s eta 0:00:32\n",
      "     ---------------------- --------------- 348.5/587.7 MB 7.4 MB/s eta 0:00:33\n",
      "     ---------------------- --------------- 348.8/587.7 MB 7.2 MB/s eta 0:00:34\n",
      "     ---------------------- --------------- 349.0/587.7 MB 7.0 MB/s eta 0:00:34\n",
      "     ---------------------- --------------- 349.3/587.7 MB 6.9 MB/s eta 0:00:35\n",
      "     ---------------------- --------------- 349.6/587.7 MB 6.7 MB/s eta 0:00:36\n",
      "     ---------------------- --------------- 349.8/587.7 MB 6.7 MB/s eta 0:00:36\n",
      "     ---------------------- --------------- 350.1/587.7 MB 6.6 MB/s eta 0:00:36\n",
      "     ---------------------- --------------- 350.3/587.7 MB 6.6 MB/s eta 0:00:36\n",
      "     ---------------------- --------------- 350.6/587.7 MB 6.5 MB/s eta 0:00:37\n",
      "     ---------------------- --------------- 350.8/587.7 MB 6.5 MB/s eta 0:00:37\n",
      "     ---------------------- --------------- 351.2/587.7 MB 6.5 MB/s eta 0:00:37\n",
      "     ---------------------- --------------- 351.5/587.7 MB 6.5 MB/s eta 0:00:37\n",
      "     ---------------------- --------------- 351.7/587.7 MB 6.4 MB/s eta 0:00:37\n",
      "     ---------------------- --------------- 352.1/587.7 MB 6.5 MB/s eta 0:00:36\n",
      "     ---------------------- --------------- 352.4/587.7 MB 6.5 MB/s eta 0:00:36\n",
      "     ---------------------- --------------- 352.8/587.7 MB 6.5 MB/s eta 0:00:36\n",
      "     ---------------------- --------------- 353.0/587.7 MB 6.6 MB/s eta 0:00:36\n",
      "     ---------------------- --------------- 353.3/587.7 MB 6.4 MB/s eta 0:00:37\n",
      "     ---------------------- --------------- 353.5/587.7 MB 6.4 MB/s eta 0:00:37\n",
      "     ---------------------- --------------- 353.8/587.7 MB 6.4 MB/s eta 0:00:37\n",
      "     ---------------------- --------------- 354.3/587.7 MB 6.5 MB/s eta 0:00:37\n",
      "     ---------------------- --------------- 354.6/587.7 MB 6.5 MB/s eta 0:00:36\n",
      "     ---------------------- --------------- 355.0/587.7 MB 6.5 MB/s eta 0:00:36\n",
      "     ---------------------- --------------- 355.4/587.7 MB 6.4 MB/s eta 0:00:37\n",
      "     ----------------------- -------------- 355.8/587.7 MB 6.4 MB/s eta 0:00:37\n",
      "     ----------------------- -------------- 356.2/587.7 MB 6.4 MB/s eta 0:00:37\n",
      "     ----------------------- -------------- 356.7/587.7 MB 6.4 MB/s eta 0:00:37\n",
      "     ----------------------- -------------- 357.2/587.7 MB 6.4 MB/s eta 0:00:36\n",
      "     ----------------------- -------------- 357.5/587.7 MB 6.4 MB/s eta 0:00:36\n",
      "     ----------------------- -------------- 358.0/587.7 MB 6.5 MB/s eta 0:00:36\n",
      "     ----------------------- -------------- 358.5/587.7 MB 7.0 MB/s eta 0:00:33\n",
      "     ----------------------- -------------- 358.8/587.7 MB 7.1 MB/s eta 0:00:33\n",
      "     ----------------------- -------------- 359.1/587.7 MB 7.1 MB/s eta 0:00:33\n",
      "     ----------------------- -------------- 359.4/587.7 MB 7.1 MB/s eta 0:00:33\n",
      "     ----------------------- -------------- 359.8/587.7 MB 7.4 MB/s eta 0:00:31\n",
      "     ----------------------- -------------- 360.2/587.7 MB 7.4 MB/s eta 0:00:31\n",
      "     ----------------------- -------------- 360.6/587.7 MB 7.6 MB/s eta 0:00:30\n",
      "     ----------------------- -------------- 360.8/587.7 MB 7.5 MB/s eta 0:00:31\n",
      "     ----------------------- -------------- 361.1/587.7 MB 7.5 MB/s eta 0:00:31\n",
      "     ----------------------- -------------- 361.2/587.7 MB 7.5 MB/s eta 0:00:31\n",
      "     ----------------------- -------------- 361.4/587.7 MB 7.3 MB/s eta 0:00:32\n",
      "     ----------------------- -------------- 361.6/587.7 MB 7.2 MB/s eta 0:00:32\n",
      "     ----------------------- -------------- 361.7/587.7 MB 7.0 MB/s eta 0:00:33\n",
      "     ----------------------- -------------- 361.9/587.7 MB 7.0 MB/s eta 0:00:33\n",
      "     ----------------------- -------------- 362.1/587.7 MB 6.9 MB/s eta 0:00:33\n",
      "     ----------------------- -------------- 362.3/587.7 MB 6.8 MB/s eta 0:00:34\n",
      "     ----------------------- -------------- 362.6/587.7 MB 6.8 MB/s eta 0:00:34\n",
      "     ----------------------- -------------- 362.9/587.7 MB 6.8 MB/s eta 0:00:34\n",
      "     ----------------------- -------------- 363.3/587.7 MB 6.9 MB/s eta 0:00:33\n",
      "     ----------------------- -------------- 363.6/587.7 MB 7.0 MB/s eta 0:00:33\n",
      "     ----------------------- -------------- 363.9/587.7 MB 7.0 MB/s eta 0:00:32\n",
      "     ----------------------- -------------- 364.2/587.7 MB 6.9 MB/s eta 0:00:33\n",
      "     ----------------------- -------------- 364.5/587.7 MB 6.9 MB/s eta 0:00:33\n",
      "     ----------------------- -------------- 364.8/587.7 MB 6.9 MB/s eta 0:00:33\n",
      "     ----------------------- -------------- 365.0/587.7 MB 6.7 MB/s eta 0:00:34\n",
      "     ----------------------- -------------- 365.3/587.7 MB 6.7 MB/s eta 0:00:33\n",
      "     ----------------------- -------------- 365.7/587.7 MB 6.7 MB/s eta 0:00:34\n",
      "     ----------------------- -------------- 366.0/587.7 MB 6.6 MB/s eta 0:00:34\n",
      "     ----------------------- -------------- 366.5/587.7 MB 6.7 MB/s eta 0:00:34\n",
      "     ----------------------- -------------- 366.7/587.7 MB 6.5 MB/s eta 0:00:35\n",
      "     ----------------------- -------------- 367.1/587.7 MB 6.5 MB/s eta 0:00:35\n",
      "     ----------------------- -------------- 367.4/587.7 MB 6.5 MB/s eta 0:00:34\n",
      "     ----------------------- -------------- 367.8/587.7 MB 6.5 MB/s eta 0:00:34\n",
      "     ----------------------- -------------- 368.3/587.7 MB 6.5 MB/s eta 0:00:34\n",
      "     ----------------------- -------------- 368.7/587.7 MB 6.4 MB/s eta 0:00:35\n",
      "     ----------------------- -------------- 369.2/587.7 MB 6.5 MB/s eta 0:00:34\n",
      "     ----------------------- -------------- 369.6/587.7 MB 6.6 MB/s eta 0:00:33\n",
      "     ----------------------- -------------- 370.0/587.7 MB 6.7 MB/s eta 0:00:33\n",
      "     ----------------------- -------------- 370.5/587.7 MB 6.7 MB/s eta 0:00:33\n",
      "     ----------------------- -------------- 371.0/587.7 MB 6.9 MB/s eta 0:00:32\n",
      "     ------------------------ ------------- 371.5/587.7 MB 7.2 MB/s eta 0:00:31\n",
      "     ------------------------ ------------- 372.0/587.7 MB 7.8 MB/s eta 0:00:28\n",
      "     ------------------------ ------------- 372.4/587.7 MB 8.0 MB/s eta 0:00:27\n",
      "     ------------------------ ------------- 372.7/587.7 MB 8.1 MB/s eta 0:00:27\n",
      "     ------------------------ ------------- 373.2/587.7 MB 8.2 MB/s eta 0:00:27\n",
      "     ------------------------ ------------- 373.5/587.7 MB 8.2 MB/s eta 0:00:27\n",
      "     ------------------------ ------------- 374.0/587.7 MB 8.3 MB/s eta 0:00:26\n",
      "     ------------------------ ------------- 374.6/587.7 MB 8.6 MB/s eta 0:00:25\n",
      "     ------------------------ ------------- 375.2/587.7 MB 9.2 MB/s eta 0:00:24\n",
      "     ------------------------ ------------- 375.8/587.7 MB 9.5 MB/s eta 0:00:23\n",
      "     ------------------------ ------------- 376.3/587.7 MB 9.6 MB/s eta 0:00:22\n",
      "     ----------------------- ------------- 376.9/587.7 MB 10.1 MB/s eta 0:00:21\n",
      "     ----------------------- ------------- 377.4/587.7 MB 10.4 MB/s eta 0:00:21\n",
      "     ----------------------- ------------- 378.0/587.7 MB 10.6 MB/s eta 0:00:20\n",
      "     ----------------------- ------------- 378.6/587.7 MB 10.6 MB/s eta 0:00:20\n",
      "     ----------------------- ------------- 379.1/587.7 MB 10.7 MB/s eta 0:00:20\n",
      "     ----------------------- ------------- 379.8/587.7 MB 10.9 MB/s eta 0:00:20\n",
      "     ----------------------- ------------- 380.4/587.7 MB 11.1 MB/s eta 0:00:19\n",
      "     ----------------------- ------------- 381.1/587.7 MB 11.5 MB/s eta 0:00:18\n",
      "     ------------------------ ------------ 381.8/587.7 MB 11.7 MB/s eta 0:00:18\n",
      "     ------------------------ ------------ 382.2/587.7 MB 11.9 MB/s eta 0:00:18\n",
      "     ------------------------ ------------ 382.6/587.7 MB 11.5 MB/s eta 0:00:18\n",
      "     ------------------------ ------------ 383.3/587.7 MB 12.1 MB/s eta 0:00:17\n",
      "     ------------------------ ------------ 383.9/587.7 MB 12.4 MB/s eta 0:00:17\n",
      "     ------------------------ ------------ 384.5/587.7 MB 12.6 MB/s eta 0:00:17\n",
      "     ------------------------ ------------ 385.0/587.7 MB 12.4 MB/s eta 0:00:17\n",
      "     ------------------------ ------------ 385.7/587.7 MB 12.4 MB/s eta 0:00:17\n",
      "     ------------------------ ------------ 386.3/587.7 MB 12.6 MB/s eta 0:00:17\n",
      "     ------------------------ ------------ 387.1/587.7 MB 12.9 MB/s eta 0:00:16\n",
      "     ------------------------ ------------ 387.8/587.7 MB 13.1 MB/s eta 0:00:16\n",
      "     ------------------------ ------------ 388.6/587.7 MB 13.4 MB/s eta 0:00:15\n",
      "     ------------------------ ------------ 389.3/587.7 MB 13.6 MB/s eta 0:00:15\n",
      "     ------------------------ ------------ 390.0/587.7 MB 13.6 MB/s eta 0:00:15\n",
      "     ------------------------ ------------ 390.8/587.7 MB 13.9 MB/s eta 0:00:15\n",
      "     ------------------------ ------------ 391.7/587.7 MB 13.9 MB/s eta 0:00:15\n",
      "     ------------------------ ------------ 392.1/587.7 MB 13.9 MB/s eta 0:00:15\n",
      "     ------------------------ ------------ 392.5/587.7 MB 13.9 MB/s eta 0:00:15\n",
      "     ------------------------ ------------ 393.0/587.7 MB 14.2 MB/s eta 0:00:14\n",
      "     ------------------------ ------------ 393.8/587.7 MB 13.9 MB/s eta 0:00:14\n",
      "     ------------------------ ------------ 394.5/587.7 MB 14.2 MB/s eta 0:00:14\n",
      "     ------------------------ ------------ 395.2/587.7 MB 14.6 MB/s eta 0:00:14\n",
      "     ------------------------ ------------ 396.1/587.7 MB 14.9 MB/s eta 0:00:13\n",
      "     ------------------------ ------------ 396.8/587.7 MB 14.9 MB/s eta 0:00:13\n",
      "     ------------------------- ----------- 397.5/587.7 MB 14.9 MB/s eta 0:00:13\n",
      "     ------------------------- ----------- 398.2/587.7 MB 14.6 MB/s eta 0:00:14\n",
      "     ------------------------- ----------- 399.1/587.7 MB 14.9 MB/s eta 0:00:13\n",
      "     ------------------------- ----------- 399.6/587.7 MB 14.6 MB/s eta 0:00:13\n",
      "     ------------------------- ----------- 400.0/587.7 MB 14.2 MB/s eta 0:00:14\n",
      "     ------------------------- ----------- 400.7/587.7 MB 13.9 MB/s eta 0:00:14\n",
      "     ------------------------- ----------- 401.3/587.7 MB 13.9 MB/s eta 0:00:14\n",
      "     ------------------------- ----------- 402.2/587.7 MB 13.9 MB/s eta 0:00:14\n",
      "     ------------------------- ----------- 402.9/587.7 MB 14.9 MB/s eta 0:00:13\n",
      "     ------------------------- ----------- 404.0/587.7 MB 15.6 MB/s eta 0:00:12\n",
      "     ------------------------- ----------- 404.3/587.7 MB 16.0 MB/s eta 0:00:12\n",
      "     ------------------------- ----------- 404.7/587.7 MB 14.9 MB/s eta 0:00:13\n",
      "     ------------------------- ----------- 405.0/587.7 MB 13.9 MB/s eta 0:00:14\n",
      "     ------------------------- ----------- 405.7/587.7 MB 13.9 MB/s eta 0:00:14\n",
      "     ------------------------- ----------- 406.4/587.7 MB 13.6 MB/s eta 0:00:14\n",
      "     ------------------------- ----------- 407.1/587.7 MB 13.6 MB/s eta 0:00:14\n",
      "     ------------------------- ----------- 407.9/587.7 MB 13.6 MB/s eta 0:00:14\n",
      "     ------------------------- ----------- 408.7/587.7 MB 13.9 MB/s eta 0:00:13\n",
      "     ------------------------- ----------- 409.6/587.7 MB 13.9 MB/s eta 0:00:13\n",
      "     ------------------------- ----------- 410.3/587.7 MB 14.9 MB/s eta 0:00:12\n",
      "     ------------------------- ----------- 411.3/587.7 MB 14.9 MB/s eta 0:00:12\n",
      "     ------------------------- ----------- 412.0/587.7 MB 14.9 MB/s eta 0:00:12\n",
      "     ------------------------- ----------- 412.8/587.7 MB 15.2 MB/s eta 0:00:12\n",
      "     -------------------------- ---------- 413.6/587.7 MB 14.9 MB/s eta 0:00:12\n",
      "     -------------------------- ---------- 414.5/587.7 MB 15.2 MB/s eta 0:00:12\n",
      "     -------------------------- ---------- 415.2/587.7 MB 16.8 MB/s eta 0:00:11\n",
      "     -------------------------- ---------- 415.8/587.7 MB 16.4 MB/s eta 0:00:11\n",
      "     -------------------------- ---------- 416.4/587.7 MB 16.4 MB/s eta 0:00:11\n",
      "     -------------------------- ---------- 417.3/587.7 MB 16.4 MB/s eta 0:00:11\n",
      "     -------------------------- ---------- 417.9/587.7 MB 16.4 MB/s eta 0:00:11\n",
      "     -------------------------- ---------- 418.4/587.7 MB 16.4 MB/s eta 0:00:11\n",
      "     -------------------------- ---------- 419.5/587.7 MB 16.8 MB/s eta 0:00:11\n",
      "     -------------------------- ---------- 420.4/587.7 MB 16.8 MB/s eta 0:00:10\n",
      "     -------------------------- ---------- 421.1/587.7 MB 16.0 MB/s eta 0:00:11\n",
      "     -------------------------- ---------- 421.8/587.7 MB 16.4 MB/s eta 0:00:11\n",
      "     -------------------------- ---------- 422.7/587.7 MB 16.4 MB/s eta 0:00:11\n",
      "     -------------------------- ---------- 423.5/587.7 MB 16.0 MB/s eta 0:00:11\n",
      "     -------------------------- ---------- 424.4/587.7 MB 16.8 MB/s eta 0:00:10\n",
      "     -------------------------- ---------- 425.1/587.7 MB 16.4 MB/s eta 0:00:10\n",
      "     -------------------------- ---------- 425.9/587.7 MB 16.4 MB/s eta 0:00:10\n",
      "     -------------------------- ---------- 426.8/587.7 MB 17.2 MB/s eta 0:00:10\n",
      "     -------------------------- ---------- 427.5/587.7 MB 16.8 MB/s eta 0:00:10\n",
      "     -------------------------- ---------- 428.5/587.7 MB 18.2 MB/s eta 0:00:09\n",
      "     --------------------------- --------- 428.9/587.7 MB 17.7 MB/s eta 0:00:09\n",
      "     --------------------------- --------- 429.8/587.7 MB 17.3 MB/s eta 0:00:10\n",
      "     --------------------------- --------- 430.7/587.7 MB 17.7 MB/s eta 0:00:09\n",
      "     --------------------------- --------- 431.6/587.7 MB 17.7 MB/s eta 0:00:09\n",
      "     --------------------------- --------- 432.3/587.7 MB 17.7 MB/s eta 0:00:09\n",
      "     --------------------------- --------- 433.1/587.7 MB 17.7 MB/s eta 0:00:09\n",
      "     --------------------------- --------- 433.9/587.7 MB 17.2 MB/s eta 0:00:09\n",
      "     --------------------------- --------- 434.2/587.7 MB 16.8 MB/s eta 0:00:10\n",
      "     --------------------------- --------- 434.9/587.7 MB 16.4 MB/s eta 0:00:10\n",
      "     --------------------------- --------- 435.2/587.7 MB 15.2 MB/s eta 0:00:11\n",
      "     --------------------------- --------- 435.9/587.7 MB 15.2 MB/s eta 0:00:10\n",
      "     --------------------------- --------- 436.5/587.7 MB 15.2 MB/s eta 0:00:10\n",
      "     --------------------------- --------- 437.0/587.7 MB 14.6 MB/s eta 0:00:11\n",
      "     --------------------------- --------- 437.5/587.7 MB 14.6 MB/s eta 0:00:11\n",
      "     --------------------------- --------- 438.0/587.7 MB 13.9 MB/s eta 0:00:11\n",
      "     --------------------------- --------- 438.4/587.7 MB 13.6 MB/s eta 0:00:11\n",
      "     --------------------------- --------- 439.1/587.7 MB 13.6 MB/s eta 0:00:11\n",
      "     --------------------------- --------- 439.4/587.7 MB 13.4 MB/s eta 0:00:12\n",
      "     --------------------------- --------- 439.8/587.7 MB 12.8 MB/s eta 0:00:12\n",
      "     --------------------------- --------- 440.2/587.7 MB 12.4 MB/s eta 0:00:12\n",
      "     --------------------------- --------- 440.5/587.7 MB 11.9 MB/s eta 0:00:13\n",
      "     --------------------------- --------- 441.0/587.7 MB 11.7 MB/s eta 0:00:13\n",
      "     --------------------------- --------- 441.5/587.7 MB 11.5 MB/s eta 0:00:13\n",
      "     --------------------------- --------- 441.9/587.7 MB 11.3 MB/s eta 0:00:13\n",
      "     --------------------------- --------- 442.3/587.7 MB 10.7 MB/s eta 0:00:14\n",
      "     --------------------------- --------- 442.7/587.7 MB 10.6 MB/s eta 0:00:14\n",
      "     --------------------------- --------- 443.2/587.7 MB 10.4 MB/s eta 0:00:14\n",
      "     --------------------------- --------- 443.7/587.7 MB 10.2 MB/s eta 0:00:15\n",
      "     --------------------------- --------- 444.2/587.7 MB 10.1 MB/s eta 0:00:15\n",
      "     ---------------------------- -------- 444.8/587.7 MB 10.4 MB/s eta 0:00:14\n",
      "     ---------------------------- -------- 445.4/587.7 MB 10.4 MB/s eta 0:00:14\n",
      "     ---------------------------- -------- 446.1/587.7 MB 10.4 MB/s eta 0:00:14\n",
      "     ---------------------------- -------- 446.6/587.7 MB 10.4 MB/s eta 0:00:14\n",
      "     ---------------------------- -------- 447.3/587.7 MB 10.6 MB/s eta 0:00:14\n",
      "     ---------------------------- -------- 447.9/587.7 MB 10.7 MB/s eta 0:00:14\n",
      "     ---------------------------- -------- 448.5/587.7 MB 10.7 MB/s eta 0:00:13\n",
      "     ---------------------------- -------- 449.0/587.7 MB 10.7 MB/s eta 0:00:13\n",
      "     ---------------------------- -------- 449.7/587.7 MB 11.1 MB/s eta 0:00:13\n",
      "     ---------------------------- -------- 450.3/587.7 MB 11.3 MB/s eta 0:00:13\n",
      "     ---------------------------- -------- 450.9/587.7 MB 11.7 MB/s eta 0:00:12\n",
      "     ---------------------------- -------- 451.3/587.7 MB 11.5 MB/s eta 0:00:12\n",
      "     ---------------------------- -------- 451.8/587.7 MB 11.7 MB/s eta 0:00:12\n",
      "     ---------------------------- -------- 452.5/587.7 MB 12.4 MB/s eta 0:00:11\n",
      "     ---------------------------- -------- 452.9/587.7 MB 12.3 MB/s eta 0:00:11\n",
      "     ---------------------------- -------- 453.2/587.7 MB 11.7 MB/s eta 0:00:12\n",
      "     ---------------------------- -------- 453.6/587.7 MB 11.7 MB/s eta 0:00:12\n",
      "     ---------------------------- -------- 454.0/587.7 MB 11.7 MB/s eta 0:00:12\n",
      "     ---------------------------- -------- 454.4/587.7 MB 11.7 MB/s eta 0:00:12\n",
      "     ---------------------------- -------- 454.9/587.7 MB 11.7 MB/s eta 0:00:12\n",
      "     ---------------------------- -------- 455.4/587.7 MB 11.5 MB/s eta 0:00:12\n",
      "     ---------------------------- -------- 455.9/587.7 MB 11.3 MB/s eta 0:00:12\n",
      "     ---------------------------- -------- 456.4/587.7 MB 11.3 MB/s eta 0:00:12\n",
      "     ---------------------------- -------- 457.0/587.7 MB 11.1 MB/s eta 0:00:12\n",
      "     ---------------------------- -------- 457.6/587.7 MB 11.1 MB/s eta 0:00:12\n",
      "     ---------------------------- -------- 458.1/587.7 MB 11.1 MB/s eta 0:00:12\n",
      "     ---------------------------- -------- 458.7/587.7 MB 11.1 MB/s eta 0:00:12\n",
      "     ---------------------------- -------- 459.5/587.7 MB 11.3 MB/s eta 0:00:12\n",
      "     ---------------------------- -------- 459.8/587.7 MB 10.7 MB/s eta 0:00:12\n",
      "     ---------------------------- -------- 460.5/587.7 MB 10.9 MB/s eta 0:00:12\n",
      "     ----------------------------- ------- 460.9/587.7 MB 10.7 MB/s eta 0:00:12\n",
      "     ----------------------------- ------- 461.5/587.7 MB 10.9 MB/s eta 0:00:12\n",
      "     ----------------------------- ------- 462.1/587.7 MB 11.1 MB/s eta 0:00:12\n",
      "     ----------------------------- ------- 462.9/587.7 MB 11.1 MB/s eta 0:00:12\n",
      "     ----------------------------- ------- 463.6/587.7 MB 12.1 MB/s eta 0:00:11\n",
      "     ----------------------------- ------- 464.4/587.7 MB 12.4 MB/s eta 0:00:10\n",
      "     ----------------------------- ------- 465.2/587.7 MB 13.1 MB/s eta 0:00:10\n",
      "     ----------------------------- ------- 465.8/587.7 MB 13.1 MB/s eta 0:00:10\n",
      "     ----------------------------- ------- 466.6/587.7 MB 13.6 MB/s eta 0:00:09\n",
      "     ----------------------------- ------- 467.3/587.7 MB 13.9 MB/s eta 0:00:09\n",
      "     ----------------------------- ------- 468.1/587.7 MB 14.2 MB/s eta 0:00:09\n",
      "     ----------------------------- ------- 468.7/587.7 MB 14.6 MB/s eta 0:00:09\n",
      "     ----------------------------- ------- 469.4/587.7 MB 14.2 MB/s eta 0:00:09\n",
      "     ----------------------------- ------- 470.1/587.7 MB 14.9 MB/s eta 0:00:08\n",
      "     ----------------------------- ------- 470.8/587.7 MB 14.9 MB/s eta 0:00:08\n",
      "     ----------------------------- ------- 471.7/587.7 MB 15.6 MB/s eta 0:00:08\n",
      "     ----------------------------- ------- 472.5/587.7 MB 16.0 MB/s eta 0:00:08\n",
      "     ----------------------------- ------- 473.0/587.7 MB 15.6 MB/s eta 0:00:08\n",
      "     ----------------------------- ------- 473.6/587.7 MB 15.2 MB/s eta 0:00:08\n",
      "     ----------------------------- ------- 474.5/587.7 MB 15.6 MB/s eta 0:00:08\n",
      "     ----------------------------- ------- 475.3/587.7 MB 15.6 MB/s eta 0:00:08\n",
      "     ----------------------------- ------- 476.1/587.7 MB 16.0 MB/s eta 0:00:07\n",
      "     ------------------------------ ------ 476.9/587.7 MB 16.0 MB/s eta 0:00:07\n",
      "     ------------------------------ ------ 477.6/587.7 MB 16.0 MB/s eta 0:00:07\n",
      "     ------------------------------ ------ 478.5/587.7 MB 16.0 MB/s eta 0:00:07\n",
      "     ------------------------------ ------ 479.2/587.7 MB 16.0 MB/s eta 0:00:07\n",
      "     ------------------------------ ------ 480.0/587.7 MB 16.0 MB/s eta 0:00:07\n",
      "     ------------------------------ ------ 480.8/587.7 MB 16.4 MB/s eta 0:00:07\n",
      "     ------------------------------ ------ 481.7/587.7 MB 16.4 MB/s eta 0:00:07\n",
      "     ------------------------------ ------ 482.5/587.7 MB 16.8 MB/s eta 0:00:07\n",
      "     ------------------------------ ------ 483.4/587.7 MB 17.2 MB/s eta 0:00:07\n",
      "     ------------------------------ ------ 484.3/587.7 MB 17.7 MB/s eta 0:00:06\n",
      "     ------------------------------ ------ 485.1/587.7 MB 17.2 MB/s eta 0:00:06\n",
      "     ------------------------------ ------ 485.8/587.7 MB 17.3 MB/s eta 0:00:06\n",
      "     ------------------------------ ------ 486.6/587.7 MB 17.3 MB/s eta 0:00:06\n",
      "     ------------------------------ ------ 487.4/587.7 MB 17.2 MB/s eta 0:00:06\n",
      "     ------------------------------ ------ 488.0/587.7 MB 17.2 MB/s eta 0:00:06\n",
      "     ------------------------------ ------ 488.6/587.7 MB 16.8 MB/s eta 0:00:06\n",
      "     ------------------------------ ------ 489.4/587.7 MB 16.8 MB/s eta 0:00:06\n",
      "     ------------------------------ ------ 490.3/587.7 MB 17.2 MB/s eta 0:00:06\n",
      "     ------------------------------ ------ 490.9/587.7 MB 17.2 MB/s eta 0:00:06\n",
      "     ------------------------------ ------ 491.7/587.7 MB 16.8 MB/s eta 0:00:06\n",
      "     ------------------------------- ----- 492.7/587.7 MB 16.8 MB/s eta 0:00:06\n",
      "     ------------------------------- ----- 493.3/587.7 MB 16.4 MB/s eta 0:00:06\n",
      "     ------------------------------- ----- 494.0/587.7 MB 16.0 MB/s eta 0:00:06\n",
      "     ------------------------------- ----- 494.8/587.7 MB 16.0 MB/s eta 0:00:06\n",
      "     ------------------------------- ----- 495.5/587.7 MB 15.6 MB/s eta 0:00:06\n",
      "     ------------------------------- ----- 496.4/587.7 MB 16.0 MB/s eta 0:00:06\n",
      "     ------------------------------- ----- 497.0/587.7 MB 16.0 MB/s eta 0:00:06\n",
      "     ------------------------------- ----- 497.6/587.7 MB 15.6 MB/s eta 0:00:06\n",
      "     ------------------------------- ----- 498.6/587.7 MB 16.4 MB/s eta 0:00:06\n",
      "     ------------------------------- ----- 499.6/587.7 MB 16.8 MB/s eta 0:00:06\n",
      "     ------------------------------- ----- 500.3/587.7 MB 16.4 MB/s eta 0:00:06\n",
      "     ------------------------------- ----- 501.5/587.7 MB 17.2 MB/s eta 0:00:06\n",
      "     ------------------------------- ----- 502.3/587.7 MB 17.2 MB/s eta 0:00:05\n",
      "     ------------------------------- ----- 503.1/587.7 MB 17.2 MB/s eta 0:00:05\n",
      "     ------------------------------- ----- 504.1/587.7 MB 18.2 MB/s eta 0:00:05\n",
      "     ------------------------------- ----- 504.9/587.7 MB 17.7 MB/s eta 0:00:05\n",
      "     ------------------------------- ----- 505.9/587.7 MB 18.7 MB/s eta 0:00:05\n",
      "     ------------------------------- ----- 506.6/587.7 MB 18.7 MB/s eta 0:00:05\n",
      "     ------------------------------- ----- 507.4/587.7 MB 18.7 MB/s eta 0:00:05\n",
      "     ------------------------------- ----- 508.2/587.7 MB 19.3 MB/s eta 0:00:05\n",
      "     -------------------------------- ---- 509.1/587.7 MB 19.3 MB/s eta 0:00:05\n",
      "     -------------------------------- ---- 510.1/587.7 MB 19.3 MB/s eta 0:00:05\n",
      "     -------------------------------- ---- 511.1/587.7 MB 19.3 MB/s eta 0:00:04\n",
      "     -------------------------------- ---- 512.0/587.7 MB 18.7 MB/s eta 0:00:05\n",
      "     -------------------------------- ---- 512.7/587.7 MB 19.2 MB/s eta 0:00:04\n",
      "     -------------------------------- ---- 513.8/587.7 MB 19.2 MB/s eta 0:00:04\n",
      "     -------------------------------- ---- 514.6/587.7 MB 19.3 MB/s eta 0:00:04\n",
      "     -------------------------------- ---- 515.6/587.7 MB 19.3 MB/s eta 0:00:04\n",
      "     -------------------------------- ---- 516.5/587.7 MB 19.3 MB/s eta 0:00:04\n",
      "     -------------------------------- ---- 517.3/587.7 MB 19.3 MB/s eta 0:00:04\n",
      "     -------------------------------- ---- 518.2/587.7 MB 19.3 MB/s eta 0:00:04\n",
      "     -------------------------------- ---- 519.1/587.7 MB 19.8 MB/s eta 0:00:04\n",
      "     -------------------------------- ---- 520.0/587.7 MB 19.8 MB/s eta 0:00:04\n",
      "     -------------------------------- ---- 520.7/587.7 MB 19.2 MB/s eta 0:00:04\n",
      "     -------------------------------- ---- 521.3/587.7 MB 18.2 MB/s eta 0:00:04\n",
      "     -------------------------------- ---- 521.7/587.7 MB 17.7 MB/s eta 0:00:04\n",
      "     -------------------------------- ---- 522.1/587.7 MB 16.8 MB/s eta 0:00:04\n",
      "     -------------------------------- ---- 522.8/587.7 MB 16.8 MB/s eta 0:00:04\n",
      "     -------------------------------- ---- 523.2/587.7 MB 16.4 MB/s eta 0:00:04\n",
      "     -------------------------------- ---- 523.7/587.7 MB 15.6 MB/s eta 0:00:05\n",
      "     --------------------------------- --- 524.3/587.7 MB 15.2 MB/s eta 0:00:05\n",
      "     --------------------------------- --- 524.6/587.7 MB 14.9 MB/s eta 0:00:05\n",
      "     --------------------------------- --- 525.2/587.7 MB 13.9 MB/s eta 0:00:05\n",
      "     --------------------------------- --- 525.7/587.7 MB 13.6 MB/s eta 0:00:05\n",
      "     --------------------------------- --- 526.4/587.7 MB 13.4 MB/s eta 0:00:05\n",
      "     --------------------------------- --- 527.2/587.7 MB 13.4 MB/s eta 0:00:05\n",
      "     --------------------------------- --- 527.5/587.7 MB 12.8 MB/s eta 0:00:05\n",
      "     --------------------------------- --- 528.2/587.7 MB 12.8 MB/s eta 0:00:05\n",
      "     --------------------------------- --- 528.6/587.7 MB 12.6 MB/s eta 0:00:05\n",
      "     --------------------------------- --- 529.0/587.7 MB 11.9 MB/s eta 0:00:05\n",
      "     --------------------------------- --- 529.3/587.7 MB 11.5 MB/s eta 0:00:06\n",
      "     --------------------------------- --- 529.7/587.7 MB 11.1 MB/s eta 0:00:06\n",
      "     --------------------------------- --- 530.1/587.7 MB 10.9 MB/s eta 0:00:06\n",
      "     --------------------------------- --- 530.7/587.7 MB 10.7 MB/s eta 0:00:06\n",
      "     --------------------------------- --- 531.2/587.7 MB 10.6 MB/s eta 0:00:06\n",
      "     --------------------------------- --- 531.7/587.7 MB 10.9 MB/s eta 0:00:06\n",
      "     --------------------------------- --- 532.0/587.7 MB 10.6 MB/s eta 0:00:06\n",
      "     --------------------------------- --- 532.2/587.7 MB 10.4 MB/s eta 0:00:06\n",
      "     --------------------------------- --- 532.4/587.7 MB 10.1 MB/s eta 0:00:06\n",
      "     ---------------------------------- --- 532.7/587.7 MB 9.8 MB/s eta 0:00:06\n",
      "     ---------------------------------- --- 532.8/587.7 MB 9.4 MB/s eta 0:00:06\n",
      "     ---------------------------------- --- 533.0/587.7 MB 9.1 MB/s eta 0:00:07\n",
      "     ---------------------------------- --- 533.2/587.7 MB 8.8 MB/s eta 0:00:07\n",
      "     ---------------------------------- --- 533.4/587.7 MB 8.6 MB/s eta 0:00:07\n",
      "     ---------------------------------- --- 533.5/587.7 MB 8.4 MB/s eta 0:00:07\n",
      "     ---------------------------------- --- 533.7/587.7 MB 8.2 MB/s eta 0:00:07\n",
      "     ---------------------------------- --- 533.9/587.7 MB 8.1 MB/s eta 0:00:07\n",
      "     ---------------------------------- --- 534.2/587.7 MB 7.9 MB/s eta 0:00:07\n",
      "     ---------------------------------- --- 534.4/587.7 MB 7.7 MB/s eta 0:00:07\n",
      "     ---------------------------------- --- 534.7/587.7 MB 7.6 MB/s eta 0:00:07\n",
      "     ---------------------------------- --- 535.0/587.7 MB 7.7 MB/s eta 0:00:07\n",
      "     ---------------------------------- --- 535.4/587.7 MB 7.5 MB/s eta 0:00:07\n",
      "     ---------------------------------- --- 535.9/587.7 MB 7.5 MB/s eta 0:00:07\n",
      "     ---------------------------------- --- 536.2/587.7 MB 7.4 MB/s eta 0:00:07\n",
      "     ---------------------------------- --- 536.6/587.7 MB 7.3 MB/s eta 0:00:08\n",
      "     ---------------------------------- --- 537.1/587.7 MB 7.2 MB/s eta 0:00:08\n",
      "     ---------------------------------- --- 537.6/587.7 MB 7.2 MB/s eta 0:00:07\n",
      "     ---------------------------------- --- 538.0/587.7 MB 7.1 MB/s eta 0:00:07\n",
      "     ---------------------------------- --- 538.7/587.7 MB 7.2 MB/s eta 0:00:07\n",
      "     ---------------------------------- --- 539.2/587.7 MB 7.3 MB/s eta 0:00:07\n",
      "     ---------------------------------- --- 539.8/587.7 MB 7.4 MB/s eta 0:00:07\n",
      "     ---------------------------------- --- 540.1/587.7 MB 7.5 MB/s eta 0:00:07\n",
      "     ---------------------------------- --- 540.6/587.7 MB 7.4 MB/s eta 0:00:07\n",
      "     ---------------------------------- --- 541.0/587.7 MB 7.4 MB/s eta 0:00:07\n",
      "     ----------------------------------- -- 541.5/587.7 MB 7.4 MB/s eta 0:00:07\n",
      "     ----------------------------------- -- 541.9/587.7 MB 7.4 MB/s eta 0:00:07\n",
      "     ----------------------------------- -- 542.5/587.7 MB 7.5 MB/s eta 0:00:07\n",
      "     ----------------------------------- -- 543.0/587.7 MB 8.1 MB/s eta 0:00:06\n",
      "     ----------------------------------- -- 543.5/587.7 MB 8.5 MB/s eta 0:00:06\n",
      "     ----------------------------------- -- 544.1/587.7 MB 9.5 MB/s eta 0:00:05\n",
      "     ----------------------------------- -- 544.7/587.7 MB 9.9 MB/s eta 0:00:05\n",
      "     ---------------------------------- -- 545.1/587.7 MB 10.2 MB/s eta 0:00:05\n",
      "     ---------------------------------- -- 545.6/587.7 MB 10.2 MB/s eta 0:00:05\n",
      "     ---------------------------------- -- 546.1/587.7 MB 10.6 MB/s eta 0:00:04\n",
      "     ---------------------------------- -- 546.4/587.7 MB 10.4 MB/s eta 0:00:04\n",
      "     ---------------------------------- -- 546.9/587.7 MB 10.6 MB/s eta 0:00:04\n",
      "     ---------------------------------- -- 547.4/587.7 MB 10.4 MB/s eta 0:00:04\n",
      "     ---------------------------------- -- 548.1/587.7 MB 10.7 MB/s eta 0:00:04\n",
      "     ---------------------------------- -- 548.8/587.7 MB 10.9 MB/s eta 0:00:04\n",
      "     ---------------------------------- -- 549.4/587.7 MB 10.9 MB/s eta 0:00:04\n",
      "     ---------------------------------- -- 550.1/587.7 MB 11.1 MB/s eta 0:00:04\n",
      "     ---------------------------------- -- 550.8/587.7 MB 11.5 MB/s eta 0:00:04\n",
      "     ---------------------------------- -- 551.4/587.7 MB 11.7 MB/s eta 0:00:04\n",
      "     ---------------------------------- -- 551.7/587.7 MB 11.7 MB/s eta 0:00:04\n",
      "     ---------------------------------- -- 552.2/587.7 MB 11.5 MB/s eta 0:00:04\n",
      "     ---------------------------------- -- 552.6/587.7 MB 11.5 MB/s eta 0:00:04\n",
      "     ---------------------------------- -- 553.2/587.7 MB 11.5 MB/s eta 0:00:04\n",
      "     ---------------------------------- -- 553.9/587.7 MB 11.9 MB/s eta 0:00:03\n",
      "     ---------------------------------- -- 554.5/587.7 MB 11.5 MB/s eta 0:00:03\n",
      "     ---------------------------------- -- 554.8/587.7 MB 11.5 MB/s eta 0:00:03\n",
      "     ---------------------------------- -- 555.5/587.7 MB 11.9 MB/s eta 0:00:03\n",
      "     ----------------------------------- - 556.1/587.7 MB 11.9 MB/s eta 0:00:03\n",
      "     ----------------------------------- - 556.9/587.7 MB 12.6 MB/s eta 0:00:03\n",
      "     ----------------------------------- - 557.6/587.7 MB 13.1 MB/s eta 0:00:03\n",
      "     ----------------------------------- - 558.0/587.7 MB 12.8 MB/s eta 0:00:03\n",
      "     ----------------------------------- - 558.2/587.7 MB 12.4 MB/s eta 0:00:03\n",
      "     ----------------------------------- - 558.5/587.7 MB 11.9 MB/s eta 0:00:03\n",
      "     ----------------------------------- - 558.9/587.7 MB 11.5 MB/s eta 0:00:03\n",
      "     ----------------------------------- - 559.4/587.7 MB 11.3 MB/s eta 0:00:03\n",
      "     ----------------------------------- - 559.8/587.7 MB 11.3 MB/s eta 0:00:03\n",
      "     ----------------------------------- - 560.3/587.7 MB 11.1 MB/s eta 0:00:03\n",
      "     ----------------------------------- - 560.4/587.7 MB 10.6 MB/s eta 0:00:03\n",
      "     ----------------------------------- - 560.6/587.7 MB 10.4 MB/s eta 0:00:03\n",
      "     ------------------------------------ - 560.9/587.7 MB 9.9 MB/s eta 0:00:03\n",
      "     ------------------------------------ - 561.1/587.7 MB 9.6 MB/s eta 0:00:03\n",
      "     ------------------------------------ - 561.3/587.7 MB 9.4 MB/s eta 0:00:03\n",
      "     ------------------------------------ - 561.5/587.7 MB 9.1 MB/s eta 0:00:03\n",
      "     ------------------------------------ - 561.6/587.7 MB 8.8 MB/s eta 0:00:03\n",
      "     ------------------------------------ - 561.8/587.7 MB 8.5 MB/s eta 0:00:04\n",
      "     ------------------------------------ - 562.0/587.7 MB 8.6 MB/s eta 0:00:03\n",
      "     ------------------------------------ - 562.2/587.7 MB 8.3 MB/s eta 0:00:04\n",
      "     ------------------------------------ - 562.4/587.7 MB 8.2 MB/s eta 0:00:04\n",
      "     ------------------------------------ - 562.6/587.7 MB 8.0 MB/s eta 0:00:04\n",
      "     ------------------------------------ - 562.8/587.7 MB 7.8 MB/s eta 0:00:04\n",
      "     ------------------------------------ - 563.1/587.7 MB 7.7 MB/s eta 0:00:04\n",
      "     ------------------------------------ - 563.6/587.7 MB 7.6 MB/s eta 0:00:04\n",
      "     ------------------------------------ - 563.9/587.7 MB 7.5 MB/s eta 0:00:04\n",
      "     ------------------------------------ - 564.2/587.7 MB 7.4 MB/s eta 0:00:04\n",
      "     ------------------------------------ - 564.5/587.7 MB 7.3 MB/s eta 0:00:04\n",
      "     ------------------------------------ - 564.7/587.7 MB 7.1 MB/s eta 0:00:04\n",
      "     ------------------------------------ - 565.0/587.7 MB 7.0 MB/s eta 0:00:04\n",
      "     ------------------------------------ - 565.3/587.7 MB 7.0 MB/s eta 0:00:04\n",
      "     ------------------------------------ - 565.6/587.7 MB 6.8 MB/s eta 0:00:04\n",
      "     ------------------------------------ - 566.1/587.7 MB 6.8 MB/s eta 0:00:04\n",
      "     ------------------------------------ - 566.5/587.7 MB 6.7 MB/s eta 0:00:04\n",
      "     ------------------------------------ - 566.7/587.7 MB 6.6 MB/s eta 0:00:04\n",
      "     ------------------------------------ - 567.3/587.7 MB 6.5 MB/s eta 0:00:04\n",
      "     ------------------------------------ - 567.7/587.7 MB 6.4 MB/s eta 0:00:04\n",
      "     ------------------------------------ - 567.9/587.7 MB 6.3 MB/s eta 0:00:04\n",
      "     ------------------------------------ - 568.3/587.7 MB 6.3 MB/s eta 0:00:04\n",
      "     ------------------------------------ - 568.6/587.7 MB 6.4 MB/s eta 0:00:03\n",
      "     ------------------------------------ - 568.8/587.7 MB 6.3 MB/s eta 0:00:03\n",
      "     ------------------------------------ - 569.1/587.7 MB 6.2 MB/s eta 0:00:03\n",
      "     ------------------------------------ - 569.2/587.7 MB 6.2 MB/s eta 0:00:03\n",
      "     ------------------------------------ - 569.3/587.7 MB 6.1 MB/s eta 0:00:04\n",
      "     ------------------------------------ - 569.4/587.7 MB 5.8 MB/s eta 0:00:04\n",
      "     ------------------------------------ - 569.5/587.7 MB 5.7 MB/s eta 0:00:04\n",
      "     ------------------------------------ - 569.6/587.7 MB 5.6 MB/s eta 0:00:04\n",
      "     ------------------------------------ - 569.7/587.7 MB 5.5 MB/s eta 0:00:04\n",
      "     ------------------------------------ - 569.8/587.7 MB 5.4 MB/s eta 0:00:04\n",
      "     ------------------------------------ - 569.9/587.7 MB 5.3 MB/s eta 0:00:04\n",
      "     ------------------------------------ - 570.0/587.7 MB 5.2 MB/s eta 0:00:04\n",
      "     ------------------------------------ - 570.2/587.7 MB 5.2 MB/s eta 0:00:04\n",
      "     ------------------------------------ - 570.3/587.7 MB 5.0 MB/s eta 0:00:04\n",
      "     ------------------------------------ - 570.4/587.7 MB 5.0 MB/s eta 0:00:04\n",
      "     ------------------------------------ - 570.6/587.7 MB 4.9 MB/s eta 0:00:04\n",
      "     ------------------------------------ - 570.7/587.7 MB 5.0 MB/s eta 0:00:04\n",
      "     ------------------------------------ - 571.0/587.7 MB 4.9 MB/s eta 0:00:04\n",
      "     ------------------------------------ - 571.2/587.7 MB 4.9 MB/s eta 0:00:04\n",
      "     ------------------------------------ - 571.2/587.7 MB 4.9 MB/s eta 0:00:04\n",
      "     ------------------------------------ - 571.4/587.7 MB 4.8 MB/s eta 0:00:04\n",
      "     ------------------------------------ - 571.5/587.7 MB 4.7 MB/s eta 0:00:04\n",
      "     ------------------------------------ - 571.7/587.7 MB 4.7 MB/s eta 0:00:04\n",
      "     ------------------------------------ - 571.8/587.7 MB 4.7 MB/s eta 0:00:04\n",
      "     ------------------------------------ - 571.9/587.7 MB 4.7 MB/s eta 0:00:04\n",
      "     ------------------------------------ - 572.0/587.7 MB 4.7 MB/s eta 0:00:04\n",
      "     ------------------------------------ - 572.1/587.7 MB 4.6 MB/s eta 0:00:04\n",
      "     ------------------------------------ - 572.1/587.7 MB 4.5 MB/s eta 0:00:04\n",
      "     ------------------------------------ - 572.2/587.7 MB 4.5 MB/s eta 0:00:04\n",
      "     -------------------------------------  572.3/587.7 MB 4.4 MB/s eta 0:00:04\n",
      "     -------------------------------------  572.4/587.7 MB 4.4 MB/s eta 0:00:04\n",
      "     -------------------------------------  572.6/587.7 MB 4.3 MB/s eta 0:00:04\n",
      "     -------------------------------------  572.7/587.7 MB 4.3 MB/s eta 0:00:04\n",
      "     -------------------------------------  572.9/587.7 MB 4.3 MB/s eta 0:00:04\n",
      "     -------------------------------------  573.1/587.7 MB 4.3 MB/s eta 0:00:04\n",
      "     -------------------------------------  573.2/587.7 MB 4.3 MB/s eta 0:00:04\n",
      "     -------------------------------------  573.4/587.7 MB 4.2 MB/s eta 0:00:04\n",
      "     -------------------------------------  573.6/587.7 MB 4.2 MB/s eta 0:00:04\n",
      "     -------------------------------------  573.9/587.7 MB 4.2 MB/s eta 0:00:04\n",
      "     -------------------------------------  574.1/587.7 MB 4.1 MB/s eta 0:00:04\n",
      "     -------------------------------------  574.4/587.7 MB 4.1 MB/s eta 0:00:04\n",
      "     -------------------------------------  574.7/587.7 MB 4.1 MB/s eta 0:00:04\n",
      "     -------------------------------------  574.9/587.7 MB 4.1 MB/s eta 0:00:04\n",
      "     -------------------------------------  575.2/587.7 MB 4.1 MB/s eta 0:00:04\n",
      "     -------------------------------------  575.6/587.7 MB 4.1 MB/s eta 0:00:03\n",
      "     -------------------------------------  575.9/587.7 MB 4.1 MB/s eta 0:00:03\n",
      "     -------------------------------------  576.2/587.7 MB 4.1 MB/s eta 0:00:03\n",
      "     -------------------------------------  576.6/587.7 MB 4.1 MB/s eta 0:00:03\n",
      "     -------------------------------------  577.0/587.7 MB 4.1 MB/s eta 0:00:03\n",
      "     -------------------------------------  577.2/587.7 MB 4.1 MB/s eta 0:00:03\n",
      "     -------------------------------------  577.6/587.7 MB 4.1 MB/s eta 0:00:03\n",
      "     -------------------------------------  578.0/587.7 MB 4.1 MB/s eta 0:00:03\n",
      "     -------------------------------------  578.5/587.7 MB 4.1 MB/s eta 0:00:03\n",
      "     -------------------------------------  578.9/587.7 MB 4.1 MB/s eta 0:00:03\n",
      "     -------------------------------------  579.2/587.7 MB 4.1 MB/s eta 0:00:03\n",
      "     -------------------------------------  579.6/587.7 MB 4.4 MB/s eta 0:00:02\n",
      "     -------------------------------------  579.9/587.7 MB 4.5 MB/s eta 0:00:02\n",
      "     -------------------------------------  580.3/587.7 MB 4.8 MB/s eta 0:00:02\n",
      "     -------------------------------------  580.7/587.7 MB 4.9 MB/s eta 0:00:02\n",
      "     -------------------------------------  581.1/587.7 MB 5.2 MB/s eta 0:00:02\n",
      "     -------------------------------------  581.7/587.7 MB 5.5 MB/s eta 0:00:02\n",
      "     -------------------------------------  582.3/587.7 MB 6.3 MB/s eta 0:00:01\n",
      "     -------------------------------------  582.9/587.7 MB 7.1 MB/s eta 0:00:01\n",
      "     -------------------------------------  583.5/587.7 MB 7.8 MB/s eta 0:00:01\n",
      "     -------------------------------------  583.9/587.7 MB 8.2 MB/s eta 0:00:01\n",
      "     -------------------------------------  584.4/587.7 MB 8.4 MB/s eta 0:00:01\n",
      "     -------------------------------------  584.9/587.7 MB 8.7 MB/s eta 0:00:01\n",
      "     -------------------------------------  585.4/587.7 MB 9.0 MB/s eta 0:00:01\n",
      "     -------------------------------------  586.0/587.7 MB 9.2 MB/s eta 0:00:01\n",
      "     -------------------------------------  586.4/587.7 MB 9.4 MB/s eta 0:00:01\n",
      "     -------------------------------------  587.1/587.7 MB 9.8 MB/s eta 0:00:01\n",
      "     ------------------------------------  587.7/587.7 MB 10.2 MB/s eta 0:00:01\n",
      "     ------------------------------------  587.7/587.7 MB 10.2 MB/s eta 0:00:01\n",
      "     ------------------------------------  587.7/587.7 MB 10.2 MB/s eta 0:00:01\n",
      "     ------------------------------------  587.7/587.7 MB 10.2 MB/s eta 0:00:01\n",
      "     ------------------------------------  587.7/587.7 MB 10.2 MB/s eta 0:00:01\n",
      "     ------------------------------------  587.7/587.7 MB 10.2 MB/s eta 0:00:01\n",
      "     ------------------------------------  587.7/587.7 MB 10.2 MB/s eta 0:00:01\n",
      "     ------------------------------------  587.7/587.7 MB 10.2 MB/s eta 0:00:01\n",
      "     ------------------------------------  587.7/587.7 MB 10.2 MB/s eta 0:00:01\n",
      "     ------------------------------------  587.7/587.7 MB 10.2 MB/s eta 0:00:01\n",
      "     ------------------------------------  587.7/587.7 MB 10.2 MB/s eta 0:00:01\n",
      "     ------------------------------------  587.7/587.7 MB 10.2 MB/s eta 0:00:01\n",
      "     ------------------------------------  587.7/587.7 MB 10.2 MB/s eta 0:00:01\n",
      "     ------------------------------------  587.7/587.7 MB 10.2 MB/s eta 0:00:01\n",
      "     ------------------------------------  587.7/587.7 MB 10.2 MB/s eta 0:00:01\n",
      "     ------------------------------------  587.7/587.7 MB 10.2 MB/s eta 0:00:01\n",
      "     ------------------------------------  587.7/587.7 MB 10.2 MB/s eta 0:00:01\n",
      "     ------------------------------------  587.7/587.7 MB 10.2 MB/s eta 0:00:01\n",
      "     ------------------------------------  587.7/587.7 MB 10.2 MB/s eta 0:00:01\n",
      "     ------------------------------------  587.7/587.7 MB 10.2 MB/s eta 0:00:01\n",
      "     ------------------------------------  587.7/587.7 MB 10.2 MB/s eta 0:00:01\n",
      "     ------------------------------------  587.7/587.7 MB 10.2 MB/s eta 0:00:01\n",
      "     ------------------------------------  587.7/587.7 MB 10.2 MB/s eta 0:00:01\n",
      "     ------------------------------------  587.7/587.7 MB 10.2 MB/s eta 0:00:01\n",
      "     ------------------------------------  587.7/587.7 MB 10.2 MB/s eta 0:00:01\n",
      "     ------------------------------------  587.7/587.7 MB 10.2 MB/s eta 0:00:01\n",
      "     ------------------------------------  587.7/587.7 MB 10.2 MB/s eta 0:00:01\n",
      "     ------------------------------------  587.7/587.7 MB 10.2 MB/s eta 0:00:01\n",
      "     ------------------------------------  587.7/587.7 MB 10.2 MB/s eta 0:00:01\n",
      "     -------------------------------------- 587.7/587.7 MB 4.4 MB/s eta 0:00:00\n",
      "Requirement already satisfied: spacy<3.8.0,>=3.7.2 in c:\\users\\jacob\\miniconda3\\envs\\big-data-venv\\lib\\site-packages (from en-core-web-lg==3.7.1) (3.7.4)\n",
      "Requirement already satisfied: spacy-legacy<3.1.0,>=3.0.11 in c:\\users\\jacob\\miniconda3\\envs\\big-data-venv\\lib\\site-packages (from spacy<3.8.0,>=3.7.2->en-core-web-lg==3.7.1) (3.0.12)\n",
      "Requirement already satisfied: spacy-loggers<2.0.0,>=1.0.0 in c:\\users\\jacob\\miniconda3\\envs\\big-data-venv\\lib\\site-packages (from spacy<3.8.0,>=3.7.2->en-core-web-lg==3.7.1) (1.0.5)\n",
      "Requirement already satisfied: murmurhash<1.1.0,>=0.28.0 in c:\\users\\jacob\\miniconda3\\envs\\big-data-venv\\lib\\site-packages (from spacy<3.8.0,>=3.7.2->en-core-web-lg==3.7.1) (1.0.10)\n",
      "Requirement already satisfied: cymem<2.1.0,>=2.0.2 in c:\\users\\jacob\\miniconda3\\envs\\big-data-venv\\lib\\site-packages (from spacy<3.8.0,>=3.7.2->en-core-web-lg==3.7.1) (2.0.8)\n",
      "Requirement already satisfied: preshed<3.1.0,>=3.0.2 in c:\\users\\jacob\\miniconda3\\envs\\big-data-venv\\lib\\site-packages (from spacy<3.8.0,>=3.7.2->en-core-web-lg==3.7.1) (3.0.9)\n",
      "Requirement already satisfied: thinc<8.3.0,>=8.2.2 in c:\\users\\jacob\\miniconda3\\envs\\big-data-venv\\lib\\site-packages (from spacy<3.8.0,>=3.7.2->en-core-web-lg==3.7.1) (8.2.3)\n",
      "Requirement already satisfied: wasabi<1.2.0,>=0.9.1 in c:\\users\\jacob\\miniconda3\\envs\\big-data-venv\\lib\\site-packages (from spacy<3.8.0,>=3.7.2->en-core-web-lg==3.7.1) (1.1.2)\n",
      "Requirement already satisfied: srsly<3.0.0,>=2.4.3 in c:\\users\\jacob\\miniconda3\\envs\\big-data-venv\\lib\\site-packages (from spacy<3.8.0,>=3.7.2->en-core-web-lg==3.7.1) (2.4.8)\n",
      "Requirement already satisfied: catalogue<2.1.0,>=2.0.6 in c:\\users\\jacob\\miniconda3\\envs\\big-data-venv\\lib\\site-packages (from spacy<3.8.0,>=3.7.2->en-core-web-lg==3.7.1) (2.0.10)\n",
      "Requirement already satisfied: weasel<0.4.0,>=0.1.0 in c:\\users\\jacob\\miniconda3\\envs\\big-data-venv\\lib\\site-packages (from spacy<3.8.0,>=3.7.2->en-core-web-lg==3.7.1) (0.3.4)\n",
      "Requirement already satisfied: typer<0.10.0,>=0.3.0 in c:\\users\\jacob\\miniconda3\\envs\\big-data-venv\\lib\\site-packages (from spacy<3.8.0,>=3.7.2->en-core-web-lg==3.7.1) (0.9.4)\n",
      "Requirement already satisfied: smart-open<7.0.0,>=5.2.1 in c:\\users\\jacob\\miniconda3\\envs\\big-data-venv\\lib\\site-packages (from spacy<3.8.0,>=3.7.2->en-core-web-lg==3.7.1) (6.4.0)\n",
      "Requirement already satisfied: tqdm<5.0.0,>=4.38.0 in c:\\users\\jacob\\miniconda3\\envs\\big-data-venv\\lib\\site-packages (from spacy<3.8.0,>=3.7.2->en-core-web-lg==3.7.1) (4.66.2)\n",
      "Requirement already satisfied: requests<3.0.0,>=2.13.0 in c:\\users\\jacob\\miniconda3\\envs\\big-data-venv\\lib\\site-packages (from spacy<3.8.0,>=3.7.2->en-core-web-lg==3.7.1) (2.31.0)\n",
      "Requirement already satisfied: pydantic!=1.8,!=1.8.1,<3.0.0,>=1.7.4 in c:\\users\\jacob\\miniconda3\\envs\\big-data-venv\\lib\\site-packages (from spacy<3.8.0,>=3.7.2->en-core-web-lg==3.7.1) (2.6.4)\n",
      "Requirement already satisfied: jinja2 in c:\\users\\jacob\\miniconda3\\envs\\big-data-venv\\lib\\site-packages (from spacy<3.8.0,>=3.7.2->en-core-web-lg==3.7.1) (3.1.3)\n",
      "Requirement already satisfied: setuptools in c:\\users\\jacob\\miniconda3\\envs\\big-data-venv\\lib\\site-packages (from spacy<3.8.0,>=3.7.2->en-core-web-lg==3.7.1) (68.2.2)\n",
      "Requirement already satisfied: packaging>=20.0 in c:\\users\\jacob\\miniconda3\\envs\\big-data-venv\\lib\\site-packages (from spacy<3.8.0,>=3.7.2->en-core-web-lg==3.7.1) (23.2)\n",
      "Requirement already satisfied: langcodes<4.0.0,>=3.2.0 in c:\\users\\jacob\\miniconda3\\envs\\big-data-venv\\lib\\site-packages (from spacy<3.8.0,>=3.7.2->en-core-web-lg==3.7.1) (3.3.0)\n",
      "Requirement already satisfied: numpy>=1.19.0 in c:\\users\\jacob\\miniconda3\\envs\\big-data-venv\\lib\\site-packages (from spacy<3.8.0,>=3.7.2->en-core-web-lg==3.7.1) (1.26.4)\n",
      "Requirement already satisfied: annotated-types>=0.4.0 in c:\\users\\jacob\\miniconda3\\envs\\big-data-venv\\lib\\site-packages (from pydantic!=1.8,!=1.8.1,<3.0.0,>=1.7.4->spacy<3.8.0,>=3.7.2->en-core-web-lg==3.7.1) (0.6.0)\n",
      "Requirement already satisfied: pydantic-core==2.16.3 in c:\\users\\jacob\\miniconda3\\envs\\big-data-venv\\lib\\site-packages (from pydantic!=1.8,!=1.8.1,<3.0.0,>=1.7.4->spacy<3.8.0,>=3.7.2->en-core-web-lg==3.7.1) (2.16.3)\n",
      "Requirement already satisfied: typing-extensions>=4.6.1 in c:\\users\\jacob\\miniconda3\\envs\\big-data-venv\\lib\\site-packages (from pydantic!=1.8,!=1.8.1,<3.0.0,>=1.7.4->spacy<3.8.0,>=3.7.2->en-core-web-lg==3.7.1) (4.11.0)\n",
      "Requirement already satisfied: charset-normalizer<4,>=2 in c:\\users\\jacob\\miniconda3\\envs\\big-data-venv\\lib\\site-packages (from requests<3.0.0,>=2.13.0->spacy<3.8.0,>=3.7.2->en-core-web-lg==3.7.1) (3.3.2)\n",
      "Requirement already satisfied: idna<4,>=2.5 in c:\\users\\jacob\\miniconda3\\envs\\big-data-venv\\lib\\site-packages (from requests<3.0.0,>=2.13.0->spacy<3.8.0,>=3.7.2->en-core-web-lg==3.7.1) (3.6)\n",
      "Requirement already satisfied: urllib3<3,>=1.21.1 in c:\\users\\jacob\\miniconda3\\envs\\big-data-venv\\lib\\site-packages (from requests<3.0.0,>=2.13.0->spacy<3.8.0,>=3.7.2->en-core-web-lg==3.7.1) (2.2.0)\n",
      "Requirement already satisfied: certifi>=2017.4.17 in c:\\users\\jacob\\miniconda3\\envs\\big-data-venv\\lib\\site-packages (from requests<3.0.0,>=2.13.0->spacy<3.8.0,>=3.7.2->en-core-web-lg==3.7.1) (2024.2.2)\n",
      "Requirement already satisfied: blis<0.8.0,>=0.7.8 in c:\\users\\jacob\\miniconda3\\envs\\big-data-venv\\lib\\site-packages (from thinc<8.3.0,>=8.2.2->spacy<3.8.0,>=3.7.2->en-core-web-lg==3.7.1) (0.7.11)\n",
      "Requirement already satisfied: confection<1.0.0,>=0.0.1 in c:\\users\\jacob\\miniconda3\\envs\\big-data-venv\\lib\\site-packages (from thinc<8.3.0,>=8.2.2->spacy<3.8.0,>=3.7.2->en-core-web-lg==3.7.1) (0.1.4)\n",
      "Requirement already satisfied: colorama in c:\\users\\jacob\\miniconda3\\envs\\big-data-venv\\lib\\site-packages (from tqdm<5.0.0,>=4.38.0->spacy<3.8.0,>=3.7.2->en-core-web-lg==3.7.1) (0.4.6)\n",
      "Requirement already satisfied: click<9.0.0,>=7.1.1 in c:\\users\\jacob\\miniconda3\\envs\\big-data-venv\\lib\\site-packages (from typer<0.10.0,>=0.3.0->spacy<3.8.0,>=3.7.2->en-core-web-lg==3.7.1) (8.1.7)\n",
      "Requirement already satisfied: cloudpathlib<0.17.0,>=0.7.0 in c:\\users\\jacob\\miniconda3\\envs\\big-data-venv\\lib\\site-packages (from weasel<0.4.0,>=0.1.0->spacy<3.8.0,>=3.7.2->en-core-web-lg==3.7.1) (0.16.0)\n",
      "Requirement already satisfied: MarkupSafe>=2.0 in c:\\users\\jacob\\miniconda3\\envs\\big-data-venv\\lib\\site-packages (from jinja2->spacy<3.8.0,>=3.7.2->en-core-web-lg==3.7.1) (2.1.5)\n",
      "Installing collected packages: en-core-web-lg\n",
      "Successfully installed en-core-web-lg-3.7.1\n",
      "\u001b[38;5;2m✔ Download and installation successful\u001b[0m\n",
      "You can now load the package via spacy.load('en_core_web_lg')\n"
     ]
    }
   ],
   "source": [
    "# Uncommment and run the line below once to download the model\n",
    "!python -m spacy download en_core_web_lg"
   ]
  },
  {
   "cell_type": "markdown",
   "id": "6b233122",
   "metadata": {},
   "source": [
    "Here we load _Dracula_ to find any mentions of colours in the book. We can then find the average color and all the closest colors to that average."
   ]
  },
  {
   "cell_type": "code",
   "execution_count": 28,
   "id": "0f37a758",
   "metadata": {
    "pycharm": {
     "name": "#%%\n"
    }
   },
   "outputs": [],
   "source": [
    "# English pipeline optimized for CPU. Components: tok2vec, tagger, parser, senter, ner, attribute_ruler, lemmatizer.\n",
    "# more info: \n",
    "\n",
    "nlp = spacy.load('en_core_web_lg')"
   ]
  },
  {
   "cell_type": "code",
   "execution_count": 29,
   "id": "8a09fcbf-e1f7-4184-895e-62e68001e9dc",
   "metadata": {},
   "outputs": [],
   "source": [
    "with open(DRACULA, encoding=\"utf8\") as file:\n",
    "    dracula_text = file.read()\n",
    "\n",
    "dracula_doc = nlp(dracula_text)"
   ]
  },
  {
   "cell_type": "code",
   "execution_count": 30,
   "id": "26931775",
   "metadata": {},
   "outputs": [
    {
     "name": "stdout",
     "output_type": "stream",
     "text": [
      "[147.44839068 113.65371809 100.13540511]\n"
     ]
    }
   ],
   "source": [
    "# use word.lower_ to normalize case\n",
    "drac_colors = [colors[word.lower_] for word in dracula_doc if word.lower_ in colors]\n",
    "avg_color = mean(drac_colors)\n",
    "print(avg_color)"
   ]
  },
  {
   "cell_type": "code",
   "execution_count": 31,
   "id": "fcf0962f",
   "metadata": {},
   "outputs": [
    {
     "data": {
      "text/plain": [
       "<matplotlib.image.AxesImage at 0x18c31fdb210>"
      ]
     },
     "execution_count": 31,
     "metadata": {},
     "output_type": "execute_result"
    },
    {
     "data": {
      "image/png": "[encoded data removed]",
      "text/plain": [
       "<Figure size 640x480 with 1 Axes>"
      ]
     },
     "metadata": {},
     "output_type": "display_data"
    }
   ],
   "source": [
    "drac_color_img = make_solid_color(np.array(avg_color).astype(np.uint8))\n",
    "plt.imshow(drac_color_img)"
   ]
  },
  {
   "cell_type": "code",
   "execution_count": 32,
   "id": "29daa1ea",
   "metadata": {},
   "outputs": [
    {
     "data": {
      "text/plain": [
       "['reddish grey',\n",
       " 'brownish grey',\n",
       " 'brownish',\n",
       " 'brown grey',\n",
       " 'mocha',\n",
       " 'grey brown',\n",
       " 'puce',\n",
       " 'dull brown',\n",
       " 'pinkish brown',\n",
       " 'dark taupe']"
      ]
     },
     "execution_count": 32,
     "metadata": {},
     "output_type": "execute_result"
    }
   ],
   "source": [
    "closest(colors, avg_color)"
   ]
  },
  {
   "cell_type": "code",
   "execution_count": 33,
   "id": "caa20f63",
   "metadata": {},
   "outputs": [
    {
     "name": "stdout",
     "output_type": "stream",
     "text": [
      "reddish grey\n"
     ]
    }
   ],
   "source": [
    "closest_dracula_col = closest(colors, avg_color)[0]\n",
    "print(closest_dracula_col)"
   ]
  },
  {
   "cell_type": "code",
   "execution_count": 34,
   "id": "3bc83d91",
   "metadata": {},
   "outputs": [
    {
     "name": "stdout",
     "output_type": "stream",
     "text": [
      "(153, 117, 112)\n"
     ]
    },
    {
     "data": {
      "text/plain": [
       "<matplotlib.image.AxesImage at 0x18c318cd250>"
      ]
     },
     "execution_count": 34,
     "metadata": {},
     "output_type": "execute_result"
    },
    {
     "data": {
      "image/png": "[encoded data removed]",
      "text/plain": [
       "<Figure size 640x480 with 1 Axes>"
      ]
     },
     "metadata": {},
     "output_type": "display_data"
    }
   ],
   "source": [
    "image = make_solid_color(colors[closest_dracula_col])\n",
    "print(colors[closest_dracula_col])\n",
    "\n",
    "plt.imshow(image)"
   ]
  },
  {
   "cell_type": "markdown",
   "id": "49476d2d",
   "metadata": {
    "pycharm": {
     "name": "#%% md\n"
    }
   },
   "source": [
    "Here we load yellow wallpaper to find any mentions of colours in the book. We can then find the average color and all the closest colors to that average."
   ]
  },
  {
   "cell_type": "code",
   "execution_count": 35,
   "id": "fc7ff7c8",
   "metadata": {},
   "outputs": [],
   "source": [
    "wallpaper_doc = nlp(open(YELLOW_WALLPAPER).read())"
   ]
  },
  {
   "cell_type": "code",
   "execution_count": 36,
   "id": "373a39a9",
   "metadata": {},
   "outputs": [],
   "source": [
    "wallpaper_colors = [colors[word.lower_] for word in wallpaper_doc if word.lower_ in colors]\n",
    "avg_color = mean(wallpaper_colors)\n",
    "wallpaper_closest = closest(colors, avg_color)"
   ]
  },
  {
   "cell_type": "code",
   "execution_count": 37,
   "id": "86d6d71c",
   "metadata": {},
   "outputs": [
    {
     "name": "stdout",
     "output_type": "stream",
     "text": [
      "sickly yellow\n"
     ]
    },
    {
     "data": {
      "text/plain": [
       "<matplotlib.image.AxesImage at 0x18c27381b10>"
      ]
     },
     "execution_count": 37,
     "metadata": {},
     "output_type": "execute_result"
    },
    {
     "data": {
      "image/png": "[encoded data removed]",
      "text/plain": [
       "<Figure size 640x480 with 1 Axes>"
      ]
     },
     "metadata": {},
     "output_type": "display_data"
    }
   ],
   "source": [
    "image = make_solid_color(colors[wallpaper_closest[0]])\n",
    "print(wallpaper_closest[0])\n",
    "\n",
    "plt.imshow(image)"
   ]
  },
  {
   "cell_type": "markdown",
   "id": "1837079a",
   "metadata": {},
   "source": [
    "Lets load the Dracula text and do some word similarities"
   ]
  },
  {
   "cell_type": "code",
   "execution_count": 38,
   "id": "5ed8a1b8",
   "metadata": {},
   "outputs": [],
   "source": [
    "def cosine_similarity(vec1,vec2): \n",
    "    return 1-spatial.distance.cosine(vec1,vec2)"
   ]
  },
  {
   "cell_type": "markdown",
   "id": "db3af4ed",
   "metadata": {},
   "source": [
    "Tokenize Dracula:"
   ]
  },
  {
   "cell_type": "code",
   "execution_count": 39,
   "id": "e3c4bb37",
   "metadata": {},
   "outputs": [],
   "source": [
    "tokens = list(set([w.text for w in dracula_doc if w.is_alpha and w.has_vector]))"
   ]
  },
  {
   "cell_type": "code",
   "execution_count": 40,
   "id": "557b17cf",
   "metadata": {},
   "outputs": [],
   "source": [
    "def vec(s):\n",
    "    return nlp(s).vector"
   ]
  },
  {
   "cell_type": "code",
   "execution_count": 41,
   "id": "8c98e2bf",
   "metadata": {},
   "outputs": [
    {
     "data": {
      "text/plain": [
       "True"
      ]
     },
     "execution_count": 41,
     "metadata": {},
     "output_type": "execute_result"
    }
   ],
   "source": [
    "cosine_similarity(vec('dog'), vec('puppy')) > cosine_similarity(vec('trousers'), vec('octopus'))"
   ]
  },
  {
   "cell_type": "markdown",
   "id": "aae32af0",
   "metadata": {},
   "source": [
    "Learn more about the Python `sorted` function [here](https://www.w3schools.com/python/ref_func_sorted.asp)."
   ]
  },
  {
   "cell_type": "code",
   "execution_count": 55,
   "id": "ebfb7ea7",
   "metadata": {},
   "outputs": [],
   "source": [
    "def spacy_closest(token_list, vec_to_check, n=10):\n",
    "    return sorted(\n",
    "        token_list,\n",
    "        key=lambda x: cosine_similarity(vec_to_check, vec(x)), # sort based on the similarity of each token to the specified vector\n",
    "    )[-n:]"
   ]
  },
  {
   "cell_type": "code",
   "execution_count": 43,
   "id": "3171b056-c8f9-4f19-817d-507786c00e82",
   "metadata": {},
   "outputs": [],
   "source": [
    "day_vec = vec(\"day\")"
   ]
  },
  {
   "cell_type": "code",
   "execution_count": 44,
   "id": "4f3a7f37-2a6c-4d9a-8d35-dbaf62335b1d",
   "metadata": {},
   "outputs": [
    {
     "data": {
      "text/plain": [
       "300"
      ]
     },
     "execution_count": 44,
     "metadata": {},
     "output_type": "execute_result"
    }
   ],
   "source": [
    "# the length of the vector is the number of parameters in the model\n",
    "len(day_vec)"
   ]
  },
  {
   "cell_type": "code",
   "execution_count": 45,
   "id": "97a0d855-110f-4274-80bb-09df27603e9a",
   "metadata": {},
   "outputs": [
    {
     "data": {
      "text/plain": [
       "(-12.112, 14.145)"
      ]
     },
     "execution_count": 45,
     "metadata": {},
     "output_type": "execute_result"
    }
   ],
   "source": [
    "min(day_vec), max(day_vec)"
   ]
  },
  {
   "cell_type": "code",
   "execution_count": 56,
   "id": "e85ad35f",
   "metadata": {},
   "outputs": [
    {
     "data": {
      "text/plain": [
       "['midnight',\n",
       " 'nightfall',\n",
       " 'nightly',\n",
       " 'nights',\n",
       " 'week',\n",
       " 'afternoon',\n",
       " 'evening',\n",
       " 'morning',\n",
       " 'night',\n",
       " 'day']"
      ]
     },
     "execution_count": 56,
     "metadata": {},
     "output_type": "execute_result"
    }
   ],
   "source": [
    "# halfway between day and night\n",
    "spacy_closest(tokens, mean([vec(\"day\"), vec(\"night\")]))"
   ]
  },
  {
   "cell_type": "code",
   "execution_count": 57,
   "id": "f2730d5b",
   "metadata": {},
   "outputs": [
    {
     "data": {
      "text/plain": [
       "['sparkling',\n",
       " 'carafe',\n",
       " 'lovelier',\n",
       " 'splendid',\n",
       " 'plum',\n",
       " 'exquisite',\n",
       " 'brandy',\n",
       " 'beer',\n",
       " 'sherry',\n",
       " 'wine']"
      ]
     },
     "execution_count": 57,
     "metadata": {},
     "output_type": "execute_result"
    }
   ],
   "source": [
    "spacy_closest(tokens, subtract(vec(\"wine\"), vec(\"alcohol\")))"
   ]
  },
  {
   "cell_type": "markdown",
   "id": "7de34820",
   "metadata": {},
   "source": [
    "## Sentence Similarity\n",
    "Lets do some basic sentence similarities, we are going to average the vectors from all the words in the sentence. we will assume if those two sentences are similar the mean of the each word vector in the sentence will be close"
   ]
  },
  {
   "cell_type": "code",
   "execution_count": 48,
   "id": "f37f5fb1",
   "metadata": {},
   "outputs": [],
   "source": [
    "def sentvec(s):\n",
    "    sentence = nlp(s)\n",
    "    return mean([w.vector for w in sentence])"
   ]
  },
  {
   "cell_type": "code",
   "execution_count": 49,
   "id": "ec6abb5d",
   "metadata": {},
   "outputs": [],
   "source": [
    "sentences = list(dracula_doc.sents)"
   ]
  },
  {
   "cell_type": "code",
   "execution_count": 50,
   "id": "a28be52a",
   "metadata": {},
   "outputs": [],
   "source": [
    "wallpaper_sentences = list(wallpaper_doc.sents)"
   ]
  },
  {
   "cell_type": "code",
   "execution_count": 51,
   "id": "d18c9fd4",
   "metadata": {},
   "outputs": [
    {
     "data": {
      "text/plain": [
       "I used to feel that if any of the other things looked too fierce I could\n",
       "always hop into that chair and be safe.\n"
      ]
     },
     "execution_count": 51,
     "metadata": {},
     "output_type": "execute_result"
    }
   ],
   "source": [
    "wallpaper_sentences[100]"
   ]
  },
  {
   "cell_type": "code",
   "execution_count": 52,
   "id": "bcb33cdc",
   "metadata": {},
   "outputs": [
    {
     "data": {
      "text/plain": [
       "I\n",
       "did not know what to do, for, as an English Churchman, I have been\n",
       "taught to regard such things as in some measure idolatrous, and yet it\n",
       "seemed so ungracious to refuse an old lady meaning so well and in such a\n",
       "state of mind."
      ]
     },
     "execution_count": 52,
     "metadata": {},
     "output_type": "execute_result"
    }
   ],
   "source": [
    "sentences[111]"
   ]
  },
  {
   "cell_type": "code",
   "execution_count": 64,
   "id": "b90e9dd3",
   "metadata": {},
   "outputs": [],
   "source": [
    "def spacy_closest_sent(space, input_str, n=10):\n",
    "    input_vec = sentvec(input_str)\n",
    "    # we are selecting the top 10 sentences\n",
    "    return sorted(space,\n",
    "                  key=lambda x: cosine_similarity(np.mean([w.vector for w in x], axis=0), input_vec))[-n:]"
   ]
  },
  {
   "cell_type": "code",
   "execution_count": 65,
   "id": "453d4dab",
   "metadata": {
    "pycharm": {
     "name": "#%%\n"
    }
   },
   "outputs": [
    {
     "name": "stdout",
     "output_type": "stream",
     "text": [
      "It is so puzzling.\n",
      "---\n",
      "It is like a bad\n",
      "dream.\n",
      "\n",
      "\n",
      "---\n",
      "It gets into my hair.\n",
      "\n",
      "\n",
      "---\n",
      "There is a DELICIOUS garden!\n",
      "---\n",
      "This bedstead is fairly gnawed!\n",
      "\n",
      "\n",
      "---\n",
      "It is fortunate Mary is so good with the baby.\n",
      "---\n",
      "﻿Project\n",
      "---\n",
      "1.B.  \n",
      "---\n",
      "1.C.  \n",
      "---\n",
      "1.E.  \n",
      "---\n"
     ]
    }
   ],
   "source": [
    "for sent in spacy_closest_sent(wallpaper_sentences, \"My favorite food is strawberry ice cream.\"):\n",
    "    print(sent.text)\n",
    "    print(\"---\")"
   ]
  }
 ],
 "metadata": {
  "kernelspec": {
   "display_name": "Python 3 (ipykernel)",
   "language": "python",
   "name": "python3"
  },
  "language_info": {
   "codemirror_mode": {
    "name": "ipython",
    "version": 3
   },
   "file_extension": ".py",
   "mimetype": "text/x-python",
   "name": "python",
   "nbconvert_exporter": "python",
   "pygments_lexer": "ipython3",
   "version": "3.11.7"
  }
 },
 "nbformat": 4,
 "nbformat_minor": 5
}

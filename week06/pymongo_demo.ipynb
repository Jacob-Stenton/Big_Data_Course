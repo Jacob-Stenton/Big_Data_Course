{
 "cells": [
  {
   "cell_type": "code",
   "execution_count": null,
   "id": "1ac33eef-d6ce-43cd-aa28-00d423f0ee93",
   "metadata": {},
   "outputs": [],
   "source": [
    "# import the MongoClient class from the pymongo library\n",
    "import pymongo\n",
    "\n",
    "\n",
    "from pymongo import MongoClient"
   ]
  },
  {
   "cell_type": "code",
   "execution_count": null,
   "id": "f1a45cb4-ddfa-488f-847b-1339e0efa0b1",
   "metadata": {},
   "outputs": [],
   "source": [
    "# if you don't have pymongo installed, install it:\n",
    "# !pip install pymongo"
   ]
  },
  {
   "cell_type": "code",
   "execution_count": null,
   "id": "5287d597",
   "metadata": {},
   "outputs": [],
   "source": [
    "# First, you need to have the Mongodb server running. You can start it by opening a new terminal window and running \"mongosh\".\n",
    "# If you're a Mac OS user and are getting a network error, you may need to run \"brew services start mongodb-community\" first, and then \"mongosh\"."
   ]
  },
  {
   "cell_type": "code",
   "execution_count": null,
   "id": "9b8d84e1-5680-48a0-8eb8-cb1e01191df8",
   "metadata": {},
   "outputs": [],
   "source": [
    "# MongoClient connects to Mongo running as a Network Service in the background\n",
    "client = MongoClient(\"localhost\", 27017)"
   ]
  },
  {
   "cell_type": "code",
   "execution_count": null,
   "id": "a3fbec59-e7b7-4be6-8636-f6b9073c2a5d",
   "metadata": {},
   "outputs": [],
   "source": [
    "# select the database we want to work with\n",
    "db = client[\"bigDataDB\"]\n",
    "db"
   ]
  },
  {
   "cell_type": "code",
   "execution_count": null,
   "id": "8c190535-f0ae-438a-9c7f-312582b4617f",
   "metadata": {},
   "outputs": [],
   "source": [
    "# Documents in a Mongo database are organised into collections. You can think of these as an equivalent of tables in an SQL database.\n",
    "# Let's list all the collection naames in the selected database\n",
    "collection_names = db.list_collection_names()\n",
    "collection_names"
   ]
  },
  {
   "cell_type": "code",
   "execution_count": null,
   "id": "1a1a010c-339e-4e4e-ae84-286d1d0c99a2",
   "metadata": {},
   "outputs": [],
   "source": [
    "# List the first document from the \"students\" collection. By default, collections are sorted by the \"_id\" value.\n",
    "# Each dosument's ID is automatically generated when it's added to the collection.\n",
    "db.students.find_one()"
   ]
  },
  {
   "cell_type": "code",
   "execution_count": null,
   "id": "423a57b2-ee16-4e39-9e0f-01b52719e81e",
   "metadata": {},
   "outputs": [],
   "source": [
    "# Add a new document into the \"students\" collection\n",
    "db.students.insert_one({\"name\": \"John\", \"last_name\": \"Doe\"})"
   ]
  },
  {
   "cell_type": "code",
   "execution_count": null,
   "id": "f996a72d-e3e7-4cd3-916e-8b97c6846254",
   "metadata": {},
   "outputs": [],
   "source": [
    "# You can create a new collection (\"fav_colours\") by adding a new document directly\n",
    "flower_data = {\"name\": \"cornflower\", \"colour\": \"blue\"}\n",
    "db.flowers.insert_one(flower_data)"
   ]
  },
  {
   "cell_type": "code",
   "execution_count": null,
   "id": "14c82253",
   "metadata": {},
   "outputs": [],
   "source": [
    "# You should be ablee to see the new collection\n",
    "db.list_collection_names()"
   ]
  },
  {
   "cell_type": "code",
   "execution_count": null,
   "id": "4b36c10e",
   "metadata": {},
   "outputs": [],
   "source": [
    "# In NoSQL databases the data structure does not always match. In this case, however, the data does not match what the collection name indicates,\n",
    "# and the \"name\" key contains different types of data. It would be considered bad practice and simply confusing.\n",
    "db.students.insert_one(flower_data)"
   ]
  },
  {
   "cell_type": "code",
   "execution_count": null,
   "id": "d2021ee7-9aa0-4476-b4b9-1294ee0ba57d",
   "metadata": {},
   "outputs": [],
   "source": [
    "db.list_collection_names()"
   ]
  },
  {
   "cell_type": "code",
   "execution_count": null,
   "id": "7ba73f42-cfd2-4e55-8cd9-73dd9ca6ebae",
   "metadata": {},
   "outputs": [],
   "source": [
    "# display one object from the collection\n",
    "db.students.find_one()"
   ]
  },
  {
   "cell_type": "code",
   "execution_count": null,
   "id": "9a05c643-35fe-42bd-9398-f17703a8fd72",
   "metadata": {},
   "outputs": [],
   "source": [
    "# final all objects in a collection - a cursor is iterable but does not store all the data in the memory at once.\n",
    "students_cursor = db.students.find()\n",
    "students_cursor"
   ]
  },
  {
   "cell_type": "code",
   "execution_count": null,
   "id": "4d9bc734",
   "metadata": {},
   "outputs": [],
   "source": [
    "# If you need to see all the data, you can make a list from the Cursor object\n",
    "students_list = list(db.students.find())\n",
    "students_list"
   ]
  },
  {
   "cell_type": "code",
   "execution_count": null,
   "id": "925126fa-5cd4-47a3-9411-6548f6161e0d",
   "metadata": {},
   "outputs": [],
   "source": [
    "# as always, you can use the \"help\" function to explore the library\n",
    "help(db)"
   ]
  }
 ],
 "metadata": {
  "kernelspec": {
   "display_name": "Python 3 (ipykernel)",
   "language": "python",
   "name": "python3"
  },
  "language_info": {
   "codemirror_mode": {
    "name": "ipython",
    "version": 3
   },
   "file_extension": ".py",
   "mimetype": "text/x-python",
   "name": "python",
   "nbconvert_exporter": "python",
   "pygments_lexer": "ipython3",
   "version": "3.11.7"
  }
 },
 "nbformat": 4,
 "nbformat_minor": 5
}

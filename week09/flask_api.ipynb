{
 "cells": [
  {
   "cell_type": "code",
   "execution_count": 1,
   "id": "3aa1b9c7-f67f-43c4-a12a-8f3f17867460",
   "metadata": {},
   "outputs": [],
   "source": [
    "import spotipy\n",
    "import pymongo\n",
    "import requests\n",
    "\n",
    "from enum import auto, StrEnum\n",
    "\n",
    "from spotipy.oauth2 import SpotifyClientCredentials\n",
    "\n",
    "# Make sure you have created a spotify_credentials.py file in the same directory as this notebook.\n",
    "# the contents should be:\n",
    "# CLIENT_ID = 'YOUR_CLIENT_ID'\n",
    "# CLIENT_SECRET_ID = 'YOUR CLIENT_SECRET_ID'\n",
    "from spotify_credentials import CLIENT_ID, CLIENT_SECRET_ID"
   ]
  },
  {
   "cell_type": "code",
   "execution_count": 36,
   "id": "07ec3ae2-ac17-4a90-b52b-9d00699ec190",
   "metadata": {},
   "outputs": [],
   "source": [
    "# authenticate and initialise the Spotipy object\n",
    "auth_manager = SpotifyClientCredentials(CLIENT_ID, CLIENT_SECRET_ID)\n",
    "sp = spotipy.Spotify(auth_manager=auth_manager)"
   ]
  },
  {
   "cell_type": "code",
   "execution_count": 3,
   "id": "9c315a1f-33b8-43af-bb1c-5478d2f9af78",
   "metadata": {},
   "outputs": [],
   "source": [
    "# How to get a track id? From a sharing link:\n",
    "# https://open.spotify.com/track/1KamjM1JNDyyOd6uOyZs17?si=f39f725471284f97\n",
    "# https://open.spotify.com/track/{TRACK_ID}?si=f39f725471284f97\n",
    "\n",
    "# In a similar way, you can access data about artists, albums, playlists, etc.\n",
    "\n",
    "song = sp.track('1KamjM1JNDyyOd6uOyZs17')"
   ]
  },
  {
   "cell_type": "code",
   "execution_count": null,
   "id": "551658dc-d8aa-4883-bd41-eb7363756eaa",
   "metadata": {},
   "outputs": [],
   "source": [
    "# you can preview the whole response json here, but it may be a bit long and hard to read\n",
    "# song"
   ]
  },
  {
   "cell_type": "code",
   "execution_count": 4,
   "id": "a04b9735-a1ae-4975-92e8-fe9de25b277a",
   "metadata": {},
   "outputs": [],
   "source": [
    "mongo_client = pymongo.MongoClient(\"mongodb://localhost:27017/\")"
   ]
  },
  {
   "cell_type": "code",
   "execution_count": 5,
   "id": "435220f3-79d7-4278-8997-2e503fa402f7",
   "metadata": {},
   "outputs": [],
   "source": [
    "db = mongo_client['musicDB']"
   ]
  },
  {
   "cell_type": "code",
   "execution_count": 6,
   "id": "bc8682bf-3c8d-4eb0-be7c-a16581d74a51",
   "metadata": {},
   "outputs": [],
   "source": [
    "# when developing a piece of Python software and having a limited, hardcoded list of options, it's good practice to use Enums.\n",
    "# Enums store names and values which cannot be easily edited and would typically be imported from a separate file.\n",
    "# They can also be coordinated between different systems.\n",
    "# you can think of these as a class consisting primarily of class variables.\n",
    "# NOTE: the ENUM options are objects, to access the value you need to run: AppRouteEnum.CREATE.value\n",
    "# It may seem escessively complicated but is used widely as a suggestion this is a limited list of options not to be edited thoughtlessly.\n",
    "# It can be also used as a placeholder for values not known at the time of development.\n",
    "# This is also one of the few cases in Python where you don't need to keep alphabetical order by default.\n",
    "class AppRouteEnum(StrEnum):\n",
    "    \n",
    "    CREATE = auto() # 'create'\n",
    "    FIND_ONE = auto() # 'find_one', etc.\n",
    "    FIND = auto()\n",
    "    INSERT_ONE = auto()\n",
    "    INSERT_MANY = auto()\n",
    "    TEST = auto()\n",
    "    UPDATE_ONE = auto()\n",
    "    UPDATE_MANY = auto()\n",
    "    DELETE_ONE = auto()\n",
    "    DELETE_MANY = auto()\n",
    "\n",
    "    # the @classmethod decorator means you don't need to create an object to use this method,\n",
    "    # but you will be using other methods or variables from this class.\n",
    "    # when using need, you need to pass \"cls\" as the first argument during class definition.\n",
    "    @classmethod\n",
    "    def get_names(cls):\n",
    "        return [member.name for member in cls]\n",
    "\n",
    "    @classmethod\n",
    "    def get_values(cls):\n",
    "        return [member.value for member in cls]\n",
    "\n",
    "    @classmethod\n",
    "    def to_dict(cls):\n",
    "        return {member.name: member.value for member in cls}"
   ]
  },
  {
   "cell_type": "code",
   "execution_count": 7,
   "id": "c245e3f4-1fbe-4315-a0df-94d1eaff0801",
   "metadata": {},
   "outputs": [
    {
     "data": {
      "text/plain": [
       "[<AppRouteEnum.CREATE: 'create'>,\n",
       " <AppRouteEnum.FIND_ONE: 'find_one'>,\n",
       " <AppRouteEnum.FIND: 'find'>,\n",
       " <AppRouteEnum.INSERT_ONE: 'insert_one'>,\n",
       " <AppRouteEnum.INSERT_MANY: 'insert_many'>,\n",
       " <AppRouteEnum.TEST: 'test'>,\n",
       " <AppRouteEnum.UPDATE_ONE: 'update_one'>,\n",
       " <AppRouteEnum.UPDATE_MANY: 'update_many'>,\n",
       " <AppRouteEnum.DELETE_ONE: 'delete_one'>,\n",
       " <AppRouteEnum.DELETE_MANY: 'delete_many'>]"
      ]
     },
     "execution_count": 7,
     "metadata": {},
     "output_type": "execute_result"
    }
   ],
   "source": [
    "# you can iterate over the enum, but you can see that\n",
    "list(AppRouteEnum)"
   ]
  },
  {
   "cell_type": "code",
   "execution_count": 8,
   "id": "d4509c9c-dde2-4853-a179-7da452832d10",
   "metadata": {},
   "outputs": [
    {
     "ename": "KeyError",
     "evalue": "0",
     "output_type": "error",
     "traceback": [
      "\u001b[1;31m---------------------------------------------------------------------------\u001b[0m",
      "\u001b[1;31mKeyError\u001b[0m                                  Traceback (most recent call last)",
      "Cell \u001b[1;32mIn[8], line 2\u001b[0m\n\u001b[0;32m      1\u001b[0m \u001b[38;5;66;03m# you can't access these through indexing\u001b[39;00m\n\u001b[1;32m----> 2\u001b[0m \u001b[43mAppRouteEnum\u001b[49m\u001b[43m[\u001b[49m\u001b[38;5;241;43m0\u001b[39;49m\u001b[43m]\u001b[49m\n",
      "File \u001b[1;32m~\\.pyenv\\pyenv-win\\versions\\3.11.7\\Lib\\enum.py:790\u001b[0m, in \u001b[0;36mEnumType.__getitem__\u001b[1;34m(cls, name)\u001b[0m\n\u001b[0;32m    786\u001b[0m \u001b[38;5;28;01mdef\u001b[39;00m \u001b[38;5;21m__getitem__\u001b[39m(\u001b[38;5;28mcls\u001b[39m, name):\n\u001b[0;32m    787\u001b[0m \u001b[38;5;250m    \u001b[39m\u001b[38;5;124;03m\"\"\"\u001b[39;00m\n\u001b[0;32m    788\u001b[0m \u001b[38;5;124;03m    Return the member matching `name`.\u001b[39;00m\n\u001b[0;32m    789\u001b[0m \u001b[38;5;124;03m    \"\"\"\u001b[39;00m\n\u001b[1;32m--> 790\u001b[0m     \u001b[38;5;28;01mreturn\u001b[39;00m \u001b[38;5;28;43mcls\u001b[39;49m\u001b[38;5;241;43m.\u001b[39;49m\u001b[43m_member_map_\u001b[49m\u001b[43m[\u001b[49m\u001b[43mname\u001b[49m\u001b[43m]\u001b[49m\n",
      "\u001b[1;31mKeyError\u001b[0m: 0"
     ]
    }
   ],
   "source": [
    "# you can't access these through indexing\n",
    "AppRouteEnum[0]"
   ]
  },
  {
   "cell_type": "code",
   "execution_count": 9,
   "id": "667c4ed7-fb4b-4e88-a5c5-db8d61987bd4",
   "metadata": {},
   "outputs": [
    {
     "name": "stdout",
     "output_type": "stream",
     "text": [
      "create <enum 'AppRouteEnum'>\n"
     ]
    }
   ],
   "source": [
    "# but if cast to a list, you can see it's an object\n",
    "enum_member = list(AppRouteEnum)[0]\n",
    "print(enum_member, type(enum_member))"
   ]
  },
  {
   "cell_type": "code",
   "execution_count": null,
   "id": "d847cc03-a6a4-41f4-8858-0012212535f3",
   "metadata": {},
   "outputs": [],
   "source": [
    "AppRouteEnum.to_dict()"
   ]
  },
  {
   "cell_type": "code",
   "execution_count": null,
   "id": "24b9d44c-e5e6-4720-9d4d-e3b0f0ec9d90",
   "metadata": {},
   "outputs": [],
   "source": [
    "AppRouteEnum.get_names()"
   ]
  },
  {
   "cell_type": "code",
   "execution_count": 10,
   "id": "63efdcec-54cf-4b97-ac05-4d9f69d97adc",
   "metadata": {},
   "outputs": [
    {
     "data": {
      "text/plain": [
       "'create'"
      ]
     },
     "execution_count": 10,
     "metadata": {},
     "output_type": "execute_result"
    }
   ],
   "source": [
    "# If we want a single value from an Enum, this is how we access it:\n",
    "# Again, may look like an overkill, but this is to make sure these things are not edited by accident and kept consistent\n",
    "# It also allows to avoid typos when you need to use the same string value over and over again\n",
    "AppRouteEnum.CREATE.value"
   ]
  },
  {
   "cell_type": "code",
   "execution_count": null,
   "id": "baf1c9a3-eab0-4eda-9726-c35b662fdc90",
   "metadata": {},
   "outputs": [],
   "source": [
    "AppRouteEnum.DELETE_ONE.value"
   ]
  },
  {
   "cell_type": "code",
   "execution_count": null,
   "id": "5dda1227-32f5-4ccf-9735-1c356d544cdb",
   "metadata": {},
   "outputs": [],
   "source": [
    "# Let's get back to the database! And the \"favSongs\" collection"
   ]
  },
  {
   "cell_type": "code",
   "execution_count": 11,
   "id": "546ee3dc-8210-46e3-b182-827610f9c47f",
   "metadata": {},
   "outputs": [],
   "source": [
    "# combine all the info into one dict that we will want to save to the db\n",
    "def get_track_info(track_info):\n",
    "    # track_info = sp.track(track_id)\n",
    "\n",
    "    artist_names = [artist['name'] for artist in track_info['artists']]\n",
    "    release_year = track_info['album']['release_date'].split('-')[0]\n",
    "    spotify_url = track_info['external_urls']['spotify']\n",
    "\n",
    "    track_data = {\n",
    "        'artists': artist_names,\n",
    "        'spotify_id': track_info['id'],\n",
    "        'name': track_info['name'],\n",
    "        'release_year': release_year,\n",
    "        'spotify_url': spotify_url,\n",
    "    }\n",
    "    return track_data"
   ]
  },
  {
   "cell_type": "code",
   "execution_count": 14,
   "id": "0a6dc090-84f2-4696-bfa5-865bf17ebc64",
   "metadata": {},
   "outputs": [],
   "source": [
    "track_id = '1KamjM1JNDyyOd6uOyZs17'\n",
    "track_data = sp.track(track_id) # raw data from Spotify API\n",
    "track_info = get_track_info(track_data)"
   ]
  },
  {
   "cell_type": "code",
   "execution_count": 15,
   "id": "1a3415c1-0743-4f8a-872e-1ea078f2b318",
   "metadata": {},
   "outputs": [
    {
     "data": {
      "text/plain": [
       "{'artists': ['Solomun', 'Isolation Berlin'],\n",
       " 'spotify_id': '1KamjM1JNDyyOd6uOyZs17',\n",
       " 'name': 'Kreatur der Nacht (feat. Isolation Berlin)',\n",
       " 'release_year': '2020',\n",
       " 'spotify_url': 'https://open.spotify.com/track/1KamjM1JNDyyOd6uOyZs17'}"
      ]
     },
     "execution_count": 15,
     "metadata": {},
     "output_type": "execute_result"
    }
   ],
   "source": [
    "track_info"
   ]
  },
  {
   "cell_type": "code",
   "execution_count": 16,
   "id": "26b2d802-cdcd-4f33-85c1-823a4497bc42",
   "metadata": {},
   "outputs": [],
   "source": [
    "collection = db['favSongs']"
   ]
  },
  {
   "cell_type": "code",
   "execution_count": 17,
   "id": "80954cc6-7475-41ab-88b3-608188ea164f",
   "metadata": {},
   "outputs": [],
   "source": [
    "collection.find_one()"
   ]
  },
  {
   "cell_type": "code",
   "execution_count": 20,
   "id": "28148249-1d0c-47ea-8521-7f1b712ed1a2",
   "metadata": {},
   "outputs": [
    {
     "data": {
      "text/plain": [
       "0"
      ]
     },
     "execution_count": 20,
     "metadata": {},
     "output_type": "execute_result"
    }
   ],
   "source": [
    "collection.count_documents({})"
   ]
  },
  {
   "cell_type": "code",
   "execution_count": 21,
   "id": "a63b70b4-ecc6-4ccc-bbb5-457a3512e86f",
   "metadata": {},
   "outputs": [],
   "source": [
    "FLASK_URL = \"http://localhost:5000\"\n",
    "\n",
    "def get_url(method_route, app_url=FLASK_URL):\n",
    "    return '/'.join([app_url, method_route])"
   ]
  },
  {
   "cell_type": "code",
   "execution_count": 22,
   "id": "fb33882e-a21d-4b9a-bfa5-e7c9a8175eb8",
   "metadata": {},
   "outputs": [
    {
     "name": "stdout",
     "output_type": "stream",
     "text": [
      "test route: test\n",
      "TEST URL http://localhost:5000/test\n"
     ]
    }
   ],
   "source": [
    "# let's preview the test URL\n",
    "test_route = AppRouteEnum.TEST.value\n",
    "print(f'test route: {test_route}')\n",
    "\n",
    "TEST_URL = get_url(test_route)\n",
    "print('TEST URL', TEST_URL)"
   ]
  },
  {
   "cell_type": "code",
   "execution_count": 23,
   "id": "0a439e95-dd8c-452c-885d-696306bd9f64",
   "metadata": {},
   "outputs": [
    {
     "data": {
      "text/plain": [
       "{'collections': ['favSongs', 'SongInfo'], 'success': True}"
      ]
     },
     "execution_count": 23,
     "metadata": {},
     "output_type": "execute_result"
    }
   ],
   "source": [
    "# test the Flask app and database connection\n",
    "resp = requests.get(TEST_URL)\n",
    "resp.json()"
   ]
  },
  {
   "cell_type": "code",
   "execution_count": 24,
   "id": "5b4fed9c-928e-4334-9444-8e2df3d6b088",
   "metadata": {},
   "outputs": [],
   "source": [
    "# using this query, we'll be filetring documents int the database\n",
    "query = {'spotify_id': track_info['spotify_id']}"
   ]
  },
  {
   "cell_type": "code",
   "execution_count": 25,
   "id": "ff8671b7-ba57-42a1-a3a6-282c3e3ce3e0",
   "metadata": {},
   "outputs": [
    {
     "data": {
      "text/plain": [
       "[]"
      ]
     },
     "execution_count": 25,
     "metadata": {},
     "output_type": "execute_result"
    }
   ],
   "source": [
    "# find all documents matching the query\n",
    "resp_find = requests.get(\n",
    "    str(get_url(AppRouteEnum.FIND.value)), # the get_url function returns a str but for some reason you need to cast the output to str here or export it to a variable\n",
    "    json={'query': query},\n",
    ")\n",
    "resp_find.json()"
   ]
  },
  {
   "cell_type": "code",
   "execution_count": 26,
   "id": "73ad0ee3-9063-423b-b45b-748a45e66b85",
   "metadata": {},
   "outputs": [
    {
     "data": {
      "text/plain": [
       "<Response [200]>"
      ]
     },
     "execution_count": 26,
     "metadata": {},
     "output_type": "execute_result"
    }
   ],
   "source": [
    "resp_find"
   ]
  },
  {
   "cell_type": "code",
   "execution_count": 27,
   "id": "86f163c8-04bd-4cc7-83ba-41c457ae6b32",
   "metadata": {},
   "outputs": [
    {
     "data": {
      "text/plain": [
       "'http://localhost:5000/insert_one'"
      ]
     },
     "execution_count": 27,
     "metadata": {},
     "output_type": "execute_result"
    }
   ],
   "source": [
    "get_url(AppRouteEnum.INSERT_ONE.value)"
   ]
  },
  {
   "cell_type": "code",
   "execution_count": 28,
   "id": "2f31a743-a82e-4a47-b552-e0ea57f59c42",
   "metadata": {},
   "outputs": [],
   "source": [
    "# Now, let's try to add the same document again, using the POST request\n",
    "resp_insert_one = requests.post(\n",
    "    str(get_url(AppRouteEnum.INSERT_ONE.value)),\n",
    "    json={'data': track_info},\n",
    ")"
   ]
  },
  {
   "cell_type": "code",
   "execution_count": 29,
   "id": "41f41bd0-6515-48fe-a09b-f9f3a0a61606",
   "metadata": {},
   "outputs": [
    {
     "data": {
      "text/plain": [
       "<Response [200]>"
      ]
     },
     "execution_count": 29,
     "metadata": {},
     "output_type": "execute_result"
    }
   ],
   "source": [
    "resp_insert_one"
   ]
  },
  {
   "cell_type": "code",
   "execution_count": 30,
   "id": "edfb8e34-ab9a-4448-8ef3-a3eb6e6de084",
   "metadata": {},
   "outputs": [
    {
     "name": "stdout",
     "output_type": "stream",
     "text": [
      "{'success': True}\n"
     ]
    }
   ],
   "source": [
    "print(resp_insert_one.json())"
   ]
  },
  {
   "cell_type": "code",
   "execution_count": 31,
   "id": "69b2fd29-6a44-4135-bbf1-8307382d69e8",
   "metadata": {},
   "outputs": [
    {
     "data": {
      "text/plain": [
       "1"
      ]
     },
     "execution_count": 31,
     "metadata": {},
     "output_type": "execute_result"
    }
   ],
   "source": [
    "# How many documents matching the query now?\n",
    "resp_find = requests.get(\n",
    "    str(get_url(AppRouteEnum.FIND.value)),\n",
    "    json={'query': query},\n",
    ")\n",
    "# How many documents match the query? (please keep ini mind this may be slow with a large database)\n",
    "len(resp_find.json())"
   ]
  },
  {
   "cell_type": "code",
   "execution_count": 32,
   "id": "33305498",
   "metadata": {},
   "outputs": [],
   "source": [
    "resp_del_many = requests.delete(\n",
    "    str(get_url(AppRouteEnum.DELETE_MANY.value)),\n",
    "    json={'query': query},\n",
    ")"
   ]
  },
  {
   "cell_type": "code",
   "execution_count": 33,
   "id": "13cb2df3-0019-428b-a2e4-8bdef5f473ec",
   "metadata": {},
   "outputs": [
    {
     "data": {
      "text/plain": [
       "'{\\n  \"success\": true\\n}\\n'"
      ]
     },
     "execution_count": 33,
     "metadata": {},
     "output_type": "execute_result"
    }
   ],
   "source": [
    "resp_del_many.text"
   ]
  },
  {
   "cell_type": "code",
   "execution_count": 34,
   "id": "91d458a7-55b8-4e7d-91bb-3c87ad74cf5a",
   "metadata": {},
   "outputs": [
    {
     "data": {
      "text/plain": [
       "0"
      ]
     },
     "execution_count": 34,
     "metadata": {},
     "output_type": "execute_result"
    }
   ],
   "source": [
    "# How many now?\n",
    "resp_find = requests.get(\n",
    "    str(get_url(AppRouteEnum.FIND.value)),\n",
    "    json={'query': query},\n",
    ")\n",
    "# How many documents match the query? (please keep ini mind this may be slow with a large database)\n",
    "len(resp_find.json())"
   ]
  },
  {
   "cell_type": "code",
   "execution_count": null,
   "id": "c37caf8c-fac2-42c4-a01e-be363939f1d0",
   "metadata": {},
   "outputs": [],
   "source": [
    "# Now, let's try to add a whole playlist to the database!\n",
    "# Again we'll be working with code from week09/class_demo.ipynb"
   ]
  },
  {
   "cell_type": "code",
   "execution_count": 37,
   "id": "266327a1-d9a4-45e2-a8e4-c76175f5ea01",
   "metadata": {},
   "outputs": [],
   "source": [
    "# from week09/class_demo.ipynb\n",
    "# playlist url\n",
    "# https://open.spotify.com/playlist/37i9dQZF1DX7iB3RCnBnN4?si=9d199f5212064db7\n",
    "PLAYLIST_ID = '37i9dQZF1DX7iB3RCnBnN4'\n",
    "playlist_info = sp.playlist(PLAYLIST_ID)"
   ]
  },
  {
   "cell_type": "code",
   "execution_count": 38,
   "id": "51632a40-1b28-42c8-933b-7cea0ec1a856",
   "metadata": {},
   "outputs": [],
   "source": [
    "# get the tracks info from the playlist data\n",
    "\n",
    "tracks = playlist_info['tracks']"
   ]
  },
  {
   "cell_type": "code",
   "execution_count": 39,
   "id": "9bf4514e-c46a-4907-b64f-c3b030d99b34",
   "metadata": {},
   "outputs": [],
   "source": [
    "# spotipy returns tracks info on pages, max 100 results at once\n",
    "# You can iterate over \"pages\", using the \"next\" key\n",
    "# reference:\n",
    "# https://stackoverflow.com/questions/39086287/spotipy-how-to-read-more-than-100-tracks-from-a-playlist\n",
    "playlist_data = []\n",
    "\n",
    "while tracks['next']:\n",
    "    tracks = sp.next(tracks)\n",
    "    playlist_data.extend(tracks['items'])"
   ]
  },
  {
   "cell_type": "code",
   "execution_count": 40,
   "id": "47d68e71-6c04-4103-aaf6-f77bf1601a70",
   "metadata": {},
   "outputs": [
    {
     "data": {
      "text/plain": [
       "531"
      ]
     },
     "execution_count": 40,
     "metadata": {},
     "output_type": "execute_result"
    }
   ],
   "source": [
    "len(playlist_data)"
   ]
  },
  {
   "cell_type": "code",
   "execution_count": 41,
   "id": "f61f1584-d2d1-425d-9953-ac1565585e95",
   "metadata": {},
   "outputs": [],
   "source": [
    "playlist_info = [\n",
    "    get_track_info(track_data['track'])\n",
    "    for track_data in playlist_data\n",
    "]"
   ]
  },
  {
   "cell_type": "code",
   "execution_count": 42,
   "id": "c11c2e83-a5e0-4128-ba17-32bc85b3453c",
   "metadata": {},
   "outputs": [
    {
     "data": {
      "text/plain": [
       "531"
      ]
     },
     "execution_count": 42,
     "metadata": {},
     "output_type": "execute_result"
    }
   ],
   "source": [
    "len(playlist_info)"
   ]
  },
  {
   "cell_type": "code",
   "execution_count": 43,
   "id": "3e4c12be-9f49-4cb8-bf38-05bf039abbdc",
   "metadata": {},
   "outputs": [
    {
     "data": {
      "text/plain": [
       "{'artists': ['Adele'],\n",
       " 'spotify_id': '4sPmO7WMQUAf45kwMOtONw',\n",
       " 'name': 'Hello',\n",
       " 'release_year': '2016',\n",
       " 'spotify_url': 'https://open.spotify.com/track/4sPmO7WMQUAf45kwMOtONw'}"
      ]
     },
     "execution_count": 43,
     "metadata": {},
     "output_type": "execute_result"
    }
   ],
   "source": [
    "# Let's see the last entry\n",
    "playlist_info[-1]"
   ]
  },
  {
   "cell_type": "code",
   "execution_count": 44,
   "id": "66043233-1179-40c7-9aed-9160e1ee1406",
   "metadata": {},
   "outputs": [],
   "source": [
    "# Now, let's try to add the same document again, using the POST request\n",
    "resp_insert_many = requests.post(\n",
    "    str(get_url(AppRouteEnum.INSERT_MANY.value)),\n",
    "    json={'data': playlist_info},\n",
    ")"
   ]
  },
  {
   "cell_type": "code",
   "execution_count": 45,
   "id": "83ac10da-2f2c-473f-8ead-7dbe67caf2ac",
   "metadata": {},
   "outputs": [
    {
     "data": {
      "text/plain": [
       "531"
      ]
     },
     "execution_count": 45,
     "metadata": {},
     "output_type": "execute_result"
    }
   ],
   "source": [
    "# How many documents matching the query now?\n",
    "resp_find = requests.get(\n",
    "    str(get_url(AppRouteEnum.FIND.value)),\n",
    "    json={'query': {}},\n",
    ")\n",
    "# How many documents match the query? (please keep ini mind this may be slow with a large database)\n",
    "len(resp_find.json())"
   ]
  },
  {
   "cell_type": "code",
   "execution_count": 1,
   "id": "ba911183-9ed9-47bd-a554-c6f4311ebed0",
   "metadata": {},
   "outputs": [],
   "source": [
    "# Now, we're going back to pymongo for a bit, without the Flask API."
   ]
  },
  {
   "cell_type": "code",
   "execution_count": null,
   "id": "73511f26-9b78-4dbb-ae6a-2f3029323a08",
   "metadata": {},
   "outputs": [],
   "source": [
    "resp_insert_one"
   ]
  },
  {
   "cell_type": "code",
   "execution_count": 46,
   "id": "d3436cda-f166-47e2-96ef-2cee1707e010",
   "metadata": {},
   "outputs": [
    {
     "data": {
      "text/plain": [
       "531"
      ]
     },
     "execution_count": 46,
     "metadata": {},
     "output_type": "execute_result"
    }
   ],
   "source": [
    "db.favSongs.count_documents({})"
   ]
  },
  {
   "cell_type": "code",
   "execution_count": 47,
   "id": "f1404fd3-0c20-40a2-8ecf-fe3fdbfaa006",
   "metadata": {},
   "outputs": [
    {
     "data": {
      "text/plain": [
       "2"
      ]
     },
     "execution_count": 47,
     "metadata": {},
     "output_type": "execute_result"
    }
   ],
   "source": [
    "db.favSongs.count_documents({'release_year': '2000'})"
   ]
  },
  {
   "cell_type": "code",
   "execution_count": 48,
   "id": "fa280bf9-10ca-4ff8-9259-6faadd8953fc",
   "metadata": {},
   "outputs": [
    {
     "data": {
      "text/plain": [
       "{'_id': ObjectId('663d25770101c5c3e4f3c3f4'),\n",
       " 'artists': ['Bing Crosby',\n",
       "  'Ken Darby Singers',\n",
       "  'John Scott Trotter & His Orchestra'],\n",
       " 'spotify_id': '4so0Wek9Ig1p6CRCHuINwW',\n",
       " 'name': 'White Christmas - 1947 Version',\n",
       " 'release_year': '1942',\n",
       " 'spotify_url': 'https://open.spotify.com/track/4so0Wek9Ig1p6CRCHuINwW'}"
      ]
     },
     "execution_count": 48,
     "metadata": {},
     "output_type": "execute_result"
    }
   ],
   "source": [
    "# Let's see the oldest song\n",
    "db.favSongs.find_one(sort=[('release_year', pymongo.ASCENDING)])"
   ]
  },
  {
   "cell_type": "code",
   "execution_count": 49,
   "id": "11fafdcd-a97e-41d8-9c34-e5c23c5d3f6b",
   "metadata": {},
   "outputs": [
    {
     "data": {
      "text/plain": [
       "{'_id': ObjectId('663d25770101c5c3e4f3c2b8'),\n",
       " 'artists': ['Jung Kook', 'Latto'],\n",
       " 'spotify_id': '7x9aauaA9cu6tyfpHnqDLo',\n",
       " 'name': 'Seven (feat. Latto)',\n",
       " 'release_year': '2023',\n",
       " 'spotify_url': 'https://open.spotify.com/track/7x9aauaA9cu6tyfpHnqDLo'}"
      ]
     },
     "execution_count": 49,
     "metadata": {},
     "output_type": "execute_result"
    }
   ],
   "source": [
    "# Let's see the most recent song\n",
    "db.favSongs.find_one(sort=[('release_year', pymongo.DESCENDING)])"
   ]
  },
  {
   "cell_type": "code",
   "execution_count": 50,
   "id": "9d2cc014-8099-4789-a8c6-981fcb34085d",
   "metadata": {},
   "outputs": [
    {
     "data": {
      "text/plain": [
       "{'_id': ObjectId('663d25770101c5c3e4f3c25b'),\n",
       " 'artists': ['Eminem', 'Rihanna'],\n",
       " 'spotify_id': '15JINEqzVMv3SvJTAXAKED',\n",
       " 'name': 'Love The Way You Lie',\n",
       " 'release_year': '2010',\n",
       " 'spotify_url': 'https://open.spotify.com/track/15JINEqzVMv3SvJTAXAKED'}"
      ]
     },
     "execution_count": 50,
     "metadata": {},
     "output_type": "execute_result"
    }
   ],
   "source": [
    "# Let's find all songs by Rihanna\n",
    "cursor = db.favSongs.find({'artists': 'Rihanna'})\n",
    "cursor[0]"
   ]
  },
  {
   "cell_type": "code",
   "execution_count": 51,
   "id": "1b720170-88e6-40eb-b408-29889fd8005d",
   "metadata": {},
   "outputs": [
    {
     "data": {
      "text/plain": [
       "13"
      ]
     },
     "execution_count": 51,
     "metadata": {},
     "output_type": "execute_result"
    }
   ],
   "source": [
    "cursor_count = len(list(cursor))\n",
    "cursor_count"
   ]
  },
  {
   "cell_type": "code",
   "execution_count": null,
   "id": "366c545b-978c-4cf4-b0cc-9244c76ddaa9",
   "metadata": {},
   "outputs": [],
   "source": [
    "# delete all data from the collection\n",
    "# db.favSongs.delete_many({})"
   ]
  },
  {
   "cell_type": "code",
   "execution_count": null,
   "id": "a069b87b-4648-42fc-b58e-cbde8a19213c",
   "metadata": {},
   "outputs": [],
   "source": [
    "# Exercise:\n",
    "# Can you add the \"find minimum\" / \"find maximum\" functionality\n",
    "# to the Flask app and interact with it through the API?"
   ]
  }
 ],
 "metadata": {
  "kernelspec": {
   "display_name": "Python 3 (ipykernel)",
   "language": "python",
   "name": "python3"
  },
  "language_info": {
   "codemirror_mode": {
    "name": "ipython",
    "version": 3
   },
   "file_extension": ".py",
   "mimetype": "text/x-python",
   "name": "python",
   "nbconvert_exporter": "python",
   "pygments_lexer": "ipython3",
   "version": "3.11.7"
  }
 },
 "nbformat": 4,
 "nbformat_minor": 5
}
